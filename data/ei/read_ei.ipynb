{
 "cells": [
  {
   "cell_type": "code",
   "execution_count": 1,
   "id": "d78dc85af3a3bd27",
   "metadata": {
    "jupyter": {
     "is_executing": true
    }
   },
   "outputs": [],
   "source": [
    "import os\n",
    "import numpy as np\n",
    "import pandas as pd\n",
    "import matplotlib.pyplot as plt"
   ]
  },
  {
   "cell_type": "code",
   "execution_count": 2,
   "id": "9d4ddf538664bcff",
   "metadata": {},
   "outputs": [],
   "source": [
    "eidb = pd.read_excel(\"Database-Overview-for-ecoinvent-v3.9.1-9.xlsx\", sheet_name =  \"Cut-Off AO\") #Cut-Off AO"
   ]
  },
  {
   "cell_type": "code",
   "execution_count": 3,
   "id": "cd6c1885a15a6026",
   "metadata": {},
   "outputs": [
    {
     "data": {
      "text/html": [
       "<div>\n",
       "<style scoped>\n",
       "    .dataframe tbody tr th:only-of-type {\n",
       "        vertical-align: middle;\n",
       "    }\n",
       "\n",
       "    .dataframe tbody tr th {\n",
       "        vertical-align: top;\n",
       "    }\n",
       "\n",
       "    .dataframe thead th {\n",
       "        text-align: right;\n",
       "    }\n",
       "</style>\n",
       "<table border=\"1\" class=\"dataframe\">\n",
       "  <thead>\n",
       "    <tr style=\"text-align: right;\">\n",
       "      <th></th>\n",
       "      <th>Activity UUID &amp; Product UUID</th>\n",
       "      <th>Activity UUID</th>\n",
       "      <th>EcoQuery URL</th>\n",
       "      <th>Activity Name</th>\n",
       "      <th>Geography</th>\n",
       "      <th>Time Period</th>\n",
       "      <th>Special Activity Type</th>\n",
       "      <th>Sector</th>\n",
       "      <th>ISIC Classification</th>\n",
       "      <th>ISIC Section</th>\n",
       "      <th>Product UUID</th>\n",
       "      <th>Reference Product Name</th>\n",
       "      <th>CPC Classification</th>\n",
       "      <th>Unit</th>\n",
       "      <th>Product Information</th>\n",
       "      <th>CAS Number</th>\n",
       "      <th>Cut-Off Classification</th>\n",
       "    </tr>\n",
       "  </thead>\n",
       "  <tbody>\n",
       "    <tr>\n",
       "      <th>0</th>\n",
       "      <td>dabb3812-eee9-5d2b-bc23-0f9a38e6f71e_bded6c5a-...</td>\n",
       "      <td>dabb3812-eee9-5d2b-bc23-0f9a38e6f71e</td>\n",
       "      <td>https://v391.ecoquery.ecoinvent.org/Details/UP...</td>\n",
       "      <td>bark chips, wet, measured as dry mass to gener...</td>\n",
       "      <td>CH</td>\n",
       "      <td>2014 - 2022</td>\n",
       "      <td>ordinary transforming activity</td>\n",
       "      <td>Wood</td>\n",
       "      <td>1610:Sawmilling and planing of wood</td>\n",
       "      <td>C - Manufacturing</td>\n",
       "      <td>bded6c5a-4dca-497e-bdd9-fcd343012087</td>\n",
       "      <td>residual hardwood, wet</td>\n",
       "      <td>39283: Non-agglomerated wood waste and scrap</td>\n",
       "      <td>m3</td>\n",
       "      <td>The product 'residual hardwood, wet' represent...</td>\n",
       "      <td>NaN</td>\n",
       "      <td>allocatable product</td>\n",
       "    </tr>\n",
       "    <tr>\n",
       "      <th>1</th>\n",
       "      <td>3b34f2a3-abfb-5681-ac78-60c8fada5b16_61c1d37e-...</td>\n",
       "      <td>3b34f2a3-abfb-5681-ac78-60c8fada5b16</td>\n",
       "      <td>https://v391.ecoquery.ecoinvent.org/Details/UP...</td>\n",
       "      <td>market for nitrous oxide</td>\n",
       "      <td>GLO</td>\n",
       "      <td>2010 - 2022</td>\n",
       "      <td>market activity</td>\n",
       "      <td>Chemicals</td>\n",
       "      <td>2011:Manufacture of basic chemicals</td>\n",
       "      <td>C - Manufacturing</td>\n",
       "      <td>61c1d37e-ad50-4159-b379-cfe3976720bf</td>\n",
       "      <td>nitrous oxide</td>\n",
       "      <td>342: Basic inorganic chemicals n.e.c.</td>\n",
       "      <td>kg</td>\n",
       "      <td>'nitrous oxide' is an organic substance with a...</td>\n",
       "      <td>010024-97-2</td>\n",
       "      <td>allocatable product</td>\n",
       "    </tr>\n",
       "    <tr>\n",
       "      <th>2</th>\n",
       "      <td>3a2ab192-109a-5fa4-b9d9-7ed5421ce5c6_dfaef357-...</td>\n",
       "      <td>3a2ab192-109a-5fa4-b9d9-7ed5421ce5c6</td>\n",
       "      <td>https://v391.ecoquery.ecoinvent.org/Details/UP...</td>\n",
       "      <td>market for sawdust, wet, measured as dry mass</td>\n",
       "      <td>CH</td>\n",
       "      <td>2019 - 2022</td>\n",
       "      <td>market activity</td>\n",
       "      <td>Wood</td>\n",
       "      <td>1610:Sawmilling and planing of wood</td>\n",
       "      <td>C - Manufacturing</td>\n",
       "      <td>dfaef357-a79e-4846-aabc-848b1ab59fbb</td>\n",
       "      <td>sawdust, wet, measured as dry mass</td>\n",
       "      <td>3928: Sawdust and wood waste and scrap</td>\n",
       "      <td>kg</td>\n",
       "      <td>Sawdust is a by-product from the sawing proces...</td>\n",
       "      <td>NaN</td>\n",
       "      <td>allocatable product</td>\n",
       "    </tr>\n",
       "    <tr>\n",
       "      <th>3</th>\n",
       "      <td>16e0e4f7-a44f-55d5-ae85-b2a614f42095_d5d05133-...</td>\n",
       "      <td>16e0e4f7-a44f-55d5-ae85-b2a614f42095</td>\n",
       "      <td>https://v391.ecoquery.ecoinvent.org/Details/UP...</td>\n",
       "      <td>market for sewage sludge, 70% water, WWT, WW f...</td>\n",
       "      <td>CH</td>\n",
       "      <td>2010 - 2022</td>\n",
       "      <td>market activity</td>\n",
       "      <td>Waste Treatment &amp; Recycling</td>\n",
       "      <td>3821:Treatment and disposal of non-hazardous w...</td>\n",
       "      <td>E - Water supply; sewerage, waste management a...</td>\n",
       "      <td>d5d05133-2092-451a-b9fa-c782a6ce3786</td>\n",
       "      <td>sewage sludge, 70% water, WWT, WW from maize s...</td>\n",
       "      <td>39920: Sewage sludge</td>\n",
       "      <td>kg</td>\n",
       "      <td>'sewage sludge, 70% water, WWT, WW from maize ...</td>\n",
       "      <td>NaN</td>\n",
       "      <td>Waste</td>\n",
       "    </tr>\n",
       "    <tr>\n",
       "      <th>4</th>\n",
       "      <td>732c6740-c4fb-598d-89a0-f8d0a443913f_0d84cdfe-...</td>\n",
       "      <td>732c6740-c4fb-598d-89a0-f8d0a443913f</td>\n",
       "      <td>https://v391.ecoquery.ecoinvent.org/Details/UP...</td>\n",
       "      <td>phenolic resin production</td>\n",
       "      <td>RER</td>\n",
       "      <td>2000 - 2022</td>\n",
       "      <td>ordinary transforming activity</td>\n",
       "      <td>Chemicals</td>\n",
       "      <td>2013:Manufacture of plastics and synthetic rub...</td>\n",
       "      <td>C - Manufacturing</td>\n",
       "      <td>0d84cdfe-bcf2-4821-8f34-d93b9f611c11</td>\n",
       "      <td>phenolic resin</td>\n",
       "      <td>34790: Other plastics in primary forms; ion ex...</td>\n",
       "      <td>kg</td>\n",
       "      <td>'phenolic resin', is a plastic product of foss...</td>\n",
       "      <td>NaN</td>\n",
       "      <td>allocatable product</td>\n",
       "    </tr>\n",
       "  </tbody>\n",
       "</table>\n",
       "</div>"
      ],
      "text/plain": [
       "                        Activity UUID & Product UUID  \\\n",
       "0  dabb3812-eee9-5d2b-bc23-0f9a38e6f71e_bded6c5a-...   \n",
       "1  3b34f2a3-abfb-5681-ac78-60c8fada5b16_61c1d37e-...   \n",
       "2  3a2ab192-109a-5fa4-b9d9-7ed5421ce5c6_dfaef357-...   \n",
       "3  16e0e4f7-a44f-55d5-ae85-b2a614f42095_d5d05133-...   \n",
       "4  732c6740-c4fb-598d-89a0-f8d0a443913f_0d84cdfe-...   \n",
       "\n",
       "                          Activity UUID  \\\n",
       "0  dabb3812-eee9-5d2b-bc23-0f9a38e6f71e   \n",
       "1  3b34f2a3-abfb-5681-ac78-60c8fada5b16   \n",
       "2  3a2ab192-109a-5fa4-b9d9-7ed5421ce5c6   \n",
       "3  16e0e4f7-a44f-55d5-ae85-b2a614f42095   \n",
       "4  732c6740-c4fb-598d-89a0-f8d0a443913f   \n",
       "\n",
       "                                        EcoQuery URL  \\\n",
       "0  https://v391.ecoquery.ecoinvent.org/Details/UP...   \n",
       "1  https://v391.ecoquery.ecoinvent.org/Details/UP...   \n",
       "2  https://v391.ecoquery.ecoinvent.org/Details/UP...   \n",
       "3  https://v391.ecoquery.ecoinvent.org/Details/UP...   \n",
       "4  https://v391.ecoquery.ecoinvent.org/Details/UP...   \n",
       "\n",
       "                                       Activity Name Geography  Time Period  \\\n",
       "0  bark chips, wet, measured as dry mass to gener...        CH  2014 - 2022   \n",
       "1                           market for nitrous oxide       GLO  2010 - 2022   \n",
       "2      market for sawdust, wet, measured as dry mass        CH  2019 - 2022   \n",
       "3  market for sewage sludge, 70% water, WWT, WW f...        CH  2010 - 2022   \n",
       "4                          phenolic resin production       RER  2000 - 2022   \n",
       "\n",
       "            Special Activity Type                       Sector  \\\n",
       "0  ordinary transforming activity                         Wood   \n",
       "1                 market activity                    Chemicals   \n",
       "2                 market activity                         Wood   \n",
       "3                 market activity  Waste Treatment & Recycling   \n",
       "4  ordinary transforming activity                    Chemicals   \n",
       "\n",
       "                                 ISIC Classification  \\\n",
       "0                1610:Sawmilling and planing of wood   \n",
       "1                2011:Manufacture of basic chemicals   \n",
       "2                1610:Sawmilling and planing of wood   \n",
       "3  3821:Treatment and disposal of non-hazardous w...   \n",
       "4  2013:Manufacture of plastics and synthetic rub...   \n",
       "\n",
       "                                        ISIC Section  \\\n",
       "0                                  C - Manufacturing   \n",
       "1                                  C - Manufacturing   \n",
       "2                                  C - Manufacturing   \n",
       "3  E - Water supply; sewerage, waste management a...   \n",
       "4                                  C - Manufacturing   \n",
       "\n",
       "                           Product UUID  \\\n",
       "0  bded6c5a-4dca-497e-bdd9-fcd343012087   \n",
       "1  61c1d37e-ad50-4159-b379-cfe3976720bf   \n",
       "2  dfaef357-a79e-4846-aabc-848b1ab59fbb   \n",
       "3  d5d05133-2092-451a-b9fa-c782a6ce3786   \n",
       "4  0d84cdfe-bcf2-4821-8f34-d93b9f611c11   \n",
       "\n",
       "                              Reference Product Name  \\\n",
       "0                             residual hardwood, wet   \n",
       "1                                      nitrous oxide   \n",
       "2                 sawdust, wet, measured as dry mass   \n",
       "3  sewage sludge, 70% water, WWT, WW from maize s...   \n",
       "4                                     phenolic resin   \n",
       "\n",
       "                                  CPC Classification Unit  \\\n",
       "0       39283: Non-agglomerated wood waste and scrap   m3   \n",
       "1              342: Basic inorganic chemicals n.e.c.   kg   \n",
       "2             3928: Sawdust and wood waste and scrap   kg   \n",
       "3                               39920: Sewage sludge   kg   \n",
       "4  34790: Other plastics in primary forms; ion ex...   kg   \n",
       "\n",
       "                                 Product Information   CAS Number  \\\n",
       "0  The product 'residual hardwood, wet' represent...          NaN   \n",
       "1  'nitrous oxide' is an organic substance with a...  010024-97-2   \n",
       "2  Sawdust is a by-product from the sawing proces...          NaN   \n",
       "3  'sewage sludge, 70% water, WWT, WW from maize ...          NaN   \n",
       "4  'phenolic resin', is a plastic product of foss...          NaN   \n",
       "\n",
       "  Cut-Off Classification  \n",
       "0    allocatable product  \n",
       "1    allocatable product  \n",
       "2    allocatable product  \n",
       "3                  Waste  \n",
       "4    allocatable product  "
      ]
     },
     "execution_count": 3,
     "metadata": {},
     "output_type": "execute_result"
    }
   ],
   "source": [
    "eidb.head()"
   ]
  },
  {
   "cell_type": "code",
   "execution_count": 4,
   "id": "31bb59b3-af26-4afc-8f45-60e02e05798e",
   "metadata": {},
   "outputs": [
    {
     "data": {
      "text/plain": [
       "3726"
      ]
     },
     "execution_count": 4,
     "metadata": {},
     "output_type": "execute_result"
    }
   ],
   "source": [
    "eidb_elec = eidb[eidb[\"ISIC Classification\"].str.contains(\"3510:Electric power generation, transmission and distribution\")] \n",
    "len(eidb_elec)"
   ]
  },
  {
   "cell_type": "code",
   "execution_count": 5,
   "id": "baa1665f-97af-4b8c-b6e2-18d304e0bad0",
   "metadata": {},
   "outputs": [
    {
     "ename": "TypeError",
     "evalue": "'<' not supported between instances of 'float' and 'str'",
     "output_type": "error",
     "traceback": [
      "\u001b[0;31m---------------------------------------------------------------------------\u001b[0m",
      "\u001b[0;31mTypeError\u001b[0m                                 Traceback (most recent call last)",
      "Cell \u001b[0;32mIn[5], line 1\u001b[0m\n\u001b[0;32m----> 1\u001b[0m \u001b[43mnp\u001b[49m\u001b[38;5;241;43m.\u001b[39;49m\u001b[43munique\u001b[49m\u001b[43m(\u001b[49m\u001b[43meidb_elec\u001b[49m\u001b[43m[\u001b[49m\u001b[38;5;124;43m\"\u001b[39;49m\u001b[38;5;124;43mGeography\u001b[39;49m\u001b[38;5;124;43m\"\u001b[39;49m\u001b[43m]\u001b[49m\u001b[43m)\u001b[49m\n",
      "File \u001b[0;32m~/miniconda3/envs/bw2_dds2024_elec/lib/python3.10/site-packages/numpy/lib/arraysetops.py:274\u001b[0m, in \u001b[0;36munique\u001b[0;34m(ar, return_index, return_inverse, return_counts, axis, equal_nan)\u001b[0m\n\u001b[1;32m    272\u001b[0m ar \u001b[38;5;241m=\u001b[39m np\u001b[38;5;241m.\u001b[39masanyarray(ar)\n\u001b[1;32m    273\u001b[0m \u001b[38;5;28;01mif\u001b[39;00m axis \u001b[38;5;129;01mis\u001b[39;00m \u001b[38;5;28;01mNone\u001b[39;00m:\n\u001b[0;32m--> 274\u001b[0m     ret \u001b[38;5;241m=\u001b[39m \u001b[43m_unique1d\u001b[49m\u001b[43m(\u001b[49m\u001b[43mar\u001b[49m\u001b[43m,\u001b[49m\u001b[43m \u001b[49m\u001b[43mreturn_index\u001b[49m\u001b[43m,\u001b[49m\u001b[43m \u001b[49m\u001b[43mreturn_inverse\u001b[49m\u001b[43m,\u001b[49m\u001b[43m \u001b[49m\u001b[43mreturn_counts\u001b[49m\u001b[43m,\u001b[49m\u001b[43m \u001b[49m\n\u001b[1;32m    275\u001b[0m \u001b[43m                    \u001b[49m\u001b[43mequal_nan\u001b[49m\u001b[38;5;241;43m=\u001b[39;49m\u001b[43mequal_nan\u001b[49m\u001b[43m)\u001b[49m\n\u001b[1;32m    276\u001b[0m     \u001b[38;5;28;01mreturn\u001b[39;00m _unpack_tuple(ret)\n\u001b[1;32m    278\u001b[0m \u001b[38;5;66;03m# axis was specified and not None\u001b[39;00m\n",
      "File \u001b[0;32m~/miniconda3/envs/bw2_dds2024_elec/lib/python3.10/site-packages/numpy/lib/arraysetops.py:336\u001b[0m, in \u001b[0;36m_unique1d\u001b[0;34m(ar, return_index, return_inverse, return_counts, equal_nan)\u001b[0m\n\u001b[1;32m    334\u001b[0m     aux \u001b[38;5;241m=\u001b[39m ar[perm]\n\u001b[1;32m    335\u001b[0m \u001b[38;5;28;01melse\u001b[39;00m:\n\u001b[0;32m--> 336\u001b[0m     \u001b[43mar\u001b[49m\u001b[38;5;241;43m.\u001b[39;49m\u001b[43msort\u001b[49m\u001b[43m(\u001b[49m\u001b[43m)\u001b[49m\n\u001b[1;32m    337\u001b[0m     aux \u001b[38;5;241m=\u001b[39m ar\n\u001b[1;32m    338\u001b[0m mask \u001b[38;5;241m=\u001b[39m np\u001b[38;5;241m.\u001b[39mempty(aux\u001b[38;5;241m.\u001b[39mshape, dtype\u001b[38;5;241m=\u001b[39mnp\u001b[38;5;241m.\u001b[39mbool_)\n",
      "\u001b[0;31mTypeError\u001b[0m: '<' not supported between instances of 'float' and 'str'"
     ]
    }
   ],
   "source": [
    "np.unique(eidb_elec[\"Geography\"])"
   ]
  },
  {
   "cell_type": "code",
   "execution_count": 11,
   "id": "d856ef57-963b-474e-b304-ba30c1bdae5e",
   "metadata": {},
   "outputs": [
    {
     "data": {
      "text/plain": [
       "265"
      ]
     },
     "execution_count": 11,
     "metadata": {},
     "output_type": "execute_result"
    }
   ],
   "source": [
    "allloc = []\n",
    "for x in eidb_elec[\"Geography\"]:\n",
    "    allloc.append(x)\n",
    "\n",
    "loc = np.unique(np.array(allloc))\n",
    "len(loc)"
   ]
  },
  {
   "cell_type": "code",
   "execution_count": 12,
   "id": "063ff316-2e45-4054-9ea8-90fb6bb3bc00",
   "metadata": {},
   "outputs": [],
   "source": [
    "eidb_elec_prod_h = eidb_elec[ (eidb_elec[\"Reference Product Name\"] == \"electricity, high voltage\") &  (eidb_elec[\"Special Activity Type\"] == \"ordinary transforming activity\")] "
   ]
  },
  {
   "cell_type": "code",
   "execution_count": 16,
   "id": "d9e1d1f5-75c4-439c-b96a-81ed2f885ee5",
   "metadata": {},
   "outputs": [],
   "source": [
    "eidb_elec_prod_h = eidb_elec_prod_h[ - eidb_elec_prod_h[\"Activity Name\"].str.contains(\"import\")  ] "
   ]
  },
  {
   "cell_type": "code",
   "execution_count": 17,
   "id": "06b29c12-f9d0-4503-b9c8-7c24b6964592",
   "metadata": {},
   "outputs": [
    {
     "data": {
      "text/plain": [
       "array(['electricity production, compressed air energy storage',\n",
       "       'electricity production, compressed air energy storage, adiabatic',\n",
       "       'electricity production, deep geothermal',\n",
       "       'electricity production, hard coal',\n",
       "       'electricity production, hard coal, conventional',\n",
       "       'electricity production, hard coal, supercritical',\n",
       "       'electricity production, hydro, pumped storage',\n",
       "       'electricity production, hydro, reservoir, alpine region',\n",
       "       'electricity production, hydro, reservoir, non-alpine region',\n",
       "       'electricity production, hydro, reservoir, tropical region',\n",
       "       'electricity production, hydro, run-of-river',\n",
       "       'electricity production, lignite',\n",
       "       'electricity production, natural gas, 10MW',\n",
       "       'electricity production, natural gas, combined cycle power plant',\n",
       "       'electricity production, natural gas, conventional power plant',\n",
       "       'electricity production, nuclear, boiling water reactor',\n",
       "       'electricity production, nuclear, pressure water reactor',\n",
       "       'electricity production, nuclear, pressure water reactor, heavy water moderated',\n",
       "       'electricity production, oil', 'electricity production, peat',\n",
       "       'electricity production, solar thermal parabolic trough, 50 MW',\n",
       "       'electricity production, solar tower power plant, 20 MW',\n",
       "       'electricity production, wind, 1-3MW turbine, offshore',\n",
       "       'electricity production, wind, 1-3MW turbine, onshore',\n",
       "       'electricity production, wind, 2.3MW turbine, precast concrete tower, onshore',\n",
       "       'electricity production, wind, <1MW turbine, onshore',\n",
       "       'electricity production, wind, >3MW turbine, onshore',\n",
       "       'electricity, high voltage, European attribute mix',\n",
       "       'electricity, high voltage, residual mix',\n",
       "       'heat and power co-generation, hard coal',\n",
       "       'heat and power co-generation, lignite',\n",
       "       'heat and power co-generation, natural gas, combined cycle power plant, 400MW electrical',\n",
       "       'heat and power co-generation, natural gas, conventional power plant, 100MW electrical',\n",
       "       'heat and power co-generation, oil',\n",
       "       'treatment of blast furnace gas, in power plant',\n",
       "       'treatment of coal gas, in power plant'], dtype=object)"
      ]
     },
     "execution_count": 17,
     "metadata": {},
     "output_type": "execute_result"
    }
   ],
   "source": [
    "np.unique(eidb_elec_prod_h[\"Activity Name\"])"
   ]
  },
  {
   "cell_type": "code",
   "execution_count": 18,
   "id": "a868e2f7-e799-4e1e-9160-5cd4a1e1af54",
   "metadata": {},
   "outputs": [],
   "source": [
    "eidb_elec_prod_l = eidb_elec[ (eidb_elec[\"Reference Product Name\"] == \"electricity, low voltage\") &  (eidb_elec[\"Special Activity Type\"] == \"ordinary transforming activity\")] "
   ]
  },
  {
   "cell_type": "code",
   "execution_count": 19,
   "id": "0e812b7b-f301-46e3-9fe2-2742fa51f978",
   "metadata": {},
   "outputs": [
    {
     "data": {
      "text/plain": [
       "array(['electricity production, photovoltaic, 3kWp facade installation, multi-Si, laminated, integrated',\n",
       "       'electricity production, photovoltaic, 3kWp facade installation, multi-Si, panel, mounted',\n",
       "       'electricity production, photovoltaic, 3kWp facade installation, single-Si, laminated, integrated',\n",
       "       'electricity production, photovoltaic, 3kWp facade installation, single-Si, panel, mounted',\n",
       "       'electricity production, photovoltaic, 3kWp flat-roof installation, multi-Si',\n",
       "       'electricity production, photovoltaic, 3kWp flat-roof installation, single-Si',\n",
       "       'electricity production, photovoltaic, 3kWp slanted-roof installation, CIS, panel, mounted',\n",
       "       'electricity production, photovoltaic, 3kWp slanted-roof installation, CdTe, laminated, integrated',\n",
       "       'electricity production, photovoltaic, 3kWp slanted-roof installation, a-Si, laminated, integrated',\n",
       "       'electricity production, photovoltaic, 3kWp slanted-roof installation, a-Si, panel, mounted',\n",
       "       'electricity production, photovoltaic, 3kWp slanted-roof installation, multi-Si, laminated, integrated',\n",
       "       'electricity production, photovoltaic, 3kWp slanted-roof installation, multi-Si, panel, mounted',\n",
       "       'electricity production, photovoltaic, 3kWp slanted-roof installation, ribbon-Si, laminated, integrated',\n",
       "       'electricity production, photovoltaic, 3kWp slanted-roof installation, ribbon-Si, panel, mounted',\n",
       "       'electricity production, photovoltaic, 3kWp slanted-roof installation, single-Si, laminated, integrated',\n",
       "       'electricity production, photovoltaic, 3kWp slanted-roof installation, single-Si, panel, mounted',\n",
       "       'electricity production, photovoltaic, 570kWp open ground installation, multi-Si',\n",
       "       'electricity voltage transformation from medium to low voltage',\n",
       "       'electricity voltage transformation, residual mix, from medium to low voltage',\n",
       "       'electricity, low voltage, European attribute mix',\n",
       "       'electricity, low voltage, photovoltaic, import from Germany',\n",
       "       'electricity, low voltage, residual mix',\n",
       "       'natural gas, burned in micro gas turbine, 100kWe',\n",
       "       'natural gas, burned in polymer electrolyte membrane fuel cell 2kWe, future',\n",
       "       'natural gas, burned in solid oxide fuel cell 125kWe, future',\n",
       "       'natural gas, burned in solid oxide fuel cell, with micro gas turbine, 180kWe, future'],\n",
       "      dtype=object)"
      ]
     },
     "execution_count": 19,
     "metadata": {},
     "output_type": "execute_result"
    }
   ],
   "source": [
    "np.unique(eidb_elec_prod_l[\"Activity Name\"])"
   ]
  },
  {
   "cell_type": "code",
   "execution_count": 22,
   "id": "2676face-2c37-4e43-85dc-589f707b5ad6",
   "metadata": {},
   "outputs": [],
   "source": [
    "low = pd.DataFrame(np.unique(eidb_elec_prod_l[\"Activity Name\"]))\n",
    "high = pd.DataFrame(np.unique(eidb_elec_prod_h[\"Activity Name\"]))\n",
    "low.to_excel(\"ei_elec_prod_low_volt.xlsx\", index = False) \n",
    "high.to_excel(\"ei_elec_prod_high_volt.xlsx\", index = False) \n",
    "pd.DataFrame(loc).to_excel(\"ei_all_loc.xlsx\", index = False)"
   ]
  },
  {
   "cell_type": "code",
   "execution_count": null,
   "id": "703fef8d-8a72-4794-9a04-d4d67720ae04",
   "metadata": {},
   "outputs": [],
   "source": []
  }
 ],
 "metadata": {
  "kernelspec": {
   "display_name": "Python 3 (ipykernel)",
   "language": "python",
   "name": "python3"
  },
  "language_info": {
   "codemirror_mode": {
    "name": "ipython",
    "version": 3
   },
   "file_extension": ".py",
   "mimetype": "text/x-python",
   "name": "python",
   "nbconvert_exporter": "python",
   "pygments_lexer": "ipython3",
   "version": "3.10.14"
  }
 },
 "nbformat": 4,
 "nbformat_minor": 5
}
