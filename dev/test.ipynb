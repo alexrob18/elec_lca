{
 "cells": [
  {
   "cell_type": "code",
   "execution_count": 1,
   "id": "3b36d3d3-41c3-4efd-b0e3-7edf62c3f0cc",
   "metadata": {},
   "outputs": [],
   "source": [
    "import elec_lca\n",
    "import pandas as pd\n",
    "import wurst\n",
    "import bw2data as bd"
   ]
  },
  {
   "cell_type": "code",
   "execution_count": 2,
   "id": "f0b48008-65b6-4304-a8a7-7c0a2a0954cf",
   "metadata": {},
   "outputs": [
    {
     "data": {
      "text/plain": [
       "'C:\\\\modelling\\\\spring_school\\\\elec_lca\\\\elec_lca\\\\dev'"
      ]
     },
     "execution_count": 2,
     "metadata": {},
     "output_type": "execute_result"
    }
   ],
   "source": [
    "bd.projects.set_current(\"bw2_spring_school\")\n",
    "database = wurst.extract_brightway2_databases(\"ecoinvent3.8 cut-off\")"
   ]
  },
  {
   "cell_type": "code",
   "execution_count": 3,
   "id": "febc86a0-374c-4d9e-b7fb-54e954e13be1",
   "metadata": {},
   "outputs": [
    {
     "name": "stdout",
     "output_type": "stream",
     "text": [
      "File created at C:\\modelling\\spring_school\\elec_lca\\elec_lca\\dev\\Elec_lca_user_input.xlsm\n",
      "***Make sure to enable macro when the file opens.***\n"
     ]
    },
    {
     "data": {
      "text/plain": [
       "WindowsPath('C:/modelling/spring_school/elec_lca/elec_lca/dev/Elec_lca_user_input.xlsm')"
      ]
     },
     "execution_count": 3,
     "metadata": {},
     "output_type": "execute_result"
    }
   ],
   "source": [
    "filepath = elec_lca.create_user_input_file(test, warn_if_dir_created=True,  force_overwrite=True)\n",
    "filepath"
   ]
  },
  {
   "cell_type": "code",
   "execution_count": 13,
   "id": "7eaea5cc-d506-40b7-8412-12c82acbdf7e",
   "metadata": {
    "collapsed": true,
    "jupyter": {
     "outputs_hidden": true
    }
   },
   "outputs": [
    {
     "data": {
      "text/html": [
       "<div>\n",
       "<style scoped>\n",
       "    .dataframe tbody tr th:only-of-type {\n",
       "        vertical-align: middle;\n",
       "    }\n",
       "\n",
       "    .dataframe tbody tr th {\n",
       "        vertical-align: top;\n",
       "    }\n",
       "\n",
       "    .dataframe thead th {\n",
       "        text-align: right;\n",
       "    }\n",
       "</style>\n",
       "<table border=\"1\" class=\"dataframe\">\n",
       "  <thead>\n",
       "    <tr style=\"text-align: right;\">\n",
       "      <th></th>\n",
       "      <th>technology</th>\n",
       "      <th>period</th>\n",
       "      <th>value</th>\n",
       "      <th>scenario</th>\n",
       "      <th>location</th>\n",
       "    </tr>\n",
       "  </thead>\n",
       "  <tbody>\n",
       "    <tr>\n",
       "      <th>0</th>\n",
       "      <td>Centralized photovoltaic panels</td>\n",
       "      <td>2020</td>\n",
       "      <td>0.000072</td>\n",
       "      <td>BAU-modified</td>\n",
       "      <td>CA-QC</td>\n",
       "    </tr>\n",
       "    <tr>\n",
       "      <th>1</th>\n",
       "      <td>Coal</td>\n",
       "      <td>2020</td>\n",
       "      <td>NaN</td>\n",
       "      <td>BAU-modified</td>\n",
       "      <td>CA-QC</td>\n",
       "    </tr>\n",
       "    <tr>\n",
       "      <th>2</th>\n",
       "      <td>Decentralized photovoltaic panels</td>\n",
       "      <td>2020</td>\n",
       "      <td>0.000050</td>\n",
       "      <td>BAU-modified</td>\n",
       "      <td>CA-QC</td>\n",
       "    </tr>\n",
       "    <tr>\n",
       "      <th>3</th>\n",
       "      <td>Geothermal energy</td>\n",
       "      <td>2020</td>\n",
       "      <td>NaN</td>\n",
       "      <td>BAU-modified</td>\n",
       "      <td>CA-QC</td>\n",
       "    </tr>\n",
       "    <tr>\n",
       "      <th>4</th>\n",
       "      <td>Heavy fuel oil</td>\n",
       "      <td>2020</td>\n",
       "      <td>0.000910</td>\n",
       "      <td>BAU-modified</td>\n",
       "      <td>CA-QC</td>\n",
       "    </tr>\n",
       "    <tr>\n",
       "      <th>...</th>\n",
       "      <td>...</td>\n",
       "      <td>...</td>\n",
       "      <td>...</td>\n",
       "      <td>...</td>\n",
       "      <td>...</td>\n",
       "    </tr>\n",
       "    <tr>\n",
       "      <th>491</th>\n",
       "      <td>Storage dam</td>\n",
       "      <td>2050</td>\n",
       "      <td>0.597910</td>\n",
       "      <td>BAU-modified</td>\n",
       "      <td>CA-QC</td>\n",
       "    </tr>\n",
       "    <tr>\n",
       "      <th>492</th>\n",
       "      <td>Wood</td>\n",
       "      <td>2050</td>\n",
       "      <td>0.006264</td>\n",
       "      <td>BAU-modified</td>\n",
       "      <td>CA-QC</td>\n",
       "    </tr>\n",
       "    <tr>\n",
       "      <th>493</th>\n",
       "      <td>Run-of-river</td>\n",
       "      <td>2050</td>\n",
       "      <td>0.178757</td>\n",
       "      <td>BAU-modified</td>\n",
       "      <td>CA-QC</td>\n",
       "    </tr>\n",
       "    <tr>\n",
       "      <th>494</th>\n",
       "      <td>Conventional nuclear</td>\n",
       "      <td>2050</td>\n",
       "      <td>NaN</td>\n",
       "      <td>BAU-modified</td>\n",
       "      <td>CA-QC</td>\n",
       "    </tr>\n",
       "    <tr>\n",
       "      <th>495</th>\n",
       "      <td>Tidal energy</td>\n",
       "      <td>2050</td>\n",
       "      <td>NaN</td>\n",
       "      <td>BAU-modified</td>\n",
       "      <td>CA-QC</td>\n",
       "    </tr>\n",
       "  </tbody>\n",
       "</table>\n",
       "<p>496 rows × 5 columns</p>\n",
       "</div>"
      ],
      "text/plain": [
       "                            technology period     value      scenario location\n",
       "0      Centralized photovoltaic panels   2020  0.000072  BAU-modified    CA-QC\n",
       "1                                 Coal   2020       NaN  BAU-modified    CA-QC\n",
       "2    Decentralized photovoltaic panels   2020  0.000050  BAU-modified    CA-QC\n",
       "3                    Geothermal energy   2020       NaN  BAU-modified    CA-QC\n",
       "4                       Heavy fuel oil   2020  0.000910  BAU-modified    CA-QC\n",
       "..                                 ...    ...       ...           ...      ...\n",
       "491                        Storage dam   2050  0.597910  BAU-modified    CA-QC\n",
       "492                               Wood   2050  0.006264  BAU-modified    CA-QC\n",
       "493                       Run-of-river   2050  0.178757  BAU-modified    CA-QC\n",
       "494               Conventional nuclear   2050       NaN  BAU-modified    CA-QC\n",
       "495                       Tidal energy   2050       NaN  BAU-modified    CA-QC\n",
       "\n",
       "[496 rows x 5 columns]"
      ]
     },
     "execution_count": 13,
     "metadata": {},
     "output_type": "execute_result"
    }
   ],
   "source": [
    "df_scenarios = elec_lca.read_user_input_template_excel_file(filepath.parent, filepath.name)"
   ]
  },
  {
   "cell_type": "code",
   "execution_count": null,
   "id": "7fe3835e-2e81-44a2-a670-d62fb5b35d5d",
   "metadata": {},
   "outputs": [],
   "source": [
    "wurst dataset = elec_lca.create_datasets.new_electricity_market(database=database,\n",
    "                                                                location='CA-QC',\n",
    "                                                                df_scenario=df_scenarios[df_scenarios.period == 2023])"
   ]
  },
  {
   "cell_type": "code",
   "execution_count": null,
   "id": "e624bd43-26f7-4f75-920d-9afeb5c30fd1",
   "metadata": {},
   "outputs": [],
   "source": []
  }
 ],
 "metadata": {
  "kernelspec": {
   "display_name": "Python 3 (ipykernel)",
   "language": "python",
   "name": "python3"
  },
  "language_info": {
   "codemirror_mode": {
    "name": "ipython",
    "version": 3
   },
   "file_extension": ".py",
   "mimetype": "text/x-python",
   "name": "python",
   "nbconvert_exporter": "python",
   "pygments_lexer": "ipython3",
   "version": "3.10.14"
  }
 },
 "nbformat": 4,
 "nbformat_minor": 5
}
