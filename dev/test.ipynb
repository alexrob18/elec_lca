{
 "cells": [
  {
   "cell_type": "code",
   "execution_count": 8,
   "id": "3b36d3d3-41c3-4efd-b0e3-7edf62c3f0cc",
   "metadata": {},
   "outputs": [],
   "source": [
    "import elec_lca\n",
    "import pandas as pd\n",
    "import wurst\n",
    "import bw2data as bd\n",
    "from pathlib import Path"
   ]
  },
  {
   "cell_type": "code",
   "execution_count": null,
   "id": "f0b48008-65b6-4304-a8a7-7c0a2a0954cf",
   "metadata": {},
   "outputs": [],
   "source": [
    "bd.projects.set_current(\"bw2_spring_school\")\n",
    "database = wurst.extract_brightway2_databases(\"ecoinvent3.8 cut-off\")"
   ]
  },
  {
   "cell_type": "code",
   "execution_count": 12,
   "id": "cb58f5b6-d466-4f3a-975b-80c5f5ca2991",
   "metadata": {},
   "outputs": [],
   "source": [
    "import pickle\n",
    "\n",
    "def load_db():\n",
    "    with open(r\"C:\\Users\\RobertsonA\\Desktop\\ei391.pickle\", \"rb\") as input_file:\n",
    "        db = pickle.load(input_file)\n",
    "\n",
    "    for ds in db:\n",
    "        if \"categories\" in ds:\n",
    "            del ds[\"categories\"]\n",
    "            \n",
    "    return db"
   ]
  },
  {
   "cell_type": "code",
   "execution_count": 13,
   "id": "fa57a617-470e-4c5c-b0c0-44aeab272459",
   "metadata": {},
   "outputs": [],
   "source": [
    "database = load_db()"
   ]
  },
  {
   "cell_type": "code",
   "execution_count": 4,
   "id": "febc86a0-374c-4d9e-b7fb-54e954e13be1",
   "metadata": {},
   "outputs": [
    {
     "name": "stdout",
     "output_type": "stream",
     "text": [
      "File created at C:\\myprojects\\SpringSchool\\Elec_lca_user_input.xlsm\n",
      "***Make sure to enable macro when the file opens.***\n"
     ]
    },
    {
     "data": {
      "text/plain": [
       "WindowsPath('C:/myprojects/SpringSchool/Elec_lca_user_input.xlsm')"
      ]
     },
     "execution_count": 4,
     "metadata": {},
     "output_type": "execute_result"
    }
   ],
   "source": [
    "filepath = elec_lca.create_user_input_file(\"C:\\myprojects\\SpringSchool\", warn_if_dir_created=True,  force_overwrite=True)\n",
    "filepath"
   ]
  },
  {
   "cell_type": "code",
   "execution_count": 9,
   "id": "7eaea5cc-d506-40b7-8412-12c82acbdf7e",
   "metadata": {
    "scrolled": true
   },
   "outputs": [],
   "source": [
    "filepath = Path('C:\\modelling\\spring_school\\elec_lca\\elec_lca\\dev\\Elec_lca_user_input.xlsm')\n",
    "df_scenarios = elec_lca.read_user_input_template_excel_file(filepath.parent, filepath.name)"
   ]
  },
  {
   "cell_type": "code",
   "execution_count": 10,
   "id": "11dc501b-6db4-45ad-8e7d-af6ce90e0acb",
   "metadata": {
    "scrolled": true
   },
   "outputs": [
    {
     "data": {
      "text/html": [
       "<div>\n",
       "<style scoped>\n",
       "    .dataframe tbody tr th:only-of-type {\n",
       "        vertical-align: middle;\n",
       "    }\n",
       "\n",
       "    .dataframe tbody tr th {\n",
       "        vertical-align: top;\n",
       "    }\n",
       "\n",
       "    .dataframe thead th {\n",
       "        text-align: right;\n",
       "    }\n",
       "</style>\n",
       "<table border=\"1\" class=\"dataframe\">\n",
       "  <thead>\n",
       "    <tr style=\"text-align: right;\">\n",
       "      <th></th>\n",
       "      <th>technology</th>\n",
       "      <th>period</th>\n",
       "      <th>value</th>\n",
       "      <th>scenario</th>\n",
       "      <th>location</th>\n",
       "    </tr>\n",
       "  </thead>\n",
       "  <tbody>\n",
       "    <tr>\n",
       "      <th>0</th>\n",
       "      <td>Decentralized photovoltaic panels</td>\n",
       "      <td>2020</td>\n",
       "      <td>0.001889</td>\n",
       "      <td>BAU</td>\n",
       "      <td>CA-BC</td>\n",
       "    </tr>\n",
       "    <tr>\n",
       "      <th>1</th>\n",
       "      <td>Heavy fuel oil</td>\n",
       "      <td>2020</td>\n",
       "      <td>0.000048</td>\n",
       "      <td>BAU</td>\n",
       "      <td>CA-BC</td>\n",
       "    </tr>\n",
       "    <tr>\n",
       "      <th>2</th>\n",
       "      <td>Landfill gases</td>\n",
       "      <td>2020</td>\n",
       "      <td>0.000734</td>\n",
       "      <td>BAU</td>\n",
       "      <td>CA-BC</td>\n",
       "    </tr>\n",
       "    <tr>\n",
       "      <th>3</th>\n",
       "      <td>Light fuel oil</td>\n",
       "      <td>2020</td>\n",
       "      <td>0.001079</td>\n",
       "      <td>BAU</td>\n",
       "      <td>CA-BC</td>\n",
       "    </tr>\n",
       "    <tr>\n",
       "      <th>4</th>\n",
       "      <td>Natural gas</td>\n",
       "      <td>2020</td>\n",
       "      <td>0.013058</td>\n",
       "      <td>BAU</td>\n",
       "      <td>CA-BC</td>\n",
       "    </tr>\n",
       "    <tr>\n",
       "      <th>...</th>\n",
       "      <td>...</td>\n",
       "      <td>...</td>\n",
       "      <td>...</td>\n",
       "      <td>...</td>\n",
       "      <td>...</td>\n",
       "    </tr>\n",
       "    <tr>\n",
       "      <th>225</th>\n",
       "      <td>Onshore turbines</td>\n",
       "      <td>2042</td>\n",
       "      <td>0.030348</td>\n",
       "      <td>BAU</td>\n",
       "      <td>CA-BC</td>\n",
       "    </tr>\n",
       "    <tr>\n",
       "      <th>226</th>\n",
       "      <td>Small modular reactor</td>\n",
       "      <td>2042</td>\n",
       "      <td>0.046508</td>\n",
       "      <td>BAU</td>\n",
       "      <td>CA-BC</td>\n",
       "    </tr>\n",
       "    <tr>\n",
       "      <th>227</th>\n",
       "      <td>Storage dam</td>\n",
       "      <td>2042</td>\n",
       "      <td>0.780121</td>\n",
       "      <td>BAU</td>\n",
       "      <td>CA-BC</td>\n",
       "    </tr>\n",
       "    <tr>\n",
       "      <th>228</th>\n",
       "      <td>Wood</td>\n",
       "      <td>2042</td>\n",
       "      <td>0.065996</td>\n",
       "      <td>BAU</td>\n",
       "      <td>CA-BC</td>\n",
       "    </tr>\n",
       "    <tr>\n",
       "      <th>229</th>\n",
       "      <td>Run-of-river</td>\n",
       "      <td>2042</td>\n",
       "      <td>0.071163</td>\n",
       "      <td>BAU</td>\n",
       "      <td>CA-BC</td>\n",
       "    </tr>\n",
       "  </tbody>\n",
       "</table>\n",
       "<p>230 rows × 5 columns</p>\n",
       "</div>"
      ],
      "text/plain": [
       "                            technology period     value scenario location\n",
       "0    Decentralized photovoltaic panels   2020  0.001889      BAU    CA-BC\n",
       "1                       Heavy fuel oil   2020  0.000048      BAU    CA-BC\n",
       "2                       Landfill gases   2020  0.000734      BAU    CA-BC\n",
       "3                       Light fuel oil   2020  0.001079      BAU    CA-BC\n",
       "4                          Natural gas   2020  0.013058      BAU    CA-BC\n",
       "..                                 ...    ...       ...      ...      ...\n",
       "225                   Onshore turbines   2042  0.030348      BAU    CA-BC\n",
       "226              Small modular reactor   2042  0.046508      BAU    CA-BC\n",
       "227                        Storage dam   2042  0.780121      BAU    CA-BC\n",
       "228                               Wood   2042  0.065996      BAU    CA-BC\n",
       "229                       Run-of-river   2042  0.071163      BAU    CA-BC\n",
       "\n",
       "[230 rows x 5 columns]"
      ]
     },
     "execution_count": 10,
     "metadata": {},
     "output_type": "execute_result"
    }
   ],
   "source": [
    "df_scenarios"
   ]
  },
  {
   "cell_type": "code",
   "execution_count": 14,
   "id": "7fe3835e-2e81-44a2-a670-d62fb5b35d5d",
   "metadata": {},
   "outputs": [
    {
     "ename": "IndexError",
     "evalue": "list index out of range",
     "output_type": "error",
     "traceback": [
      "\u001b[1;31m---------------------------------------------------------------------------\u001b[0m",
      "\u001b[1;31mIndexError\u001b[0m                                Traceback (most recent call last)",
      "Cell \u001b[1;32mIn[14], line 1\u001b[0m\n\u001b[1;32m----> 1\u001b[0m wurst_dataset \u001b[38;5;241m=\u001b[39m \u001b[43melec_lca\u001b[49m\u001b[38;5;241;43m.\u001b[39;49m\u001b[43mcreate_datasets\u001b[49m\u001b[38;5;241;43m.\u001b[39;49m\u001b[43mnew_electricity_market\u001b[49m\u001b[43m(\u001b[49m\u001b[43mdatabase\u001b[49m\u001b[38;5;241;43m=\u001b[39;49m\u001b[43mdatabase\u001b[49m\u001b[43m,\u001b[49m\n\u001b[0;32m      2\u001b[0m \u001b[43m                                                                \u001b[49m\u001b[43mlocation\u001b[49m\u001b[38;5;241;43m=\u001b[39;49m\u001b[38;5;124;43m'\u001b[39;49m\u001b[38;5;124;43mCA-QC\u001b[39;49m\u001b[38;5;124;43m'\u001b[39;49m\u001b[43m,\u001b[49m\n\u001b[0;32m      3\u001b[0m \u001b[43m                                                                \u001b[49m\u001b[43mdf_scenario\u001b[49m\u001b[38;5;241;43m=\u001b[39;49m\u001b[43mdf_scenarios\u001b[49m\u001b[43m[\u001b[49m\u001b[43mdf_scenarios\u001b[49m\u001b[38;5;241;43m.\u001b[39;49m\u001b[43mperiod\u001b[49m\u001b[43m \u001b[49m\u001b[38;5;241;43m==\u001b[39;49m\u001b[43m \u001b[49m\u001b[38;5;241;43m2023\u001b[39;49m\u001b[43m]\u001b[49m\u001b[43m)\u001b[49m\n",
      "File \u001b[1;32mC:\\modelling\\spring_school\\elec_lca\\elec_lca\\elec_lca\\create_datasets.py:88\u001b[0m, in \u001b[0;36mnew_electricity_market\u001b[1;34m(database, location, df_scenario, mapping_filepath)\u001b[0m\n\u001b[0;32m     85\u001b[0m tech_list \u001b[38;5;241m=\u001b[39m \u001b[38;5;28mlist\u001b[39m(df_scenario\u001b[38;5;241m.\u001b[39mtechnology\u001b[38;5;241m.\u001b[39munique()) \u001b[38;5;66;03m# list of technologies involved in the scenario\u001b[39;00m\n\u001b[0;32m     87\u001b[0m \u001b[38;5;28;01mfor\u001b[39;00m tech \u001b[38;5;129;01min\u001b[39;00m tech_list: \u001b[38;5;66;03m# create the list of exchanges (i.e., shares of the electricity mix)\u001b[39;00m\n\u001b[1;32m---> 88\u001b[0m     ds \u001b[38;5;241m=\u001b[39m \u001b[43msearching_dataset\u001b[49m\u001b[43m(\u001b[49m\u001b[43mdatabase\u001b[49m\u001b[38;5;241;43m=\u001b[39;49m\u001b[43mdatabase\u001b[49m\u001b[43m,\u001b[49m\u001b[43m \u001b[49m\u001b[43mact_dict\u001b[49m\u001b[38;5;241;43m=\u001b[39;49m\u001b[43mmapping\u001b[49m\u001b[43m(\u001b[49m\u001b[43mtech\u001b[49m\u001b[38;5;241;43m=\u001b[39;49m\u001b[43mtech\u001b[49m\u001b[43m,\u001b[49m\u001b[43m \u001b[49m\u001b[43mlocation\u001b[49m\u001b[38;5;241;43m=\u001b[39;49m\u001b[43mlocation\u001b[49m\u001b[43m,\u001b[49m\n\u001b[0;32m     89\u001b[0m \u001b[43m                                                               \u001b[49m\u001b[43mmapping_filepath\u001b[49m\u001b[38;5;241;43m=\u001b[39;49m\u001b[43mmapping_filepath\u001b[49m\u001b[43m)\u001b[49m\u001b[43m)\u001b[49m\n\u001b[0;32m     90\u001b[0m     exc \u001b[38;5;241m=\u001b[39m {\n\u001b[0;32m     91\u001b[0m         \u001b[38;5;124m'\u001b[39m\u001b[38;5;124mamount\u001b[39m\u001b[38;5;124m'\u001b[39m: \u001b[38;5;28mfloat\u001b[39m(df_scenario[df_scenario\u001b[38;5;241m.\u001b[39mtechnology \u001b[38;5;241m==\u001b[39m tech]\u001b[38;5;241m.\u001b[39mvalue\u001b[38;5;241m.\u001b[39miloc[\u001b[38;5;241m0\u001b[39m]),\n\u001b[0;32m     92\u001b[0m         \u001b[38;5;124m'\u001b[39m\u001b[38;5;124mtype\u001b[39m\u001b[38;5;124m'\u001b[39m: \u001b[38;5;124m'\u001b[39m\u001b[38;5;124mtechnosphere\u001b[39m\u001b[38;5;124m'\u001b[39m,\n\u001b[1;32m   (...)\u001b[0m\n\u001b[0;32m     97\u001b[0m         \u001b[38;5;124m'\u001b[39m\u001b[38;5;124mlocation\u001b[39m\u001b[38;5;124m'\u001b[39m: ds[\u001b[38;5;124m'\u001b[39m\u001b[38;5;124mlocation\u001b[39m\u001b[38;5;124m'\u001b[39m]\n\u001b[0;32m     98\u001b[0m     }\n\u001b[0;32m     99\u001b[0m     exchanges\u001b[38;5;241m.\u001b[39mappend(exc)\n",
      "File \u001b[1;32mC:\\modelling\\spring_school\\elec_lca\\elec_lca\\elec_lca\\create_datasets.py:56\u001b[0m, in \u001b[0;36msearching_dataset\u001b[1;34m(database, act_dict)\u001b[0m\n\u001b[0;32m     54\u001b[0m act_filter \u001b[38;5;241m=\u001b[39m act_filter[:\u001b[38;5;241m-\u001b[39m\u001b[38;5;241m1\u001b[39m] \u001b[38;5;66;03m# remove condition on location\u001b[39;00m\n\u001b[0;32m     55\u001b[0m act_filter\u001b[38;5;241m.\u001b[39mappend(wurst\u001b[38;5;241m.\u001b[39meither(\u001b[38;5;241m*\u001b[39m[wurst\u001b[38;5;241m.\u001b[39msearching\u001b[38;5;241m.\u001b[39mequals(\u001b[38;5;124m\"\u001b[39m\u001b[38;5;124mlocation\u001b[39m\u001b[38;5;124m\"\u001b[39m, loc) \u001b[38;5;28;01mfor\u001b[39;00m loc \u001b[38;5;129;01min\u001b[39;00m [\u001b[38;5;124m\"\u001b[39m\u001b[38;5;124mGLO\u001b[39m\u001b[38;5;124m\"\u001b[39m, \u001b[38;5;124m\"\u001b[39m\u001b[38;5;124mRoW\u001b[39m\u001b[38;5;124m\"\u001b[39m]])) \u001b[38;5;66;03m# putting RoW or GLO instead\u001b[39;00m\n\u001b[1;32m---> 56\u001b[0m ds \u001b[38;5;241m=\u001b[39m \u001b[43m[\u001b[49m\u001b[43ma\u001b[49m\u001b[43m \u001b[49m\u001b[38;5;28;43;01mfor\u001b[39;49;00m\u001b[43m \u001b[49m\u001b[43ma\u001b[49m\u001b[43m \u001b[49m\u001b[38;5;129;43;01min\u001b[39;49;00m\u001b[43m \u001b[49m\u001b[43mwurst\u001b[49m\u001b[38;5;241;43m.\u001b[39;49m\u001b[43msearching\u001b[49m\u001b[38;5;241;43m.\u001b[39;49m\u001b[43mget_many\u001b[49m\u001b[43m(\u001b[49m\u001b[43mdatabase\u001b[49m\u001b[43m,\u001b[49m\u001b[43m \u001b[49m\u001b[38;5;241;43m*\u001b[39;49m\u001b[43mact_filter\u001b[49m\u001b[43m)\u001b[49m\u001b[43m]\u001b[49m\u001b[43m[\u001b[49m\u001b[38;5;241;43m0\u001b[39;49m\u001b[43m]\u001b[49m \u001b[38;5;66;03m# search the GLO or RoW activity\u001b[39;00m\n\u001b[0;32m     57\u001b[0m ds \u001b[38;5;241m=\u001b[39m wurst\u001b[38;5;241m.\u001b[39mtransformations\u001b[38;5;241m.\u001b[39mcopy_to_new_location(ds, act_dict[\u001b[38;5;124m'\u001b[39m\u001b[38;5;124mlocation\u001b[39m\u001b[38;5;124m'\u001b[39m]) \u001b[38;5;66;03m# change the activity main location\u001b[39;00m\n\u001b[0;32m     58\u001b[0m ds \u001b[38;5;241m=\u001b[39m wurst\u001b[38;5;241m.\u001b[39mtransformations\u001b[38;5;241m.\u001b[39mrelink_technosphere_exchanges(ds, database) \u001b[38;5;66;03m# adapt the activity foreground\u001b[39;00m\n",
      "\u001b[1;31mIndexError\u001b[0m: list index out of range"
     ]
    }
   ],
   "source": [
    "wurst_dataset = elec_lca.create_datasets.new_electricity_market(database=database,\n",
    "                                                                location='CA-QC',\n",
    "                                                                df_scenario=df_scenarios[df_scenarios.period == 2023])"
   ]
  },
  {
   "cell_type": "code",
   "execution_count": null,
   "id": "e624bd43-26f7-4f75-920d-9afeb5c30fd1",
   "metadata": {},
   "outputs": [],
   "source": []
  }
 ],
 "metadata": {
  "kernelspec": {
   "display_name": "Python 3 (ipykernel)",
   "language": "python",
   "name": "python3"
  },
  "language_info": {
   "codemirror_mode": {
    "name": "ipython",
    "version": 3
   },
   "file_extension": ".py",
   "mimetype": "text/x-python",
   "name": "python",
   "nbconvert_exporter": "python",
   "pygments_lexer": "ipython3",
   "version": "3.10.14"
  }
 },
 "nbformat": 4,
 "nbformat_minor": 5
}
