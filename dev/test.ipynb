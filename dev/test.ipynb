{
 "cells": [
  {
   "cell_type": "code",
   "execution_count": 1,
   "id": "3b36d3d3-41c3-4efd-b0e3-7edf62c3f0cc",
   "metadata": {},
   "outputs": [
    {
     "name": "stderr",
     "output_type": "stream",
     "text": [
      "Cannot find header.dxf (GDAL_DATA is not defined)\n"
     ]
    }
   ],
   "source": [
    "from elec_lca import *"
   ]
  },
  {
   "cell_type": "code",
   "execution_count": 2,
   "id": "894a5d02-8a6c-4629-9cde-26e4b3265ddb",
   "metadata": {},
   "outputs": [
    {
     "name": "stdout",
     "output_type": "stream",
     "text": [
      "new_scenario(3)\n",
      "HERE\n",
      "                      Technology list\n",
      "0     Centralized photovoltaic panels\n",
      "1                                Coal\n",
      "2   Decentralized photovoltaic panels\n",
      "3                   Geothermal energy\n",
      "4                      Heavy fuel oil\n",
      "5                            Hydrogen\n",
      "6                      Landfill gases\n",
      "7                      Light fuel oil\n",
      "8                         Natural gas\n",
      "9                    Onshore turbines\n",
      "10              Small modular reactor\n",
      "11                        Storage dam\n",
      "12                               Wood\n",
      "13                       Run-of-river\n",
      "14               Conventional nuclear\n",
      "15                       Tidal energy\n",
      "HERE2\n",
      "Empty DataFrame\n",
      "Columns: []\n",
      "Index: []\n",
      "new_scenario(2)\n",
      "HERE\n",
      "                      Technology list      2020      2021      2022      2023  \\\n",
      "0     Centralized photovoltaic panels  0.000384  0.002329  0.004396  0.006598   \n",
      "1                                Coal  0.319819  0.296646  0.272009  0.245767   \n",
      "2   Decentralized photovoltaic panels  0.001096  0.001744  0.002433  0.003167   \n",
      "3                   Geothermal energy       NaN       NaN       NaN       NaN   \n",
      "4                      Heavy fuel oil  0.000278  0.000277  0.000276  0.000274   \n",
      "5                            Hydrogen       NaN  0.008598  0.017740  0.027477   \n",
      "6                      Landfill gases  0.000299  0.000308  0.000318  0.000329   \n",
      "7                      Light fuel oil  0.000094  0.000092  0.000090  0.000088   \n",
      "8                         Natural gas  0.560297  0.541912  0.522366  0.501546   \n",
      "9                    Onshore turbines  0.060120  0.088218  0.118091  0.149911   \n",
      "10              Small modular reactor       NaN       NaN       NaN       NaN   \n",
      "11                        Storage dam  0.031675  0.032654  0.033694  0.034802   \n",
      "12                               Wood  0.025937  0.027221  0.028586  0.030040   \n",
      "13                       Run-of-river       NaN       NaN       NaN       NaN   \n",
      "14               Conventional nuclear       NaN       NaN       NaN       NaN   \n",
      "15                       Tidal energy       NaN       NaN       NaN       NaN   \n",
      "\n",
      "        2024      2025      2026      2027      2028      2029      2030  \n",
      "0   0.008948  0.011462  0.014158  0.017056  0.020179  0.023556  0.027218  \n",
      "1   0.217756  0.187791  0.155661  0.121122  0.083893  0.043646       NaN  \n",
      "2   0.003950  0.004788  0.005687  0.006653  0.007694  0.008820  0.010040  \n",
      "3        NaN       NaN       NaN       NaN       NaN       NaN       NaN  \n",
      "4   0.000273  0.000271  0.000270  0.000268  0.000266  0.000264  0.000262  \n",
      "5   0.037871  0.048989  0.060911  0.073726  0.087540  0.102473  0.118668  \n",
      "6   0.000341  0.000353  0.000366  0.000381  0.000396  0.000412  0.000430  \n",
      "7   0.000086  0.000084  0.000082  0.000079  0.000076  0.000073  0.000070  \n",
      "8   0.479322  0.455549  0.430057  0.402655  0.373118  0.341187  0.306559  \n",
      "9   0.183876  0.220210  0.259169  0.301049  0.346191  0.394991  0.447914  \n",
      "10       NaN       NaN       NaN       NaN       NaN       NaN       NaN  \n",
      "11  0.035985  0.037251  0.038608  0.040066  0.041638  0.043338  0.045181  \n",
      "12  0.031592  0.033252  0.035033  0.036946  0.039009  0.041239  0.043657  \n",
      "13       NaN       NaN       NaN       NaN       NaN       NaN       NaN  \n",
      "14       NaN       NaN       NaN       NaN       NaN       NaN       NaN  \n",
      "15       NaN       NaN       NaN       NaN       NaN       NaN       NaN  \n",
      "HERE2\n",
      "                                       2020      2021      2022      2023  \\\n",
      "Technology list                                                             \n",
      "Centralized photovoltaic panels    0.000384  0.002329  0.004396  0.006598   \n",
      "Coal                               0.319819  0.296646  0.272009  0.245767   \n",
      "Decentralized photovoltaic panels  0.001096  0.001744  0.002433  0.003167   \n",
      "Heavy fuel oil                     0.000278  0.000277  0.000276  0.000274   \n",
      "Hydrogen                                NaN  0.008598  0.017740  0.027477   \n",
      "Landfill gases                     0.000299  0.000308  0.000318  0.000329   \n",
      "Light fuel oil                     0.000094  0.000092  0.000090  0.000088   \n",
      "Natural gas                        0.560297  0.541912  0.522366  0.501546   \n",
      "Onshore turbines                   0.060120  0.088218  0.118091  0.149911   \n",
      "Storage dam                        0.031675  0.032654  0.033694  0.034802   \n",
      "Wood                               0.025937  0.027221  0.028586  0.030040   \n",
      "\n",
      "                                       2024      2025      2026      2027  \\\n",
      "Technology list                                                             \n",
      "Centralized photovoltaic panels    0.008948  0.011462  0.014158  0.017056   \n",
      "Coal                               0.217756  0.187791  0.155661  0.121122   \n",
      "Decentralized photovoltaic panels  0.003950  0.004788  0.005687  0.006653   \n",
      "Heavy fuel oil                     0.000273  0.000271  0.000270  0.000268   \n",
      "Hydrogen                           0.037871  0.048989  0.060911  0.073726   \n",
      "Landfill gases                     0.000341  0.000353  0.000366  0.000381   \n",
      "Light fuel oil                     0.000086  0.000084  0.000082  0.000079   \n",
      "Natural gas                        0.479322  0.455549  0.430057  0.402655   \n",
      "Onshore turbines                   0.183876  0.220210  0.259169  0.301049   \n",
      "Storage dam                        0.035985  0.037251  0.038608  0.040066   \n",
      "Wood                               0.031592  0.033252  0.035033  0.036946   \n",
      "\n",
      "                                       2028      2029      2030  \n",
      "Technology list                                                  \n",
      "Centralized photovoltaic panels    0.020179  0.023556  0.027218  \n",
      "Coal                               0.083893  0.043646       NaN  \n",
      "Decentralized photovoltaic panels  0.007694  0.008820  0.010040  \n",
      "Heavy fuel oil                     0.000266  0.000264  0.000262  \n",
      "Hydrogen                           0.087540  0.102473  0.118668  \n",
      "Landfill gases                     0.000396  0.000412  0.000430  \n",
      "Light fuel oil                     0.000076  0.000073  0.000070  \n",
      "Natural gas                        0.373118  0.341187  0.306559  \n",
      "Onshore turbines                   0.346191  0.394991  0.447914  \n",
      "Storage dam                        0.041638  0.043338  0.045181  \n",
      "Wood                               0.039009  0.041239  0.043657  \n"
     ]
    },
    {
     "ename": "TypeError",
     "evalue": "Series.rename() got an unexpected keyword argument 'columns'",
     "output_type": "error",
     "traceback": [
      "\u001b[1;31m---------------------------------------------------------------------------\u001b[0m",
      "\u001b[1;31mTypeError\u001b[0m                                 Traceback (most recent call last)",
      "Cell \u001b[1;32mIn[2], line 1\u001b[0m\n\u001b[1;32m----> 1\u001b[0m \u001b[43mread_user_input_template_excel_file\u001b[49m\u001b[43m(\u001b[49m\u001b[43m)\u001b[49m\n",
      "File \u001b[1;32mC:\\myprojects\\SpringSchool\\elec_lca\\elec_lca\\reading.py:78\u001b[0m, in \u001b[0;36mread_user_input_template_excel_file\u001b[1;34m(user_input_directory, user_input_template_filename)\u001b[0m\n\u001b[0;32m     76\u001b[0m df \u001b[38;5;241m=\u001b[39m pd\u001b[38;5;241m.\u001b[39mmelt(df, id_vars\u001b[38;5;241m=\u001b[39m[\u001b[38;5;124m\"\u001b[39m\u001b[38;5;124mTechnology list\u001b[39m\u001b[38;5;124m\"\u001b[39m], var_name\u001b[38;5;241m=\u001b[39m\u001b[38;5;124m\"\u001b[39m\u001b[38;5;124mperiod\u001b[39m\u001b[38;5;124m\"\u001b[39m)\u001b[38;5;241m.\u001b[39mcopy()\n\u001b[0;32m     77\u001b[0m df \u001b[38;5;241m=\u001b[39m df[\u001b[38;5;124m\"\u001b[39m\u001b[38;5;124mvalue\u001b[39m\u001b[38;5;124m\"\u001b[39m]\u001b[38;5;241m.\u001b[39mfillna(\u001b[38;5;241m0\u001b[39m)\n\u001b[1;32m---> 78\u001b[0m \u001b[43mdf\u001b[49m\u001b[38;5;241;43m.\u001b[39;49m\u001b[43mrename\u001b[49m\u001b[43m(\u001b[49m\u001b[43mcolumns\u001b[49m\u001b[38;5;241;43m=\u001b[39;49m\u001b[43m{\u001b[49m\u001b[38;5;124;43m\"\u001b[39;49m\u001b[38;5;124;43mTechnology list\u001b[39;49m\u001b[38;5;124;43m\"\u001b[39;49m\u001b[43m:\u001b[49m\u001b[43m \u001b[49m\u001b[38;5;124;43m\"\u001b[39;49m\u001b[38;5;124;43mtechnology\u001b[39;49m\u001b[38;5;124;43m\"\u001b[39;49m\u001b[43m}\u001b[49m\u001b[43m,\u001b[49m\u001b[43m \u001b[49m\u001b[43minplace\u001b[49m\u001b[38;5;241;43m=\u001b[39;49m\u001b[38;5;28;43;01mTrue\u001b[39;49;00m\u001b[43m)\u001b[49m\n\u001b[0;32m     79\u001b[0m df[\u001b[38;5;124m\"\u001b[39m\u001b[38;5;124mscenario\u001b[39m\u001b[38;5;124m\"\u001b[39m] \u001b[38;5;241m=\u001b[39m scn_name\n\u001b[0;32m     80\u001b[0m df[\u001b[38;5;124m\"\u001b[39m\u001b[38;5;124mlocation\u001b[39m\u001b[38;5;124m\"\u001b[39m] \u001b[38;5;241m=\u001b[39m location\n",
      "\u001b[1;31mTypeError\u001b[0m: Series.rename() got an unexpected keyword argument 'columns'"
     ]
    }
   ],
   "source": [
    "read_user_input_template_excel_file()"
   ]
  },
  {
   "cell_type": "code",
   "execution_count": null,
   "id": "febc86a0-374c-4d9e-b7fb-54e954e13be1",
   "metadata": {},
   "outputs": [],
   "source": []
  }
 ],
 "metadata": {
  "kernelspec": {
   "display_name": "Python 3 (ipykernel)",
   "language": "python",
   "name": "python3"
  },
  "language_info": {
   "codemirror_mode": {
    "name": "ipython",
    "version": 3
   },
   "file_extension": ".py",
   "mimetype": "text/x-python",
   "name": "python",
   "nbconvert_exporter": "python",
   "pygments_lexer": "ipython3",
   "version": "3.10.14"
  }
 },
 "nbformat": 4,
 "nbformat_minor": 5
}
