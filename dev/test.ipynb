{
 "cells": [
  {
   "cell_type": "code",
   "execution_count": 1,
   "id": "3b36d3d3-41c3-4efd-b0e3-7edf62c3f0cc",
   "metadata": {},
   "source": [
    "import elec_lca\n",
    "import pandas as pd\n",
    "import wurst\n",
    "import bw2data as bd"
   ],
   "outputs": []
  },
  {
   "cell_type": "code",
   "execution_count": null,
   "id": "f0b48008-65b6-4304-a8a7-7c0a2a0954cf",
   "metadata": {},
   "source": [
    "bd.projects.set_current(\"bw2_spring_school\")\n",
    "database = wurst.extract_brightway2_databases(\"ecoinvent3.8 cut-off\")"
   ],
   "outputs": []
  },
  {
   "cell_type": "code",
   "execution_count": 2,
   "id": "cb58f5b6-d466-4f3a-975b-80c5f5ca2991",
   "metadata": {},
   "source": [
    "import pickle\n",
    "\n",
    "def load_db():\n",
    "    with open(r\"C:\\myprojects\\SpringSchool\\ei391.pickle\", \"rb\") as input_file:\n",
    "        db = pickle.load(input_file)\n",
    "\n",
    "    for ds in db:\n",
    "        if \"categories\" in ds:\n",
    "            del ds[\"categories\"]\n",
    "            \n",
    "    return db"
   ],
   "outputs": []
  },
  {
   "cell_type": "code",
   "execution_count": 3,
   "id": "fa57a617-470e-4c5c-b0c0-44aeab272459",
   "metadata": {},
   "source": [
    "database = load_db()"
   ],
   "outputs": []
  },
  {
   "cell_type": "code",
   "execution_count": 4,
   "id": "febc86a0-374c-4d9e-b7fb-54e954e13be1",
   "metadata": {},
   "source": [
    "filepath = elec_lca.create_user_input_file(\"C:\\myprojects\\SpringSchool\", warn_if_dir_created=True,  force_overwrite=True)\n",
    "filepath"
   ],
   "outputs": []
  },
  {
   "cell_type": "code",
   "execution_count": 5,
   "id": "7eaea5cc-d506-40b7-8412-12c82acbdf7e",
   "metadata": {
    "scrolled": true
   },
   "source": [
    "df_scenarios = elec_lca.read_user_input_template_excel_file(filepath.parent, filepath.name)"
   ],
   "outputs": []
  },
  {
   "cell_type": "code",
   "execution_count": 6,
   "id": "11dc501b-6db4-45ad-8e7d-af6ce90e0acb",
   "metadata": {
    "scrolled": true
   },
   "source": [
    "df_scenarios"
   ],
   "outputs": []
  },
  {
   "cell_type": "code",
   "execution_count": null,
   "id": "7fe3835e-2e81-44a2-a670-d62fb5b35d5d",
   "metadata": {},
   "source": [
    "wurst_dataset = elec_lca.create_datasets.new_electricity_market(database=database,\n",
    "                                                                location='CA-QC',\n",
    "                                                                df_scenario=df_scenarios[df_scenarios.period == 2023])"
   ],
   "outputs": []
  },
  {
   "cell_type": "code",
   "execution_count": null,
   "id": "e624bd43-26f7-4f75-920d-9afeb5c30fd1",
   "metadata": {},
   "source": [],
   "outputs": []
  }
 ],
 "metadata": {
  "kernelspec": {
   "display_name": "Python 3 (ipykernel)",
   "language": "python",
   "name": "python3"
  },
  "language_info": {
   "codemirror_mode": {
    "name": "ipython",
    "version": 3
   },
   "file_extension": ".py",
   "mimetype": "text/x-python",
   "name": "python",
   "nbconvert_exporter": "python",
   "pygments_lexer": "ipython3",
   "version": "3.10.14"
  }
 },
 "nbformat": 4,
 "nbformat_minor": 5
}
