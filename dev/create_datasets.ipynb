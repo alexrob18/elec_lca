{
 "cells": [
  {
   "cell_type": "markdown",
   "source": [
    "# Dev file for creating datasets"
   ],
   "metadata": {
    "collapsed": false
   }
  },
  {
   "cell_type": "code",
   "execution_count": 1,
   "source": [
    "import pandas as pd\n",
    "import wurst\n",
    "import bw2data as bd"
   ],
   "metadata": {
    "collapsed": false
   },
   "outputs": []
  },
  {
   "cell_type": "code",
   "execution_count": 2,
   "source": [
    "import elec_lca"
   ],
   "metadata": {
    "collapsed": false
   },
   "outputs": []
  },
  {
   "cell_type": "code",
   "execution_count": 3,
   "source": [
    "bd.projects.set_current(\"bw2_spring_school\")"
   ],
   "metadata": {
    "collapsed": false
   },
   "outputs": []
  },
  {
   "cell_type": "code",
   "execution_count": 4,
   "source": [
    "database = wurst.extract_brightway2_databases(\"ecoinvent3.8 cut-off\")"
   ],
   "metadata": {
    "collapsed": false
   },
   "outputs": []
  },
  {
   "cell_type": "code",
   "execution_count": 6,
   "source": [
    "df_mapping = pd.read_csv('../data/mappings/mapping_technologies_ecoinvent.csv')"
   ],
   "metadata": {
    "collapsed": false
   },
   "outputs": []
  },
  {
   "cell_type": "code",
   "execution_count": 5,
   "source": [
    "act_filter = [\n",
    "    wurst.searching.equals(\"name\", 'market for electricity, high voltage'),\n",
    "    wurst.searching.equals(\"reference product\", 'electricity, high voltage'),\n",
    "    wurst.searching.equals(\"location\", 'CA-QC')\n",
    "]\n",
    "\n",
    "ds = [a for a in wurst.searching.get_many(database, *act_filter)][0]\n",
    "\n",
    "ds['classifications']"
   ],
   "metadata": {
    "collapsed": false
   },
   "outputs": []
  },
  {
   "cell_type": "code",
   "execution_count": 7,
   "source": [
    "df_scenario = elec_lca.reading.read_user_input_template_excel_file('../data', 'user_input_template.xlsm')"
   ],
   "metadata": {
    "collapsed": false
   },
   "outputs": []
  },
  {
   "cell_type": "code",
   "execution_count": 8,
   "source": [
    "act_dict = elec_lca.create_datasets.mapping(df_mapping, 'Wind Energy Offshore', 'CA-QC')"
   ],
   "metadata": {
    "collapsed": false
   },
   "outputs": []
  },
  {
   "cell_type": "code",
   "execution_count": 9,
   "source": [
    "elec_lca.create_datasets.searching_dataset(database, act_dict)"
   ],
   "metadata": {
    "collapsed": false
   },
   "outputs": []
  },
  {
   "cell_type": "code",
   "execution_count": 10,
   "source": [
    "df_scenario[df_scenario.period == 2023]"
   ],
   "metadata": {
    "collapsed": false
   },
   "outputs": []
  },
  {
   "cell_type": "code",
   "execution_count": 11,
   "source": [
    "elec_lca.create_datasets.new_electricity_market(database=database,\n",
    "                                                location='CA-QC',\n",
    "                                                df_scenario=df_scenario[df_scenario.period == 2023],\n",
    "                                                df_mapping=df_mapping)"
   ],
   "metadata": {
    "collapsed": false
   },
   "outputs": []
  },
  {
   "cell_type": "code",
   "execution_count": 11,
   "source": [],
   "metadata": {
    "collapsed": false
   },
   "outputs": []
  }
 ],
 "metadata": {
  "kernelspec": {
   "display_name": "Python 3",
   "language": "python",
   "name": "python3"
  },
  "language_info": {
   "codemirror_mode": {
    "name": "ipython",
    "version": 2
   },
   "file_extension": ".py",
   "mimetype": "text/x-python",
   "name": "python",
   "nbconvert_exporter": "python",
   "pygments_lexer": "ipython2",
   "version": "2.7.6"
  }
 },
 "nbformat": 4,
 "nbformat_minor": 0
}
