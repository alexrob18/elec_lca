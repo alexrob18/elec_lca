{
 "cells": [
  {
   "cell_type": "markdown",
   "source": [
    "# Dev file for creating datasets"
   ],
   "metadata": {
    "collapsed": false
   }
  },
  {
   "cell_type": "code",
   "execution_count": 1,
   "outputs": [],
   "source": [
    "import pandas as pd\n",
    "import wurst\n",
    "import bw2data as bd"
   ],
   "metadata": {
    "collapsed": false
   }
  },
  {
   "cell_type": "code",
   "execution_count": 2,
   "outputs": [],
   "source": [
    "import elec_lca"
   ],
   "metadata": {
    "collapsed": false
   }
  },
  {
   "cell_type": "code",
   "execution_count": 3,
   "outputs": [],
   "source": [
    "bd.projects.set_current(\"bw2_spring_school\")"
   ],
   "metadata": {
    "collapsed": false
   }
  },
  {
   "cell_type": "code",
   "execution_count": 4,
   "outputs": [
    {
     "name": "stdout",
     "output_type": "stream",
     "text": [
      "Getting activity data\n"
     ]
    },
    {
     "name": "stderr",
     "output_type": "stream",
     "text": [
      "100%|██████████| 19565/19565 [00:00<00:00, 54557.89it/s]\n"
     ]
    },
    {
     "name": "stdout",
     "output_type": "stream",
     "text": [
      "Adding exchange data to activities\n"
     ]
    },
    {
     "name": "stderr",
     "output_type": "stream",
     "text": [
      "100%|██████████| 629959/629959 [00:44<00:00, 14061.83it/s]\n"
     ]
    },
    {
     "name": "stdout",
     "output_type": "stream",
     "text": [
      "Filling out exchange data\n"
     ]
    },
    {
     "name": "stderr",
     "output_type": "stream",
     "text": [
      "100%|██████████| 19565/19565 [00:04<00:00, 4845.14it/s]\n"
     ]
    }
   ],
   "source": [
    "database = wurst.extract_brightway2_databases(\"ecoinvent3.8 cut-off\")"
   ],
   "metadata": {
    "collapsed": false
   }
  },
  {
   "cell_type": "code",
   "execution_count": 5,
   "outputs": [
    {
     "data": {
      "text/plain": "'ecoinvent3.8 cut-off'"
     },
     "execution_count": 5,
     "metadata": {},
     "output_type": "execute_result"
    }
   ],
   "source": [
    "[i for i in database][0]['database']"
   ],
   "metadata": {
    "collapsed": false
   }
  },
  {
   "cell_type": "code",
   "execution_count": 6,
   "outputs": [],
   "source": [
    "df_mapping = pd.read_csv('../data/mappings/mapping_technologies_ecoinvent.csv')"
   ],
   "metadata": {
    "collapsed": false
   }
  },
  {
   "cell_type": "code",
   "execution_count": 7,
   "outputs": [],
   "source": [
    "df_scenario = elec_lca.reading.read_user_input_template_excel_file('../data', 'user_input_template.xlsm')"
   ],
   "metadata": {
    "collapsed": false
   }
  },
  {
   "cell_type": "code",
   "execution_count": 8,
   "outputs": [],
   "source": [
    "act_dict = elec_lca.create_datasets.mapping(df_mapping, 'Wind Energy Offshore', 'CA-QC')"
   ],
   "metadata": {
    "collapsed": false
   }
  },
  {
   "cell_type": "code",
   "execution_count": 9,
   "outputs": [
    {
     "data": {
      "text/plain": "{'classifications': [('EcoSpold01Categories', 'wind power/power plants'),\n  ('ISIC rev.4 ecoinvent',\n   '3510:Electric power generation, transmission and distribution'),\n  ('CPC', '17100: Electrical energy')],\n 'comment': 'According to The Wind Power Database (2014), total installed wind capacity on-and offshore {{location}} in the end of 2014 amounted to {{capacity_installed}} MW. {{shares}} \\nAt the moment, the {{on_offshore}} wind turbines are approximated with a 2MW wind turbine.\\nThis dataset represents the production of high voltage electricity at {{on_offshore}} grid-connected wind power plants {{location}} in {{year}}. It includes operation and maintenance expenditures as well as infrastructure inputs. Wind load hours have been adapted to local conditions (see parameters).\\n[This dataset is meant to replace the following datasets:]\\nTechnology:  Stiesdal H. (2001) Middelgrunden Offshore. A newsletter for customers and business associates, Bonus energy A/S. General technical description, Technical specification, Drawings and design, Bonus 2 MW offshore. Isager/Bogtryt/Offset, Svendborg, Denmark. www.bonus.dk\\nTechnical details of the modeled 2 MW offshore wind power plant\\nhttps://db3.ecoinvent.org/images/41626d58-4023-4151-b834-da0d7f2a51cc\\nReferences:',\n 'location': 'CA-QC',\n 'database': 'ecoinvent3.8 cut-off',\n 'code': 'eb730140a2244533b744ec06fba68713',\n 'categories': None,\n 'name': 'electricity production, wind, 1-3MW turbine, offshore',\n 'reference product': 'electricity, high voltage',\n 'unit': 'kilowatt hour',\n 'exchanges': [{'uncertainty type': 0,\n   'loc': 1.0,\n   'amount': 1.0,\n   'type': 'production',\n   'production volume': 1106041065070.5,\n   'product': 'electricity, high voltage',\n   'name': 'electricity production, wind, 1-3MW turbine, offshore',\n   'unit': 'kilowatt hour',\n   'location': 'CA-QC',\n   'database': 'ecoinvent3.8 cut-off'},\n  {'uncertainty type': 0,\n   'loc': 3.87,\n   'amount': 3.87,\n   'pedigree': {'reliability': 1,\n    'completeness': 1,\n    'temporal correlation': 3,\n    'geographical correlation': 1,\n    'further technological correlation': 1},\n   'type': 'biosphere',\n   'production volume': 0.0,\n   'input': ('biosphere3', '57c71b25-4663-4fad-9167-7ce5be3e8268'),\n   'name': 'Energy, kinetic (in wind), converted',\n   'product': None,\n   'unit': 'megajoule',\n   'location': None,\n   'database': 'biosphere3',\n   'categories': ('natural resource', 'in air')},\n  {'uncertainty type': 0,\n   'loc': -5.75e-05,\n   'amount': -5.75e-05,\n   'pedigree': {'reliability': 1,\n    'completeness': 1,\n    'temporal correlation': 3,\n    'geographical correlation': 1,\n    'further technological correlation': 1},\n   'type': 'technosphere',\n   'production volume': 63597361.2415537,\n   'product': 'waste mineral oil',\n   'name': 'market for waste mineral oil',\n   'unit': 'kilogram',\n   'location': 'RoW',\n   'database': 'ecoinvent3.8 cut-off'},\n  {'uncertainty type': 0,\n   'loc': 9.5e-09,\n   'amount': 9.5e-09,\n   'pedigree': {'reliability': 1,\n    'completeness': 1,\n    'temporal correlation': 3,\n    'geographical correlation': 1,\n    'further technological correlation': 1},\n   'type': 'technosphere',\n   'production volume': 0.0,\n   'product': 'wind power plant, 2MW, offshore, moving parts',\n   'name': 'market for wind power plant, 2MW, offshore, moving parts',\n   'unit': 'unit',\n   'location': 'GLO',\n   'database': 'ecoinvent3.8 cut-off'},\n  {'uncertainty type': 0,\n   'loc': 9.5e-09,\n   'amount': 9.5e-09,\n   'pedigree': {'reliability': 1,\n    'completeness': 1,\n    'temporal correlation': 3,\n    'geographical correlation': 1,\n    'further technological correlation': 1},\n   'type': 'technosphere',\n   'production volume': 0.0,\n   'product': 'wind power plant, 2MW, offshore, fixed parts',\n   'name': 'market for wind power plant, 2MW, offshore, fixed parts',\n   'unit': 'unit',\n   'location': 'GLO',\n   'database': 'ecoinvent3.8 cut-off'},\n  {'uncertainty type': 0,\n   'loc': 5.75e-05,\n   'amount': 5.75e-05,\n   'pedigree': {'reliability': 1,\n    'completeness': 1,\n    'temporal correlation': 3,\n    'geographical correlation': 1,\n    'further technological correlation': 1},\n   'type': 'technosphere',\n   'production volume': 0.0,\n   'product': 'lubricating oil',\n   'name': 'market for lubricating oil',\n   'unit': 'kilogram',\n   'location': 'RoW',\n   'database': 'ecoinvent3.8 cut-off'}],\n 'parameters': {'percentage_class_onshore': 1.0,\n  'losses_gross_net': 0.01,\n  'gross_electricity': 1131300000000.0},\n 'parameters full': [{'description': 'Percentage of onshore wind power plant class capacity on total',\n   'id': '48483cc6-a1bd-4a2e-b3ae-fad67c561ca4',\n   'unit': 'dimensionless',\n   'comment': 'Literature value/calculated value. Percentage of installed capacity with onshore wind turbines < 1MW on total installed wind capacity installed in this geography (see general comment for percentages in other size classes). \\nSource: \\n The Wind Power. 2014. Windpower and wind farms database. www.thewindpower.net, Status December 2014\\nPercentage of the wind power plant class energy production on total wind power production in a country. Classes: <1MW, 1-3MW, >3MW. Values for onshore wind power plants.',\n   'amount': 1.0,\n   'pedigree': {'reliability': 3,\n    'completeness': 2,\n    'temporal correlation': 1,\n    'geographical correlation': 1,\n    'further technological correlation': 2},\n   'uncertainty type': 2,\n   'loc': 0.0,\n   'scale': 0.0608276253029822,\n   'scale without pedigree': 0.03162277660168379,\n   'name': 'percentage_class_onshore'},\n  {'description': 'losses from gross electricity production',\n   'id': '22325219-5239-4f09-a250-5b20c7fe50d2',\n   'unit': 'dimensionless',\n   'comment': 'Estimation. The factor for the loss of electricity from gross to net electricity production is an assumption based on experiences, statistics and expertise (1% losses for wind).\\nnan',\n   'amount': 0.01,\n   'pedigree': {'reliability': 3,\n    'completeness': 3,\n    'temporal correlation': 1,\n    'geographical correlation': 3,\n    'further technological correlation': 3},\n   'uncertainty type': 2,\n   'loc': -4.605,\n   'scale': 0.1063014581273465,\n   'scale without pedigree': 0.02449489742783178,\n   'name': 'losses_gross_net'},\n  {'description': 'gross electricity production',\n   'id': '8ce7c260-eef4-467b-833a-7754240d2626',\n   'unit': 'kilowatt hour',\n   'comment': 'Literature value/statistics. Gross electricity production 2012 with wind power. For all OECD countries, the OECD iLibrary 2014 provides data on electricity production with wind power plants (gross values 2012). \\nFor all non-OECD countries and the world, this value is given in the Energy Statistics of non-OECD countries. \\n\\nOECD. 2014. IEA Electricity Information Statistics: OECD - Electricity and heat generation. OECD iLibrary. Online database. DOI : 10.1787/elect-data-en \\n IEA/OECD. 2014. Energy statistics of non-OECD countries 2014. International Energy Agency (IEA), Paris Cedex (FR). \\nnan',\n   'amount': 1131300000000.0,\n   'pedigree': {'reliability': 2,\n    'completeness': 1,\n    'temporal correlation': 1,\n    'geographical correlation': 1,\n    'further technological correlation': 2},\n   'uncertainty type': 2,\n   'loc': 27.75,\n   'scale': 0.042426406871192854,\n   'scale without pedigree': 0.02449489742783178,\n   'name': 'gross_electricity'}]}"
     },
     "execution_count": 9,
     "metadata": {},
     "output_type": "execute_result"
    }
   ],
   "source": [
    "elec_lca.create_datasets.searching_dataset(database, act_dict)"
   ],
   "metadata": {
    "collapsed": false
   }
  },
  {
   "cell_type": "code",
   "execution_count": 10,
   "outputs": [
    {
     "data": {
      "text/plain": "             technology period  value           scenario           location\n0               Nuclear   2023    0.1  (Select_scenario)  (Select_location)\n1  Wind Energy Offshore   2023    0.3  (Select_scenario)  (Select_location)\n2   Wind Energy Onshore   2023    0.6  (Select_scenario)  (Select_location)",
      "text/html": "<div>\n<style scoped>\n    .dataframe tbody tr th:only-of-type {\n        vertical-align: middle;\n    }\n\n    .dataframe tbody tr th {\n        vertical-align: top;\n    }\n\n    .dataframe thead th {\n        text-align: right;\n    }\n</style>\n<table border=\"1\" class=\"dataframe\">\n  <thead>\n    <tr style=\"text-align: right;\">\n      <th></th>\n      <th>technology</th>\n      <th>period</th>\n      <th>value</th>\n      <th>scenario</th>\n      <th>location</th>\n    </tr>\n  </thead>\n  <tbody>\n    <tr>\n      <th>0</th>\n      <td>Nuclear</td>\n      <td>2023</td>\n      <td>0.1</td>\n      <td>(Select_scenario)</td>\n      <td>(Select_location)</td>\n    </tr>\n    <tr>\n      <th>1</th>\n      <td>Wind Energy Offshore</td>\n      <td>2023</td>\n      <td>0.3</td>\n      <td>(Select_scenario)</td>\n      <td>(Select_location)</td>\n    </tr>\n    <tr>\n      <th>2</th>\n      <td>Wind Energy Onshore</td>\n      <td>2023</td>\n      <td>0.6</td>\n      <td>(Select_scenario)</td>\n      <td>(Select_location)</td>\n    </tr>\n  </tbody>\n</table>\n</div>"
     },
     "execution_count": 10,
     "metadata": {},
     "output_type": "execute_result"
    }
   ],
   "source": [
    "df_scenario[df_scenario.period == 2023]"
   ],
   "metadata": {
    "collapsed": false
   }
  },
  {
   "cell_type": "code",
   "execution_count": 11,
   "outputs": [
    {
     "name": "stdout",
     "output_type": "stream",
     "text": [
      "19567 datasets\n",
      "630028 exchanges\n",
      "0 unlinked exchanges\n",
      "  \n",
      "Not able to determine geocollections for all datasets. This database is not ready for regionalization.\n"
     ]
    },
    {
     "name": "stderr",
     "output_type": "stream",
     "text": [
      "100%|██████████| 19567/19567 [03:20<00:00, 97.68it/s] \n"
     ]
    },
    {
     "name": "stdout",
     "output_type": "stream",
     "text": [
      "Vacuuming database \n",
      "Created database: ecoinvent_updated_electricity_mix_CA-QC\n"
     ]
    },
    {
     "data": {
      "text/plain": "{'database': 'ecoinvent_updated_electricity_mix_CA-QC',\n 'code': 'bcc0266405aa419fa8b7a43e693349d7',\n 'name': 'market for electricity, high voltage',\n 'reference product': 'electricity, high voltage',\n 'location': 'CA-QC',\n 'unit': 'kilowatt hour',\n 'classifications': [],\n 'categories': None,\n 'comment': 'user-defined market electricity, high voltage',\n 'parameters': {},\n 'exchanges': [{'amount': 1.0,\n   'type': 'production',\n   'name': 'market for electricity, high voltage',\n   'database': 'ecoinvent3.8 cut-off',\n   'product': 'electricity, high voltage',\n   'unit': 'kilowatt hour',\n   'location': 'CA-QC',\n   'input': ('ecoinvent_updated_electricity_mix_CA-QC',\n    'bcc0266405aa419fa8b7a43e693349d7'),\n   'output': ('ecoinvent_updated_electricity_mix_CA-QC',\n    'bcc0266405aa419fa8b7a43e693349d7')},\n  {'amount': 0.1,\n   'type': 'technosphere',\n   'name': 'electricity production, nuclear, pressure water reactor',\n   'database': 'ecoinvent3.8 cut-off',\n   'product': 'electricity, high voltage',\n   'unit': 'kilowatt hour',\n   'location': 'CA-QC',\n   'input': ('ecoinvent_updated_electricity_mix_CA-QC',\n    'e06221b863054baa8d0f2c400d6ea6d8'),\n   'output': ('ecoinvent_updated_electricity_mix_CA-QC',\n    'bcc0266405aa419fa8b7a43e693349d7')},\n  {'amount': 0.3,\n   'type': 'technosphere',\n   'name': 'electricity production, wind, 1-3MW turbine, offshore',\n   'database': 'ecoinvent3.8 cut-off',\n   'product': 'electricity, high voltage',\n   'unit': 'kilowatt hour',\n   'location': 'CA-QC',\n   'input': ('ecoinvent_updated_electricity_mix_CA-QC',\n    'eb730140a2244533b744ec06fba68713'),\n   'output': ('ecoinvent_updated_electricity_mix_CA-QC',\n    'bcc0266405aa419fa8b7a43e693349d7')},\n  {'amount': 0.6,\n   'type': 'technosphere',\n   'name': 'electricity production, wind, 1-3MW turbine, onshore',\n   'database': 'ecoinvent3.8 cut-off',\n   'product': 'electricity, high voltage',\n   'unit': 'kilowatt hour',\n   'location': 'CA-QC',\n   'input': ('ecoinvent_updated_electricity_mix_CA-QC',\n    '5cb0c726fbb26c2443c3eb21572353ad'),\n   'output': ('ecoinvent_updated_electricity_mix_CA-QC',\n    'bcc0266405aa419fa8b7a43e693349d7')}]}"
     },
     "execution_count": 11,
     "metadata": {},
     "output_type": "execute_result"
    }
   ],
   "source": [
    "elec_lca.create_datasets.new_electricity_market(database=database,\n",
    "                                                location='CA-QC',\n",
    "                                                df_scenario=df_scenario[df_scenario.period == 2023],\n",
    "                                                df_mapping=df_mapping)"
   ],
   "metadata": {
    "collapsed": false
   }
  },
  {
   "cell_type": "code",
   "execution_count": 11,
   "outputs": [],
   "source": [],
   "metadata": {
    "collapsed": false
   }
  }
 ],
 "metadata": {
  "kernelspec": {
   "display_name": "Python 3",
   "language": "python",
   "name": "python3"
  },
  "language_info": {
   "codemirror_mode": {
    "name": "ipython",
    "version": 2
   },
   "file_extension": ".py",
   "mimetype": "text/x-python",
   "name": "python",
   "nbconvert_exporter": "python",
   "pygments_lexer": "ipython2",
   "version": "2.7.6"
  }
 },
 "nbformat": 4,
 "nbformat_minor": 0
}
