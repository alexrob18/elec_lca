{
 "cells": [
  {
   "cell_type": "code",
   "execution_count": 10,
   "id": "c06da2e3-8358-4420-853c-3338dcd30132",
   "metadata": {},
   "outputs": [],
   "source": [
    "import bw_processing as bwp\n",
    "import matrix_utils as mu\n",
    "import bw2calc as bc\n",
    "import numpy as np\n",
    "import pandas as pd"
   ]
  },
  {
   "cell_type": "code",
   "execution_count": 7,
   "id": "ad19b0bc-e33b-4f91-965a-418530a87339",
   "metadata": {},
   "outputs": [],
   "source": [
    "#!pip install matrix-utils"
   ]
  },
  {
   "cell_type": "code",
   "execution_count": 8,
   "id": "59587834-3553-446b-9775-9a061e4237a2",
   "metadata": {},
   "outputs": [],
   "source": [
    "#!pip install bw-processing"
   ]
  },
  {
   "cell_type": "code",
   "execution_count": null,
   "id": "92927c1e-4803-40da-9d04-1bf1e35809dd",
   "metadata": {},
   "outputs": [],
   "source": [
    "def get_elec_mix_data_for_Scn_x_Year_t(user_scn, user_yr, user_dt):\n",
    "    \"\"\" \n",
    "    input: user-defined elec_mix for user_scn, user_yr \n",
    "    output:\n",
    "        get_elec_mix_data: to be used in scenario_vector\n",
    "            the np.array for the elec_mix for user_scn/user_yr: e.g., \n",
    "            [[stores_coal_array],[stores_wind_array],[stores_gas_array]...] \n",
    "    \"\"\" \n",
    "    get_elec_mix_data = np.array( )\n",
    "    return (get_elec_mix_data)"
   ]
  },
  {
   "cell_type": "code",
   "execution_count": null,
   "id": "b7b65ce1-e675-47e3-a6c1-7432d9bacd21",
   "metadata": {},
   "outputs": [],
   "source": [
    "def get_elec_A_mat_indice_for_Scn_x_Year_t(user_scn, user_yr, elec_act):\n",
    "    \"\"\" \n",
    "    input: elec_act: the bw2 activity \n",
    "    output:\n",
    "        get_indice_from_A: indice for the elec_act from the A matrix\n",
    "    \"\"\" \n",
    "    lca = bc.LCA(demand = {elec_act:1})\n",
    "    lca.lci()\n",
    "    #BW2 \n",
    "    get_indice_from_A = lca.activity_dict[elec_act]\n",
    "    #BW25 \n",
    "    return (get_indice_from_A)"
   ]
  },
  {
   "cell_type": "code",
   "execution_count": 14,
   "id": "8c3be855-428b-4c7e-b999-8345df453b3a",
   "metadata": {},
   "outputs": [],
   "source": [
    "def get_elec_A_array_for_Scn_x_Year_t(user_scn, user_yr, get_indice_from_A, get_elec_mix_data): \n",
    "    \"\"\" \n",
    "    get_indice_from_A: the col_indice from A\n",
    "    user_scn : the user-defined scenario for the new elec_mix\n",
    "    user_yr: the year for the new elec_mix under user_scn \n",
    "    get_elec_mix_data: \n",
    "        the np.array for the elec_mix for user_scn/user_yr: e.g., \n",
    "        [[stores_coal_array],[stores_wind_array],[stores_gas_array]...]\n",
    "    \"\"\" \n",
    "    elec_scn = bwp.create_datapackage() \n",
    "    elec_scn.add_persistent_array(\n",
    "        matrix='technosphere_matrix',\n",
    "        indices_array=np.array([\n",
    "                get_indice_from_A, # new elec_mix indice for scn / Year\n",
    "            ], \n",
    "            dtype=bwp.INDICES_DTYPE\n",
    "        ),\n",
    "        # the array shape should be (N_of_elec_tech, )\n",
    "        data_array = get_elec_mix_data.reshape((1, -1)), \n",
    "        flip_array = np.array([True]),\n",
    "        name='scenario_' + str(user_scn) + 'year' + str(user_yr)\n",
    "    )\n",
    "    return elec_scn"
   ]
  },
  {
   "cell_type": "code",
   "execution_count": null,
   "id": "58a98f20-45a8-447f-b7d1-7f3a476851c2",
   "metadata": {},
   "outputs": [],
   "source": [
    "def get_elec_lcia_score(dp_A, get_indice_from_A, elec_scn, impact_method): \n",
    "    \"\"\" \n",
    "    dp_A: the original / or new_elec_mix A_matrix  \n",
    "    get_indice_from_A:  \n",
    "    elec_scn: \n",
    "    impact_method: the impact methods to run\n",
    "    \"\"\" \n",
    "    lca = bc.LCA(\n",
    "        demand={get_indice_from_A: 1},\n",
    "        data_objs=[dp_A, elec_scn],\n",
    "        method = impact_method, \n",
    "        use_arrays=True,\n",
    "    )\n",
    "    lca.lci()\n",
    "    lca.lcia()"
   ]
  },
  {
   "cell_type": "code",
   "execution_count": null,
   "id": "06e22666-c0c8-4f84-806d-25ec9f4f643f",
   "metadata": {},
   "outputs": [],
   "source": []
  },
  {
   "cell_type": "code",
   "execution_count": null,
   "id": "93fa3a77-2813-4dca-9d69-927d382717b1",
   "metadata": {},
   "outputs": [],
   "source": []
  }
 ],
 "metadata": {
  "kernelspec": {
   "display_name": "Python 3 (ipykernel)",
   "language": "python",
   "name": "python3"
  },
  "language_info": {
   "codemirror_mode": {
    "name": "ipython",
    "version": 3
   },
   "file_extension": ".py",
   "mimetype": "text/x-python",
   "name": "python",
   "nbconvert_exporter": "python",
   "pygments_lexer": "ipython3",
   "version": "3.10.14"
  }
 },
 "nbformat": 4,
 "nbformat_minor": 5
}
