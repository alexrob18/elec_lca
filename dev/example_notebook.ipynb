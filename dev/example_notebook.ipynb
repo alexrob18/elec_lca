{
 "cells": [
  {
   "cell_type": "markdown",
   "source": [
    "# Example notebook for the elec_lca package"
   ],
   "metadata": {
    "collapsed": false
   }
  },
  {
   "cell_type": "code",
   "execution_count": 1,
   "outputs": [],
   "source": [
    "import elec_lca\n",
    "import pickle"
   ],
   "metadata": {
    "collapsed": false
   }
  },
  {
   "cell_type": "markdown",
   "source": [
    "## User inputs"
   ],
   "metadata": {
    "collapsed": false
   }
  },
  {
   "cell_type": "code",
   "execution_count": 2,
   "outputs": [],
   "source": [
    "your_path_to_ei = '../dev/export/cache/ecoinvent.pickle' # pickle file of ecoinvent3.9.1\n",
    "your_path_to_excel_input_file = '../data/'\n",
    "lcia_methods_set = 'TRACI v2.1'"
   ],
   "metadata": {
    "collapsed": false
   }
  },
  {
   "cell_type": "markdown",
   "source": [
    "## Package call"
   ],
   "metadata": {
    "collapsed": false
   }
  },
  {
   "cell_type": "code",
   "execution_count": 3,
   "outputs": [],
   "source": [
    "def load_db():\n",
    "    with open(your_path_to_ei, \"rb\") as input_file:\n",
    "        db = pickle.load(input_file)\n",
    "\n",
    "    for ds in db:\n",
    "        if \"categories\" in ds:\n",
    "            del ds[\"categories\"]\n",
    "\n",
    "    return db"
   ],
   "metadata": {
    "collapsed": false
   }
  },
  {
   "cell_type": "code",
   "execution_count": 4,
   "outputs": [],
   "source": [
    "db = load_db()"
   ],
   "metadata": {
    "collapsed": false
   }
  },
  {
   "cell_type": "code",
   "execution_count": 5,
   "outputs": [
    {
     "name": "stdout",
     "output_type": "stream",
     "text": [
      "This command was canceled since the file already exist, if you want to overwrite it you can use the function with the following argument:\n",
      "\t\tforce_overwrite=True\n",
      "Centralized photovoltaic panels\n",
      "Decentralized photovoltaic panels\n",
      "Heavy fuel oil\n",
      "Hydrogen\n",
      "Landfill gases\n",
      "Light fuel oil\n",
      "Natural gas\n"
     ]
    },
    {
     "name": "stderr",
     "output_type": "stream",
     "text": [
      "RoE not found in ISO3\n"
     ]
    },
    {
     "name": "stdout",
     "output_type": "stream",
     "text": [
      "Onshore turbines\n",
      "Small modular reactor\n",
      "Storage dam\n",
      "Wood\n",
      "Run-of-river\n",
      "{('CA-QC', 'NZ50', 2020, 'TRACI v2.1 - acidification - acidification potential (AP)'): [0.06432297264296959], ('CA-QC', 'NZ50', 2025, 'TRACI v2.1 - acidification - acidification potential (AP)'): [0.06414458707631598], ('CA-QC', 'NZ50', 2030, 'TRACI v2.1 - acidification - acidification potential (AP)'): [0.06396775056780102], ('CA-QC', 'NZ50', 2035, 'TRACI v2.1 - acidification - acidification potential (AP)'): [0.06415515305862314], ('CA-QC', 'NZ50', 2040, 'TRACI v2.1 - acidification - acidification potential (AP)'): [0.06433589024227883], ('CA-QC', 'NZ50', 2045, 'TRACI v2.1 - acidification - acidification potential (AP)'): [0.06465836610561908], ('CA-QC', 'NZ50', 2050, 'TRACI v2.1 - acidification - acidification potential (AP)'): [0.0649798851841416], ('CA-QC', 'NZ50', 2020, 'TRACI v2.1 - climate change - global warming potential (GWP100)'): [57.36798856007735], ('CA-QC', 'NZ50', 2025, 'TRACI v2.1 - climate change - global warming potential (GWP100)'): [57.309496664605945], ('CA-QC', 'NZ50', 2030, 'TRACI v2.1 - climate change - global warming potential (GWP100)'): [57.25151264582241], ('CA-QC', 'NZ50', 2035, 'TRACI v2.1 - climate change - global warming potential (GWP100)'): [57.30016623380036], ('CA-QC', 'NZ50', 2040, 'TRACI v2.1 - climate change - global warming potential (GWP100)'): [57.34708927385888], ('CA-QC', 'NZ50', 2045, 'TRACI v2.1 - climate change - global warming potential (GWP100)'): [57.363231004631594], ('CA-QC', 'NZ50', 2050, 'TRACI v2.1 - climate change - global warming potential (GWP100)'): [57.37932482177319], ('CA-QC', 'NZ50', 2020, 'TRACI v2.1 - ecotoxicity: freshwater - ecotoxicity: freshwater'): [70.30675589260389], ('CA-QC', 'NZ50', 2025, 'TRACI v2.1 - ecotoxicity: freshwater - ecotoxicity: freshwater'): [72.54561226001367], ('CA-QC', 'NZ50', 2030, 'TRACI v2.1 - ecotoxicity: freshwater - ecotoxicity: freshwater'): [74.76503016165672], ('CA-QC', 'NZ50', 2035, 'TRACI v2.1 - ecotoxicity: freshwater - ecotoxicity: freshwater'): [81.06619322507278], ('CA-QC', 'NZ50', 2040, 'TRACI v2.1 - ecotoxicity: freshwater - ecotoxicity: freshwater'): [87.14323423074168], ('CA-QC', 'NZ50', 2045, 'TRACI v2.1 - ecotoxicity: freshwater - ecotoxicity: freshwater'): [100.39440957491861], ('CA-QC', 'NZ50', 2050, 'TRACI v2.1 - ecotoxicity: freshwater - ecotoxicity: freshwater'): [113.60629114956635], ('CA-QC', 'NZ50', 2020, 'TRACI v2.1 - eutrophication - eutrophication potential'): [0.0074402555286924455], ('CA-QC', 'NZ50', 2025, 'TRACI v2.1 - eutrophication - eutrophication potential'): [0.007487489473711153], ('CA-QC', 'NZ50', 2030, 'TRACI v2.1 - eutrophication - eutrophication potential'): [0.007534313431629385], ('CA-QC', 'NZ50', 2035, 'TRACI v2.1 - eutrophication - eutrophication potential'): [0.0076923863225917015], ('CA-QC', 'NZ50', 2040, 'TRACI v2.1 - eutrophication - eutrophication potential'): [0.007844837023093902], ('CA-QC', 'NZ50', 2045, 'TRACI v2.1 - eutrophication - eutrophication potential'): [0.008177936901388834], ('CA-QC', 'NZ50', 2050, 'TRACI v2.1 - eutrophication - eutrophication potential'): [0.008510048727842558], ('CA-QC', 'NZ50', 2020, 'TRACI v2.1 - human toxicity: carcinogenic - human toxicity: carcinogenic'): [4.721213854762074e-07], ('CA-QC', 'NZ50', 2025, 'TRACI v2.1 - human toxicity: carcinogenic - human toxicity: carcinogenic'): [4.817260015930737e-07], ('CA-QC', 'NZ50', 2030, 'TRACI v2.1 - human toxicity: carcinogenic - human toxicity: carcinogenic'): [4.912472232686921e-07], ('CA-QC', 'NZ50', 2035, 'TRACI v2.1 - human toxicity: carcinogenic - human toxicity: carcinogenic'): [5.235288286688575e-07], ('CA-QC', 'NZ50', 2040, 'TRACI v2.1 - human toxicity: carcinogenic - human toxicity: carcinogenic'): [5.546622248558161e-07], ('CA-QC', 'NZ50', 2045, 'TRACI v2.1 - human toxicity: carcinogenic - human toxicity: carcinogenic'): [6.240783521382231e-07], ('CA-QC', 'NZ50', 2050, 'TRACI v2.1 - human toxicity: carcinogenic - human toxicity: carcinogenic'): [6.932886933892809e-07], ('CA-QC', 'NZ50', 2020, 'TRACI v2.1 - human toxicity: non-carcinogenic - human toxicity: non-carcinogenic'): [1.3028531782283915e-05], ('CA-QC', 'NZ50', 2025, 'TRACI v2.1 - human toxicity: non-carcinogenic - human toxicity: non-carcinogenic'): [1.3027706525502543e-05], ('CA-QC', 'NZ50', 2030, 'TRACI v2.1 - human toxicity: non-carcinogenic - human toxicity: non-carcinogenic'): [1.3026888436930903e-05], ('CA-QC', 'NZ50', 2035, 'TRACI v2.1 - human toxicity: non-carcinogenic - human toxicity: non-carcinogenic'): [1.3052946658971654e-05], ('CA-QC', 'NZ50', 2040, 'TRACI v2.1 - human toxicity: non-carcinogenic - human toxicity: non-carcinogenic'): [1.3078078086175271e-05], ('CA-QC', 'NZ50', 2045, 'TRACI v2.1 - human toxicity: non-carcinogenic - human toxicity: non-carcinogenic'): [1.3114295380180768e-05], ('CA-QC', 'NZ50', 2050, 'TRACI v2.1 - human toxicity: non-carcinogenic - human toxicity: non-carcinogenic'): [1.315040515326373e-05], ('CA-QC', 'NZ50', 2020, 'TRACI v2.1 - ozone depletion - ozone depletion potential (ODP)'): [3.8694125686345395e-07], ('CA-QC', 'NZ50', 2025, 'TRACI v2.1 - ozone depletion - ozone depletion potential (ODP)'): [3.8686047387527115e-07], ('CA-QC', 'NZ50', 2030, 'TRACI v2.1 - ozone depletion - ozone depletion potential (ODP)'): [3.8678039290304276e-07], ('CA-QC', 'NZ50', 2035, 'TRACI v2.1 - ozone depletion - ozone depletion potential (ODP)'): [3.879720172063018e-07], ('CA-QC', 'NZ50', 2040, 'TRACI v2.1 - ozone depletion - ozone depletion potential (ODP)'): [3.891212569850936e-07], ('CA-QC', 'NZ50', 2045, 'TRACI v2.1 - ozone depletion - ozone depletion potential (ODP)'): [3.905015003582255e-07], ('CA-QC', 'NZ50', 2050, 'TRACI v2.1 - ozone depletion - ozone depletion potential (ODP)'): [3.918776512749339e-07], ('CA-QC', 'NZ50', 2020, 'TRACI v2.1 - particulate matter formation - particulate matter formation potential (PMFP)'): [0.006199952558396606], ('CA-QC', 'NZ50', 2025, 'TRACI v2.1 - particulate matter formation - particulate matter formation potential (PMFP)'): [0.006199334230273197], ('CA-QC', 'NZ50', 2030, 'TRACI v2.1 - particulate matter formation - particulate matter formation potential (PMFP)'): [0.006198721300758426], ('CA-QC', 'NZ50', 2035, 'TRACI v2.1 - particulate matter formation - particulate matter formation potential (PMFP)'): [0.00624567550482761], ('CA-QC', 'NZ50', 2040, 'TRACI v2.1 - particulate matter formation - particulate matter formation potential (PMFP)'): [0.006290959666821362], ('CA-QC', 'NZ50', 2045, 'TRACI v2.1 - particulate matter formation - particulate matter formation potential (PMFP)'): [0.006386749760674294], ('CA-QC', 'NZ50', 2050, 'TRACI v2.1 - particulate matter formation - particulate matter formation potential (PMFP)'): [0.006482255789938909], ('CA-QC', 'NZ50', 2020, 'TRACI v2.1 - photochemical oxidant formation - maximum incremental reactivity (MIR)'): [1.4771596917759948], ('CA-QC', 'NZ50', 2025, 'TRACI v2.1 - photochemical oxidant formation - maximum incremental reactivity (MIR)'): [1.4748833311716927], ('CA-QC', 'NZ50', 2030, 'TRACI v2.1 - photochemical oxidant formation - maximum incremental reactivity (MIR)'): [1.472626739686126], ('CA-QC', 'NZ50', 2035, 'TRACI v2.1 - photochemical oxidant formation - maximum incremental reactivity (MIR)'): [1.4754838578853442], ('CA-QC', 'NZ50', 2040, 'TRACI v2.1 - photochemical oxidant formation - maximum incremental reactivity (MIR)'): [1.478239353985925], ('CA-QC', 'NZ50', 2045, 'TRACI v2.1 - photochemical oxidant formation - maximum incremental reactivity (MIR)'): [1.4821951074945172], ('CA-QC', 'NZ50', 2050, 'TRACI v2.1 - photochemical oxidant formation - maximum incremental reactivity (MIR)'): [1.4861391282148797]}\n"
     ]
    }
   ],
   "source": [
    "elec_obj = elec_lca.Elec_LCA(db, lcia_methods_set)\n",
    "elec_obj.create_input_file(your_path_to_excel_input_file)\n",
    "elec_obj.load_user_input_file()\n",
    "elec_obj.create_new_location_dataset()\n",
    "elec_obj.compute_lca_score_for_all_scenario()"
   ],
   "metadata": {
    "collapsed": false
   }
  },
  {
   "cell_type": "markdown",
   "source": [
    "## Results"
   ],
   "metadata": {
    "collapsed": false
   }
  },
  {
   "cell_type": "code",
   "execution_count": 6,
   "outputs": [
    {
     "data": {
      "text/plain": "                                                                                value\nlocation period scenario impact_method                                               \nCA-QC    2020   NZ50     TRACI v2.1 - acidification - acidification pote...  0.064323\n         2025   NZ50     TRACI v2.1 - acidification - acidification pote...  0.064145\n         2030   NZ50     TRACI v2.1 - acidification - acidification pote...  0.063968\n         2035   NZ50     TRACI v2.1 - acidification - acidification pote...  0.064155\n         2040   NZ50     TRACI v2.1 - acidification - acidification pote...  0.064336\n...                                                                               ...\n         2030   NZ50     TRACI v2.1 - photochemical oxidant formation - ...  1.472627\n         2035   NZ50     TRACI v2.1 - photochemical oxidant formation - ...  1.475484\n         2040   NZ50     TRACI v2.1 - photochemical oxidant formation - ...  1.478239\n         2045   NZ50     TRACI v2.1 - photochemical oxidant formation - ...  1.482195\n         2050   NZ50     TRACI v2.1 - photochemical oxidant formation - ...  1.486139\n\n[63 rows x 1 columns]",
      "text/html": "<div>\n<style scoped>\n    .dataframe tbody tr th:only-of-type {\n        vertical-align: middle;\n    }\n\n    .dataframe tbody tr th {\n        vertical-align: top;\n    }\n\n    .dataframe thead th {\n        text-align: right;\n    }\n</style>\n<table border=\"1\" class=\"dataframe\">\n  <thead>\n    <tr style=\"text-align: right;\">\n      <th></th>\n      <th></th>\n      <th></th>\n      <th></th>\n      <th>value</th>\n    </tr>\n    <tr>\n      <th>location</th>\n      <th>period</th>\n      <th>scenario</th>\n      <th>impact_method</th>\n      <th></th>\n    </tr>\n  </thead>\n  <tbody>\n    <tr>\n      <th rowspan=\"11\" valign=\"top\">CA-QC</th>\n      <th>2020</th>\n      <th>NZ50</th>\n      <th>TRACI v2.1 - acidification - acidification potential (AP)</th>\n      <td>0.064323</td>\n    </tr>\n    <tr>\n      <th>2025</th>\n      <th>NZ50</th>\n      <th>TRACI v2.1 - acidification - acidification potential (AP)</th>\n      <td>0.064145</td>\n    </tr>\n    <tr>\n      <th>2030</th>\n      <th>NZ50</th>\n      <th>TRACI v2.1 - acidification - acidification potential (AP)</th>\n      <td>0.063968</td>\n    </tr>\n    <tr>\n      <th>2035</th>\n      <th>NZ50</th>\n      <th>TRACI v2.1 - acidification - acidification potential (AP)</th>\n      <td>0.064155</td>\n    </tr>\n    <tr>\n      <th>2040</th>\n      <th>NZ50</th>\n      <th>TRACI v2.1 - acidification - acidification potential (AP)</th>\n      <td>0.064336</td>\n    </tr>\n    <tr>\n      <th>...</th>\n      <th>...</th>\n      <th>...</th>\n      <td>...</td>\n    </tr>\n    <tr>\n      <th>2030</th>\n      <th>NZ50</th>\n      <th>TRACI v2.1 - photochemical oxidant formation - maximum incremental reactivity (MIR)</th>\n      <td>1.472627</td>\n    </tr>\n    <tr>\n      <th>2035</th>\n      <th>NZ50</th>\n      <th>TRACI v2.1 - photochemical oxidant formation - maximum incremental reactivity (MIR)</th>\n      <td>1.475484</td>\n    </tr>\n    <tr>\n      <th>2040</th>\n      <th>NZ50</th>\n      <th>TRACI v2.1 - photochemical oxidant formation - maximum incremental reactivity (MIR)</th>\n      <td>1.478239</td>\n    </tr>\n    <tr>\n      <th>2045</th>\n      <th>NZ50</th>\n      <th>TRACI v2.1 - photochemical oxidant formation - maximum incremental reactivity (MIR)</th>\n      <td>1.482195</td>\n    </tr>\n    <tr>\n      <th>2050</th>\n      <th>NZ50</th>\n      <th>TRACI v2.1 - photochemical oxidant formation - maximum incremental reactivity (MIR)</th>\n      <td>1.486139</td>\n    </tr>\n  </tbody>\n</table>\n<p>63 rows × 1 columns</p>\n</div>"
     },
     "execution_count": 6,
     "metadata": {},
     "output_type": "execute_result"
    }
   ],
   "source": [
    "elec_obj.df_results"
   ],
   "metadata": {
    "collapsed": false
   }
  },
  {
   "cell_type": "code",
   "execution_count": null,
   "outputs": [],
   "source": [],
   "metadata": {
    "collapsed": false
   }
  }
 ],
 "metadata": {
  "kernelspec": {
   "display_name": "Python 3",
   "language": "python",
   "name": "python3"
  },
  "language_info": {
   "codemirror_mode": {
    "name": "ipython",
    "version": 2
   },
   "file_extension": ".py",
   "mimetype": "text/x-python",
   "name": "python",
   "nbconvert_exporter": "python",
   "pygments_lexer": "ipython2",
   "version": "2.7.6"
  }
 },
 "nbformat": 4,
 "nbformat_minor": 0
}
