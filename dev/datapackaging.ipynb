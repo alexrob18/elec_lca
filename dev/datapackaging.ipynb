{
 "cells": [
  {
   "cell_type": "code",
   "execution_count": 10,
   "id": "00239756-5020-4da1-b342-fd9e297c10b9",
   "metadata": {},
   "source": [
    "import wurst\n",
    "import bw2data, bw2io\n",
    "import elec_lca"
   ],
   "outputs": []
  },
  {
   "cell_type": "code",
   "execution_count": 2,
   "id": "e3323fcc-6dfa-4c01-9a49-e30fc001a42c",
   "metadata": {},
   "source": [
    "bw2data.projects.set_current(\"bw2_spring_school\")"
   ],
   "outputs": []
  },
  {
   "cell_type": "code",
   "execution_count": 12,
   "source": [
    "database = elec_lca.caching.load_db()"
   ],
   "metadata": {
    "collapsed": false
   },
   "id": "c4803c002dd2283d",
   "outputs": []
  },
  {
   "cell_type": "code",
   "execution_count": 34,
   "id": "1debc857-b2a6-45ab-a684-d397fa001f21",
   "metadata": {},
   "source": [
    "flows = []\n",
    "methods = []\n",
    "for m in list(bw2data.methods):\n",
    "    if m[0] == 'ReCiPe Endpoint (H,A)':\n",
    "        d = {\"name\": list(m), \"exchanges\": []}\n",
    "        #print(m)\n",
    "        method = bw2data.Method(m)\n",
    "        cfs = method.load()\n",
    "        for idx, val in cfs:\n",
    "            act = bw2data.get_activity(idx)\n",
    "            d[\"exchanges\"].append({\n",
    "                \"name\": act[\"name\"],\n",
    "                \"categories\": list(act[\"categories\"]),\n",
    "                \"amount\": val\n",
    "            })\n",
    "        flows.append(d)\n",
    "        methods.append(m)"
   ],
   "outputs": []
  },
  {
   "cell_type": "code",
   "execution_count": 17,
   "id": "9ba6ee41-cf04-4975-bb40-bff6c4c95e5d",
   "metadata": {},
   "source": [
    "# import json\n",
    "#\n",
    "# with open('../elec_lca/data/lcia_data.json', 'w') as f:\n",
    "#     json.dump(flows, f)"
   ],
   "outputs": []
  },
  {
   "cell_type": "code",
   "execution_count": 36,
   "source": [
    "methods = [\" - \".join(i) for i in methods]"
   ],
   "metadata": {
    "collapsed": false
   },
   "id": "937762563c581cfa",
   "outputs": []
  },
  {
   "cell_type": "code",
   "execution_count": 28,
   "id": "46443e07-c032-4c16-8c0d-313007bd2179",
   "metadata": {},
   "source": [
    "from elec_lca.local_datapackage import create_datapackage\n",
    "dps, tech_dict, bio_dict = create_datapackage(database, methods=methods)"
   ],
   "outputs": []
  },
  {
   "cell_type": "code",
   "execution_count": 29,
   "id": "4036e07d-efec-4365-aaf8-5c747f70c86c",
   "metadata": {},
   "source": [
    "import bw2calc"
   ],
   "outputs": []
  },
  {
   "cell_type": "code",
   "execution_count": 30,
   "id": "df7cac7f-c30b-44d7-9170-177eeb4de27a",
   "metadata": {},
   "source": [
    "for dp in dps:\n",
    "    lca = bw2calc.LCA(\n",
    "        {0: 1},\n",
    "        data_objs=[dp]\n",
    "    )\n",
    "    lca.lci()\n",
    "    lca.lcia()\n",
    "    print(lca.score)"
   ],
   "outputs": []
  },
  {
   "cell_type": "code",
   "execution_count": 7,
   "id": "a1a27296-3ae8-4ea5-b90d-4d7469eb72dd",
   "metadata": {},
   "source": [],
   "outputs": []
  }
 ],
 "metadata": {
  "kernelspec": {
   "display_name": "Python 3 (ipykernel)",
   "language": "python",
   "name": "python3"
  },
  "language_info": {
   "codemirror_mode": {
    "name": "ipython",
    "version": 3
   },
   "file_extension": ".py",
   "mimetype": "text/x-python",
   "name": "python",
   "nbconvert_exporter": "python",
   "pygments_lexer": "ipython3",
   "version": "3.11.9"
  }
 },
 "nbformat": 4,
 "nbformat_minor": 5
}
