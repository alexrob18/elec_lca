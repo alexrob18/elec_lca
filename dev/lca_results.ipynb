{
 "cells": [
  {
   "cell_type": "markdown",
   "source": [
    "# Dev notebook for lca results generation thorugh bw2calc"
   ],
   "metadata": {
    "collapsed": false
   }
  },
  {
   "cell_type": "code",
   "execution_count": 1,
   "outputs": [],
   "source": [
    "import bw2calc as bc\n",
    "import bw2data\n",
    "import wurst\n",
    "import bw2data as bd\n",
    "import elec_lca"
   ],
   "metadata": {
    "collapsed": false
   }
  },
  {
   "cell_type": "code",
   "execution_count": 2,
   "outputs": [],
   "source": [
    "bd.projects.set_current(\"bw2_spring_school\")"
   ],
   "metadata": {
    "collapsed": false
   }
  },
  {
   "cell_type": "code",
   "execution_count": 11,
   "outputs": [
    {
     "name": "stdout",
     "output_type": "stream",
     "text": [
      "Getting activity data\n"
     ]
    },
    {
     "name": "stderr",
     "output_type": "stream",
     "text": [
      "100%|██████████| 19567/19567 [00:00<00:00, 71207.15it/s]\n"
     ]
    },
    {
     "name": "stdout",
     "output_type": "stream",
     "text": [
      "Adding exchange data to activities\n"
     ]
    },
    {
     "name": "stderr",
     "output_type": "stream",
     "text": [
      "100%|██████████| 630028/630028 [00:36<00:00, 17057.37it/s]\n"
     ]
    },
    {
     "name": "stdout",
     "output_type": "stream",
     "text": [
      "Filling out exchange data\n"
     ]
    },
    {
     "name": "stderr",
     "output_type": "stream",
     "text": [
      "100%|██████████| 19567/19567 [00:02<00:00, 6551.78it/s] \n"
     ]
    }
   ],
   "source": [
    "database = wurst.extract_brightway2_databases(\"ecoinvent_updated_electricity_mix_CA-QC\")"
   ],
   "metadata": {
    "collapsed": false
   }
  },
  {
   "cell_type": "code",
   "execution_count": 12,
   "outputs": [
    {
     "data": {
      "text/plain": "[('IPCC 2001 (superseded)', 'climate change', 'GWP 500a'),\n ('IPCC 2001 (superseded)', 'climate change', 'GWP 20a'),\n ('IPCC 2001 (superseded)', 'climate change', 'GWP 100a'),\n ('IPCC 2007 (superseded)', 'climate change', 'GWP 100a'),\n ('IPCC 2007 (superseded)', 'climate change', 'GWP 20a'),\n ('IPCC 2007 (superseded)', 'climate change', 'GWP 500a'),\n ('IPCC 2007 no LT (superseded)', 'climate change', 'GWP 100a'),\n ('IPCC 2007 no LT (superseded)', 'climate change', 'GWP 20a'),\n ('IPCC 2007 no LT (superseded)', 'climate change', 'GWP 500a'),\n ('IPCC 2013 no LT', 'climate change', 'GTP 100a'),\n ('IPCC 2013 no LT', 'climate change', 'GTP 20a'),\n ('IPCC 2013 no LT', 'climate change', 'GWP 100a'),\n ('IPCC 2013 no LT', 'climate change', 'GWP 20a'),\n ('IPCC 2013', 'climate change', 'GTP 100a'),\n ('IPCC 2013', 'climate change', 'GTP 20a'),\n ('IPCC 2013', 'climate change', 'GWP 100a'),\n ('IPCC 2013', 'climate change', 'GWP 20a')]"
     },
     "execution_count": 12,
     "metadata": {},
     "output_type": "execute_result"
    }
   ],
   "source": [
    "[i for i in bd.methods if 'IPCC' in i[0]]"
   ],
   "metadata": {
    "collapsed": false
   }
  },
  {
   "cell_type": "code",
   "execution_count": 14,
   "outputs": [],
   "source": [
    "act = (database[0]['database'], database[0]['code'])\n",
    "lca = bc.LCA(demand={act: 1}, method=('IPCC 2013', 'climate change', 'GTP 20a')) # lca for random dataset\n",
    "lca.lci()\n",
    "lca.lcia()"
   ],
   "metadata": {
    "collapsed": false
   }
  },
  {
   "cell_type": "code",
   "execution_count": 20,
   "outputs": [
    {
     "data": {
      "text/plain": "23999"
     },
     "execution_count": 20,
     "metadata": {},
     "output_type": "execute_result"
    }
   ],
   "source": [
    "bd.get_id(act)"
   ],
   "metadata": {
    "collapsed": false
   }
  },
  {
   "cell_type": "code",
   "execution_count": 21,
   "outputs": [
    {
     "data": {
      "text/plain": "0"
     },
     "execution_count": 21,
     "metadata": {},
     "output_type": "execute_result"
    }
   ],
   "source": [
    "lca.activity_dict[23999]"
   ],
   "metadata": {
    "collapsed": false
   }
  },
  {
   "cell_type": "code",
   "execution_count": 17,
   "outputs": [
    {
     "data": {
      "text/plain": "[{'classifications': [('ISIC rev.4 ecoinvent',\n    '3510:Electric power generation, transmission and distribution'),\n   ('CPC', '17100: Electrical energy')],\n  'comment': 'This dataset changes the names of the (internally used) electricity product of waste incineration and connects it with the external grid and the respective average energy markets (grid electricity).\\nTime period:  The Annual Production volume is valid for the year 2012.',\n  'location': 'GR',\n  'database': 'ecoinvent_updated_electricity_mix_CA-QC',\n  'code': '00014e7e2dd160027166b7274d58b7cc',\n  'categories': None,\n  'name': 'electricity, from municipal waste incineration to generic market for electricity, medium voltage',\n  'reference product': 'electricity, medium voltage',\n  'unit': 'kilowatt hour',\n  'exchanges': [{'uncertainty type': 0,\n    'loc': 1.0,\n    'amount': 1.0,\n    'type': 'production',\n    'production volume': 60000000.0,\n    'product': 'electricity, medium voltage',\n    'name': 'electricity, from municipal waste incineration to generic market for electricity, medium voltage',\n    'unit': 'kilowatt hour',\n    'location': 'GR',\n    'database': 'ecoinvent_updated_electricity_mix_CA-QC'},\n   {'uncertainty type': 2,\n    'loc': 0.0,\n    'scale': 0.044721359549995794,\n    'amount': 1.0,\n    'pedigree': {'reliability': 1,\n     'completeness': 1,\n     'temporal correlation': 3,\n     'geographical correlation': 1,\n     'further technological correlation': 1},\n    'type': 'technosphere',\n    'production volume': 0.0,\n    'product': 'electricity, for reuse in municipal waste incineration only',\n    'name': 'market for electricity, for reuse in municipal waste incineration only',\n    'unit': 'kilowatt hour',\n    'location': 'RoW',\n    'database': 'ecoinvent_updated_electricity_mix_CA-QC'}],\n  'parameters': {},\n  'parameters full': []}]"
     },
     "execution_count": 17,
     "metadata": {},
     "output_type": "execute_result"
    }
   ],
   "source": [
    "[i for i in database if (\n",
    "    i['code'] == '00014e7e2dd160027166b7274d58b7cc'\n",
    ")]"
   ],
   "metadata": {
    "collapsed": false
   }
  },
  {
   "cell_type": "code",
   "execution_count": null,
   "outputs": [],
   "source": [],
   "metadata": {
    "collapsed": false
   }
  },
  {
   "cell_type": "code",
   "execution_count": 22,
   "outputs": [
    {
     "data": {
      "text/plain": "<19567x19567 sparse matrix of type '<class 'numpy.float64'>'\n\twith 240869 stored elements in Compressed Sparse Row format>"
     },
     "execution_count": 22,
     "metadata": {},
     "output_type": "execute_result"
    }
   ],
   "source": [
    "lca.technosphere_matrix"
   ],
   "metadata": {
    "collapsed": false
   }
  }
 ],
 "metadata": {
  "kernelspec": {
   "display_name": "Python 3",
   "language": "python",
   "name": "python3"
  },
  "language_info": {
   "codemirror_mode": {
    "name": "ipython",
    "version": 2
   },
   "file_extension": ".py",
   "mimetype": "text/x-python",
   "name": "python",
   "nbconvert_exporter": "python",
   "pygments_lexer": "ipython2",
   "version": "2.7.6"
  }
 },
 "nbformat": 4,
 "nbformat_minor": 0
}
