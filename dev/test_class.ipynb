{
 "cells": [
  {
   "cell_type": "code",
   "execution_count": 1,
   "id": "89bd19f2-952c-4090-b5a7-f96e44cc99b0",
   "metadata": {},
   "outputs": [],
   "source": [
    "import elec_lca\n",
    "import pandas as pd\n",
    "import wurst\n",
    "import bw2data as bd"
   ]
  },
  {
   "cell_type": "code",
   "execution_count": null,
   "id": "aa2d5247-26a8-4e21-807d-4d9bc74cd48a",
   "metadata": {},
   "outputs": [],
   "source": [
    "bd.projects.set_current(\"bw2_spring_school\")\n",
    "database = wurst.extract_brightway2_databases(\"ecoinvent3.8 cut-off\")"
   ]
  },
  {
   "cell_type": "code",
   "execution_count": 2,
   "id": "04619c2d-cbdf-4307-b46b-2c7c2430e9c0",
   "metadata": {},
   "outputs": [],
   "source": [
    "import pickle\n",
    "# r\"C:\\Users\\RobertsonA\\Desktop\\ei391.pickle\"\n",
    "# r\"C:\\myprojects\\SpringSchool\\ei391.pickle\"\n",
    "\n",
    "def load_db():\n",
    "    with open(r\"C:\\myprojects\\SpringSchool\\ei391.pickle\", \"rb\") as input_file:\n",
    "        db = pickle.load(input_file)\n",
    "\n",
    "    for ds in db:\n",
    "        if \"categories\" in ds:\n",
    "            del ds[\"categories\"]\n",
    "            \n",
    "    return db"
   ]
  },
  {
   "cell_type": "code",
   "execution_count": 3,
   "id": "187e8e4d-5557-492b-9ad7-c09f8df39ac2",
   "metadata": {},
   "outputs": [],
   "source": [
    "database = load_db()"
   ]
  },
  {
   "cell_type": "code",
   "execution_count": 4,
   "id": "cd6a2bf2-9fb6-400e-bb9d-db7839163754",
   "metadata": {},
   "outputs": [],
   "source": [
    "elec_obj = elec_lca.Elec_LCA(database, \"TRACI v2.1\")"
   ]
  },
  {
   "cell_type": "code",
   "execution_count": 5,
   "id": "2b6bfdcd-943a-4fc1-b0e3-4a1e0f263b1a",
   "metadata": {},
   "outputs": [
    {
     "name": "stdout",
     "output_type": "stream",
     "text": [
      "This command was canceled since the file already exist, if you want to overwrite it you can use the function with the following argument:\n",
      "\t\tforce_overwrite=True\n"
     ]
    }
   ],
   "source": [
    "dirpath = 'C:\\myprojects\\SpringSchool\\elec_lca\\dev'\n",
    "\n",
    "elec_obj.create_input_file(dirpath)"
   ]
  },
  {
   "cell_type": "code",
   "execution_count": 6,
   "id": "a999d070-e456-4211-b34e-8f669e69bd25",
   "metadata": {},
   "outputs": [],
   "source": [
    "elec_obj.load_user_input_file()"
   ]
  },
  {
   "cell_type": "code",
   "execution_count": 7,
   "id": "e4d5be9f-4029-45cc-91a3-e114f5417807",
   "metadata": {},
   "outputs": [
    {
     "name": "stdout",
     "output_type": "stream",
     "text": [
      "market_type = electricity, low voltage\n",
      "tech = Centralized photovoltaic panels\n",
      "Geomatcher: Used 'CA' for 'Canada, Alberta'\n",
      "Geomatcher: Used 'CA' for 'Canada, Alberta'\n",
      "Geomatcher: Used 'CA' for 'Canada, Alberta'\n",
      "Geomatcher: Used 'CA' for 'Canada, Alberta'\n",
      "Geomatcher: Used 'CA' for 'Canada, Alberta'\n",
      "Geomatcher: Used 'CA' for 'Canada, Alberta'\n",
      "Geomatcher: Used 'CA' for 'Canada, Alberta'\n",
      "Geomatcher: Used 'CA' for 'Canada, Alberta'\n",
      "Geomatcher: Used 'CA' for 'Canada, Alberta'\n",
      "Geomatcher: Used 'CA' for 'Canada, Alberta'\n",
      "Geomatcher: Used 'CA' for 'Canada, Alberta'\n",
      "Geomatcher: Used 'CA' for 'Canada, Alberta'\n",
      "Geomatcher: Used 'CA' for 'Canada, Alberta'\n",
      "Geomatcher: Used 'CA' for 'Canada, Alberta'\n",
      "Geomatcher: Used 'CA' for 'Canada, Alberta'\n",
      "Geomatcher: Used 'CA' for 'Canada, Alberta'\n",
      "Geomatcher: Used 'CA' for 'Canada, Alberta'\n",
      "Geomatcher: Used 'CA' for 'Canada, Alberta'\n",
      "Geomatcher: Used 'CA' for 'Canada, Alberta'\n",
      "Geomatcher: Used 'CA' for 'Canada, Alberta'\n",
      "Geomatcher: Used 'CA' for 'Canada, Alberta'\n",
      "Geomatcher: Used 'CA' for 'Canada, Alberta'\n",
      "Geomatcher: Used 'CA' for 'Canada, Alberta'\n",
      "Geomatcher: Used 'CA' for 'Canada, Alberta'\n",
      "Geomatcher: Used 'CA' for 'Canada, Alberta'\n",
      "Geomatcher: Used 'CA' for 'Canada, Alberta'\n",
      "tech = Decentralized photovoltaic panels\n",
      "Geomatcher: Used 'CA' for 'Canada, Alberta'\n",
      "Geomatcher: Used 'CA' for 'Canada, Alberta'\n",
      "Geomatcher: Used 'CA' for 'Canada, Alberta'\n",
      "Geomatcher: Used 'CA' for 'Canada, Alberta'\n",
      "Geomatcher: Used 'CA' for 'Canada, Alberta'\n",
      "Geomatcher: Used 'CA' for 'Canada, Alberta'\n",
      "Geomatcher: Used 'CA' for 'Canada, Alberta'\n",
      "Geomatcher: Used 'CA' for 'Canada, Alberta'\n",
      "Geomatcher: Used 'CA' for 'Canada, Alberta'\n",
      "Geomatcher: Used 'CA' for 'Canada, Alberta'\n",
      "Geomatcher: Used 'CA' for 'Canada, Alberta'\n",
      "Geomatcher: Used 'CA' for 'Canada, Alberta'\n",
      "Geomatcher: Used 'CA' for 'Canada, Alberta'\n",
      "Geomatcher: Used 'CA' for 'Canada, Alberta'\n",
      "{'name': 'market for electricity, low voltage', 'reference product': 'electricity, low voltage', 'location': 'Canada, Alberta'}\n"
     ]
    },
    {
     "ename": "IndexError",
     "evalue": "list index out of range",
     "output_type": "error",
     "traceback": [
      "\u001b[1;31m---------------------------------------------------------------------------\u001b[0m",
      "\u001b[1;31mIndexError\u001b[0m                                Traceback (most recent call last)",
      "Cell \u001b[1;32mIn[7], line 1\u001b[0m\n\u001b[1;32m----> 1\u001b[0m \u001b[43melec_obj\u001b[49m\u001b[38;5;241;43m.\u001b[39;49m\u001b[43mcreate_new_location_dataset\u001b[49m\u001b[43m(\u001b[49m\u001b[43m)\u001b[49m\n",
      "File \u001b[1;32mC:\\myprojects\\SpringSchool\\elec_lca\\elec_lca\\elec_lca.py:149\u001b[0m, in \u001b[0;36mElec_LCA.create_new_location_dataset\u001b[1;34m(self, overwrite_data_set)\u001b[0m\n\u001b[0;32m    144\u001b[0m     \u001b[38;5;28mprint\u001b[39m(\u001b[38;5;124mf\u001b[39m\u001b[38;5;124m\"\u001b[39m\u001b[38;5;124mSkipping location \u001b[39m\u001b[38;5;132;01m{\u001b[39;00mloc\u001b[38;5;132;01m}\u001b[39;00m\u001b[38;5;124m, since there is already a dataset with this location.\u001b[39m\u001b[38;5;130;01m\\n\u001b[39;00m\u001b[38;5;124m \u001b[39m\u001b[38;5;124m\"\u001b[39m\n\u001b[0;32m    145\u001b[0m           \u001b[38;5;124m\"\u001b[39m\u001b[38;5;124mTo overwrite the dataset, set the argument \u001b[39m\u001b[38;5;124m'\u001b[39m\u001b[38;5;124moverwrite_data_set\u001b[39m\u001b[38;5;124m'\u001b[39m\u001b[38;5;124m to true\u001b[39m\u001b[38;5;124m\"\u001b[39m)\n\u001b[0;32m    147\u001b[0m \u001b[38;5;28mself\u001b[39m\u001b[38;5;241m.\u001b[39mprepare_method_list(\u001b[38;5;28mself\u001b[39m\u001b[38;5;241m.\u001b[39mmethode_family)\n\u001b[1;32m--> 149\u001b[0m modified_dataset, tech_dict, bio_dict, tech_map \u001b[38;5;241m=\u001b[39m \u001b[43mnew_electricity_market\u001b[49m\u001b[43m(\u001b[49m\n\u001b[0;32m    150\u001b[0m \u001b[43m    \u001b[49m\u001b[38;5;28;43mself\u001b[39;49m\u001b[38;5;241;43m.\u001b[39;49m\u001b[43moriginal_database\u001b[49m\u001b[43m,\u001b[49m\n\u001b[0;32m    151\u001b[0m \u001b[43m    \u001b[49m\u001b[43mloc\u001b[49m\u001b[43m,\u001b[49m\n\u001b[0;32m    152\u001b[0m \u001b[43m    \u001b[49m\u001b[43mscn_df\u001b[49m\u001b[43m[\u001b[49m\u001b[43mscn_df\u001b[49m\u001b[43m[\u001b[49m\u001b[38;5;124;43m\"\u001b[39;49m\u001b[38;5;124;43mlocation\u001b[39;49m\u001b[38;5;124;43m\"\u001b[39;49m\u001b[43m]\u001b[49m\u001b[43m \u001b[49m\u001b[38;5;241;43m==\u001b[39;49m\u001b[43m \u001b[49m\u001b[43mloc\u001b[49m\u001b[43m]\u001b[49m\u001b[38;5;241;43m.\u001b[39;49m\u001b[43mcopy\u001b[49m\u001b[43m(\u001b[49m\u001b[43m)\u001b[49m\u001b[43m,\u001b[49m\n\u001b[0;32m    153\u001b[0m \u001b[43m    \u001b[49m\u001b[43mmethods\u001b[49m\u001b[38;5;241;43m=\u001b[39;49m\u001b[38;5;28;43mself\u001b[39;49m\u001b[38;5;241;43m.\u001b[39;49m\u001b[43mmethod_list\u001b[49m\u001b[43m,\u001b[49m\n\u001b[0;32m    154\u001b[0m \u001b[43m    \u001b[49m\u001b[43mmapping_filepath\u001b[49m\u001b[38;5;241;43m=\u001b[39;49m\u001b[38;5;28;43mself\u001b[39;49m\u001b[38;5;241;43m.\u001b[39;49m\u001b[43mmapping_filepath\u001b[49m\n\u001b[0;32m    155\u001b[0m \u001b[43m\u001b[49m\u001b[43m)\u001b[49m\n\u001b[0;32m    156\u001b[0m \u001b[38;5;28mself\u001b[39m\u001b[38;5;241m.\u001b[39mmodified_datapack[loc] \u001b[38;5;241m=\u001b[39m modified_dataset\u001b[38;5;241m.\u001b[39mcopy()\n\u001b[0;32m    157\u001b[0m \u001b[38;5;28mself\u001b[39m\u001b[38;5;241m.\u001b[39mtech_dict[loc] \u001b[38;5;241m=\u001b[39m tech_dict\u001b[38;5;241m.\u001b[39mcopy()\n",
      "File \u001b[1;32mC:\\myprojects\\SpringSchool\\elec_lca\\elec_lca\\create_datasets.py:125\u001b[0m, in \u001b[0;36mnew_electricity_market\u001b[1;34m(database, location, df_scenario, methods, mapping_filepath)\u001b[0m\n\u001b[0;32m    119\u001b[0m \u001b[38;5;66;03m# Add everything that is in high voltage but is not a technology\u001b[39;00m\n\u001b[0;32m    120\u001b[0m \u001b[38;5;28mprint\u001b[39m({\n\u001b[0;32m    121\u001b[0m         \u001b[38;5;124m\"\u001b[39m\u001b[38;5;124mname\u001b[39m\u001b[38;5;124m\"\u001b[39m: \u001b[38;5;124m\"\u001b[39m\u001b[38;5;124mmarket for \u001b[39m\u001b[38;5;132;01m{}\u001b[39;00m\u001b[38;5;124m\"\u001b[39m\u001b[38;5;241m.\u001b[39mformat(market_type),\n\u001b[0;32m    122\u001b[0m         \u001b[38;5;124m\"\u001b[39m\u001b[38;5;124mreference product\u001b[39m\u001b[38;5;124m\"\u001b[39m: market_type,\n\u001b[0;32m    123\u001b[0m         \u001b[38;5;124m\"\u001b[39m\u001b[38;5;124mlocation\u001b[39m\u001b[38;5;124m\"\u001b[39m: location,\n\u001b[0;32m    124\u001b[0m     })\n\u001b[1;32m--> 125\u001b[0m ds \u001b[38;5;241m=\u001b[39m \u001b[43msearching_dataset\u001b[49m\u001b[43m(\u001b[49m\n\u001b[0;32m    126\u001b[0m \u001b[43m    \u001b[49m\u001b[43mdatabase\u001b[49m\u001b[38;5;241;43m=\u001b[39;49m\u001b[43mdatabase\u001b[49m\u001b[43m,\u001b[49m\n\u001b[0;32m    127\u001b[0m \u001b[43m    \u001b[49m\u001b[43mact_dict\u001b[49m\u001b[38;5;241;43m=\u001b[39;49m\u001b[43m{\u001b[49m\n\u001b[0;32m    128\u001b[0m \u001b[43m        \u001b[49m\u001b[38;5;124;43m\"\u001b[39;49m\u001b[38;5;124;43mname\u001b[39;49m\u001b[38;5;124;43m\"\u001b[39;49m\u001b[43m:\u001b[49m\u001b[43m \u001b[49m\u001b[38;5;124;43m\"\u001b[39;49m\u001b[38;5;124;43mmarket for \u001b[39;49m\u001b[38;5;132;43;01m{}\u001b[39;49;00m\u001b[38;5;124;43m\"\u001b[39;49m\u001b[38;5;241;43m.\u001b[39;49m\u001b[43mformat\u001b[49m\u001b[43m(\u001b[49m\u001b[43mmarket_type\u001b[49m\u001b[43m)\u001b[49m\u001b[43m,\u001b[49m\n\u001b[0;32m    129\u001b[0m \u001b[43m        \u001b[49m\u001b[38;5;124;43m\"\u001b[39;49m\u001b[38;5;124;43mreference product\u001b[39;49m\u001b[38;5;124;43m\"\u001b[39;49m\u001b[43m:\u001b[49m\u001b[43m \u001b[49m\u001b[43mmarket_type\u001b[49m\u001b[43m,\u001b[49m\n\u001b[0;32m    130\u001b[0m \u001b[43m        \u001b[49m\u001b[38;5;124;43m\"\u001b[39;49m\u001b[38;5;124;43mlocation\u001b[39;49m\u001b[38;5;124;43m\"\u001b[39;49m\u001b[43m:\u001b[49m\u001b[43m \u001b[49m\u001b[43mlocation\u001b[49m\u001b[43m,\u001b[49m\n\u001b[0;32m    131\u001b[0m \u001b[43m    \u001b[49m\u001b[43m}\u001b[49m\n\u001b[0;32m    132\u001b[0m \u001b[43m\u001b[49m\u001b[43m)\u001b[49m\n\u001b[0;32m    133\u001b[0m \u001b[38;5;28;01mfor\u001b[39;00m x \u001b[38;5;129;01min\u001b[39;00m ds[\u001b[38;5;124m\"\u001b[39m\u001b[38;5;124mexchanges\u001b[39m\u001b[38;5;124m\"\u001b[39m]:\n\u001b[0;32m    134\u001b[0m     \u001b[38;5;28;01mif\u001b[39;00m x[\u001b[38;5;124m\"\u001b[39m\u001b[38;5;124mtype\u001b[39m\u001b[38;5;124m\"\u001b[39m] \u001b[38;5;241m==\u001b[39m \u001b[38;5;124m\"\u001b[39m\u001b[38;5;124mtechnosphere\u001b[39m\u001b[38;5;124m\"\u001b[39m \u001b[38;5;129;01mand\u001b[39;00m x[\u001b[38;5;124m\"\u001b[39m\u001b[38;5;124munit\u001b[39m\u001b[38;5;124m\"\u001b[39m] \u001b[38;5;241m!=\u001b[39m \u001b[38;5;124m\"\u001b[39m\u001b[38;5;124mkilowatt hour\u001b[39m\u001b[38;5;124m\"\u001b[39m:\n",
      "File \u001b[1;32mC:\\myprojects\\SpringSchool\\elec_lca\\elec_lca\\create_datasets.py:58\u001b[0m, in \u001b[0;36msearching_dataset\u001b[1;34m(database, act_dict)\u001b[0m\n\u001b[0;32m     56\u001b[0m act_filter \u001b[38;5;241m=\u001b[39m act_filter[:\u001b[38;5;241m-\u001b[39m\u001b[38;5;241m1\u001b[39m] \u001b[38;5;66;03m# remove condition on location\u001b[39;00m\n\u001b[0;32m     57\u001b[0m act_filter\u001b[38;5;241m.\u001b[39mappend(wurst\u001b[38;5;241m.\u001b[39meither(\u001b[38;5;241m*\u001b[39m[wurst\u001b[38;5;241m.\u001b[39msearching\u001b[38;5;241m.\u001b[39mequals(\u001b[38;5;124m\"\u001b[39m\u001b[38;5;124mlocation\u001b[39m\u001b[38;5;124m\"\u001b[39m, loc) \u001b[38;5;28;01mfor\u001b[39;00m loc \u001b[38;5;129;01min\u001b[39;00m [\u001b[38;5;124m\"\u001b[39m\u001b[38;5;124mGLO\u001b[39m\u001b[38;5;124m\"\u001b[39m, \u001b[38;5;124m\"\u001b[39m\u001b[38;5;124mRoW\u001b[39m\u001b[38;5;124m\"\u001b[39m]])) \u001b[38;5;66;03m# putting RoW or GLO instead\u001b[39;00m\n\u001b[1;32m---> 58\u001b[0m ds \u001b[38;5;241m=\u001b[39m \u001b[43m[\u001b[49m\u001b[43ma\u001b[49m\u001b[43m \u001b[49m\u001b[38;5;28;43;01mfor\u001b[39;49;00m\u001b[43m \u001b[49m\u001b[43ma\u001b[49m\u001b[43m \u001b[49m\u001b[38;5;129;43;01min\u001b[39;49;00m\u001b[43m \u001b[49m\u001b[43mwurst\u001b[49m\u001b[38;5;241;43m.\u001b[39;49m\u001b[43msearching\u001b[49m\u001b[38;5;241;43m.\u001b[39;49m\u001b[43mget_many\u001b[49m\u001b[43m(\u001b[49m\u001b[43mdatabase\u001b[49m\u001b[43m,\u001b[49m\u001b[43m \u001b[49m\u001b[38;5;241;43m*\u001b[39;49m\u001b[43mact_filter\u001b[49m\u001b[43m)\u001b[49m\u001b[43m]\u001b[49m\u001b[43m[\u001b[49m\u001b[38;5;241;43m0\u001b[39;49m\u001b[43m]\u001b[49m \u001b[38;5;66;03m# search the GLO or RoW activity\u001b[39;00m\n\u001b[0;32m     59\u001b[0m ds \u001b[38;5;241m=\u001b[39m wurst\u001b[38;5;241m.\u001b[39mtransformations\u001b[38;5;241m.\u001b[39mcopy_to_new_location(ds, act_dict[\u001b[38;5;124m'\u001b[39m\u001b[38;5;124mlocation\u001b[39m\u001b[38;5;124m'\u001b[39m]) \u001b[38;5;66;03m# change the activity main location\u001b[39;00m\n\u001b[0;32m     60\u001b[0m \u001b[38;5;28;01mtry\u001b[39;00m:\n",
      "\u001b[1;31mIndexError\u001b[0m: list index out of range"
     ]
    }
   ],
   "source": [
    "elec_obj.create_new_location_dataset()"
   ]
  },
  {
   "cell_type": "code",
   "execution_count": null,
   "id": "a2206c6e-aa84-4a2a-a8d6-d8bfe4694e1e",
   "metadata": {
    "scrolled": true
   },
   "outputs": [],
   "source": [
    "elec_obj.compute_lca_score_for_all_scenario()"
   ]
  },
  {
   "cell_type": "code",
   "execution_count": null,
   "id": "7c3900bf-cab4-4ba1-991e-102ecd9b76b9",
   "metadata": {},
   "outputs": [],
   "source": [
    "elec_obj.df_results"
   ]
  },
  {
   "cell_type": "code",
   "execution_count": null,
   "id": "2838db72-b6ec-403c-b454-c606c92843d1",
   "metadata": {},
   "outputs": [],
   "source": [
    "elec_obj.data_array_to_modify[\"CA-QC\"]"
   ]
  },
  {
   "cell_type": "code",
   "execution_count": null,
   "id": "ed6fa2c2-d168-4e33-a06f-58d04567987c",
   "metadata": {},
   "outputs": [],
   "source": [
    "elec_obj.scenario_mapping"
   ]
  },
  {
   "cell_type": "code",
   "execution_count": null,
   "id": "fbb59e4d-48a8-4279-a992-3199e52aa97a",
   "metadata": {},
   "outputs": [],
   "source": [
    "elec_obj.get_specific_results(\"NZ50\", 2050, \"CA-QC\")"
   ]
  },
  {
   "cell_type": "code",
   "execution_count": null,
   "id": "f719f527-5f55-4d93-8389-051a14cc98be",
   "metadata": {},
   "outputs": [],
   "source": []
  }
 ],
 "metadata": {
  "kernelspec": {
   "display_name": "Python 3 (ipykernel)",
   "language": "python",
   "name": "python3"
  },
  "language_info": {
   "codemirror_mode": {
    "name": "ipython",
    "version": 3
   },
   "file_extension": ".py",
   "mimetype": "text/x-python",
   "name": "python",
   "nbconvert_exporter": "python",
   "pygments_lexer": "ipython3",
   "version": "3.10.14"
  }
 },
 "nbformat": 4,
 "nbformat_minor": 5
}
