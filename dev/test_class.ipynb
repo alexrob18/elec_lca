{
 "cells": [
  {
   "cell_type": "code",
   "execution_count": 1,
   "id": "89bd19f2-952c-4090-b5a7-f96e44cc99b0",
   "metadata": {},
   "outputs": [],
   "source": [
    "import elec_lca\n",
    "import pandas as pd\n",
    "import wurst\n",
    "import bw2data as bd"
   ]
  },
  {
   "cell_type": "code",
   "execution_count": null,
   "id": "aa2d5247-26a8-4e21-807d-4d9bc74cd48a",
   "metadata": {},
   "outputs": [],
   "source": [
    "bd.projects.set_current(\"bw2_spring_school\")\n",
    "database = wurst.extract_brightway2_databases(\"ecoinvent3.8 cut-off\")"
   ]
  },
  {
   "cell_type": "code",
   "execution_count": 2,
   "id": "04619c2d-cbdf-4307-b46b-2c7c2430e9c0",
   "metadata": {},
   "outputs": [],
   "source": [
    "import pickle\n",
    "# r\"C:\\Users\\RobertsonA\\Desktop\\ei391.pickle\"\n",
    "# r\"C:\\myprojects\\SpringSchool\\ei391.pickle\"\n",
    "\n",
    "def load_db():\n",
    "    with open(r\"C:\\Users\\RobertsonA\\Desktop\\ei391.pickle\", \"rb\") as input_file:\n",
    "        db = pickle.load(input_file)\n",
    "\n",
    "    for ds in db:\n",
    "        if \"categories\" in ds:\n",
    "            del ds[\"categories\"]\n",
    "            \n",
    "    return db"
   ]
  },
  {
   "cell_type": "code",
   "execution_count": 3,
   "id": "187e8e4d-5557-492b-9ad7-c09f8df39ac2",
   "metadata": {},
   "outputs": [],
   "source": [
    "database = load_db()"
   ]
  },
  {
   "cell_type": "code",
   "execution_count": 4,
   "id": "cd6a2bf2-9fb6-400e-bb9d-db7839163754",
   "metadata": {},
   "outputs": [],
   "source": [
    "elec_obj = elec_lca.Elec_LCA(database, \"TRACI v2.1\")"
   ]
  },
  {
   "cell_type": "code",
   "execution_count": 5,
   "id": "2b6bfdcd-943a-4fc1-b0e3-4a1e0f263b1a",
   "metadata": {},
   "outputs": [
    {
     "name": "stdout",
     "output_type": "stream",
     "text": [
      "This command was canceled since the file already exist, if you want to overwrite it you can use the function with the following argument:\n",
      "\t\tforce_overwrite=True\n"
     ]
    }
   ],
   "source": [
    "dirpath = 'C:\\modelling\\spring_school\\elec_lca\\elec_lca\\dev'\n",
    "\n",
    "elec_obj.create_input_file(dirpath)"
   ]
  },
  {
   "cell_type": "code",
   "execution_count": 6,
   "id": "a999d070-e456-4211-b34e-8f669e69bd25",
   "metadata": {},
   "outputs": [],
   "source": [
    "elec_obj.load_user_input_file()"
   ]
  },
  {
   "cell_type": "code",
   "execution_count": 7,
   "id": "e4d5be9f-4029-45cc-91a3-e114f5417807",
   "metadata": {},
   "outputs": [
    {
     "name": "stdout",
     "output_type": "stream",
     "text": [
      "Centralized photovoltaic panels\n",
      "Decentralized photovoltaic panels\n",
      "Heavy fuel oil\n"
     ]
    },
    {
     "name": "stderr",
     "output_type": "stream",
     "text": [
      "RoE not found in ISO3\n"
     ]
    },
    {
     "name": "stdout",
     "output_type": "stream",
     "text": [
      "Landfill gases\n",
      "Light fuel oil\n",
      "Natural gas\n",
      "Onshore turbines\n",
      "Small modular reactor\n",
      "Storage dam\n",
      "Wood\n",
      "Run-of-river\n"
     ]
    }
   ],
   "source": [
    "elec_obj.create_new_location_dataset()"
   ]
  },
  {
   "cell_type": "code",
   "execution_count": 8,
   "id": "a2206c6e-aa84-4a2a-a8d6-d8bfe4694e1e",
   "metadata": {
    "scrolled": true
   },
   "outputs": [
    {
     "name": "stdout",
     "output_type": "stream",
     "text": [
      "{('CA-QC', 'NZ50', 2020, 'TRACI v2.1 - acidification - acidification potential (AP)'): [-0.0013305107078111836], ('CA-QC', 'NZ50', 2050, 'TRACI v2.1 - acidification - acidification potential (AP)'): [-0.0009671774168324139], ('CA-QC', 'NZ50', 2020, 'TRACI v2.1 - climate change - global warming potential (GWP100)'): [-1.1866479492075415], ('CA-QC', 'NZ50', 2050, 'TRACI v2.1 - climate change - global warming potential (GWP100)'): [-0.8540487085690532], ('CA-QC', 'NZ50', 2020, 'TRACI v2.1 - ecotoxicity: freshwater - ecotoxicity: freshwater'): [-1.454284158167393], ('CA-QC', 'NZ50', 2050, 'TRACI v2.1 - ecotoxicity: freshwater - ecotoxicity: freshwater'): [-1.6909454629342024], ('CA-QC', 'NZ50', 2020, 'TRACI v2.1 - eutrophication - eutrophication potential'): [-0.00015390052516445614], ('CA-QC', 'NZ50', 2050, 'TRACI v2.1 - eutrophication - eutrophication potential'): [-0.00012666576753665897], ('CA-QC', 'NZ50', 2020, 'TRACI v2.1 - human toxicity: carcinogenic - human toxicity: carcinogenic'): [-9.765757592562938e-09], ('CA-QC', 'NZ50', 2050, 'TRACI v2.1 - human toxicity: carcinogenic - human toxicity: carcinogenic'): [-1.03190882690239e-08], ('CA-QC', 'NZ50', 2020, 'TRACI v2.1 - human toxicity: non-carcinogenic - human toxicity: non-carcinogenic'): [-2.694931581747418e-07], ('CA-QC', 'NZ50', 2050, 'TRACI v2.1 - human toxicity: non-carcinogenic - human toxicity: non-carcinogenic'): [-1.9573403137538608e-07], ('CA-QC', 'NZ50', 2020, 'TRACI v2.1 - ozone depletion - ozone depletion potential (ODP)'): [-8.003819905199744e-09], ('CA-QC', 'NZ50', 2050, 'TRACI v2.1 - ozone depletion - ozone depletion potential (ODP)'): [-5.832808299810493e-09], ('CA-QC', 'NZ50', 2020, 'TRACI v2.1 - particulate matter formation - particulate matter formation potential (PMFP)'): [-0.00012824505638235403], ('CA-QC', 'NZ50', 2050, 'TRACI v2.1 - particulate matter formation - particulate matter formation potential (PMFP)'): [-9.648357170641339e-05], ('CA-QC', 'NZ50', 2020, 'TRACI v2.1 - photochemical oxidant formation - maximum incremental reactivity (MIR)'): [-0.03055481916112126], ('CA-QC', 'NZ50', 2050, 'TRACI v2.1 - photochemical oxidant formation - maximum incremental reactivity (MIR)'): [-0.022120079098361046]}\n"
     ]
    }
   ],
   "source": [
    "elec_obj.compute_lca_score_for_all_scenario()"
   ]
  },
  {
   "cell_type": "code",
   "execution_count": 9,
   "id": "7c3900bf-cab4-4ba1-991e-102ecd9b76b9",
   "metadata": {},
   "outputs": [
    {
     "data": {
      "text/html": [
       "<div>\n",
       "<style scoped>\n",
       "    .dataframe tbody tr th:only-of-type {\n",
       "        vertical-align: middle;\n",
       "    }\n",
       "\n",
       "    .dataframe tbody tr th {\n",
       "        vertical-align: top;\n",
       "    }\n",
       "\n",
       "    .dataframe thead th {\n",
       "        text-align: right;\n",
       "    }\n",
       "</style>\n",
       "<table border=\"1\" class=\"dataframe\">\n",
       "  <thead>\n",
       "    <tr style=\"text-align: right;\">\n",
       "      <th></th>\n",
       "      <th>location</th>\n",
       "      <th>period</th>\n",
       "      <th>scenario</th>\n",
       "      <th>impact_method</th>\n",
       "      <th>value</th>\n",
       "    </tr>\n",
       "  </thead>\n",
       "  <tbody>\n",
       "    <tr>\n",
       "      <th>0</th>\n",
       "      <td>CA-QC</td>\n",
       "      <td>2020</td>\n",
       "      <td>NZ50</td>\n",
       "      <td>TRACI v2.1 - acidification - acidification pot...</td>\n",
       "      <td>-1.330511e-03</td>\n",
       "    </tr>\n",
       "    <tr>\n",
       "      <th>0</th>\n",
       "      <td>CA-QC</td>\n",
       "      <td>2050</td>\n",
       "      <td>NZ50</td>\n",
       "      <td>TRACI v2.1 - acidification - acidification pot...</td>\n",
       "      <td>-9.671774e-04</td>\n",
       "    </tr>\n",
       "    <tr>\n",
       "      <th>0</th>\n",
       "      <td>CA-QC</td>\n",
       "      <td>2020</td>\n",
       "      <td>NZ50</td>\n",
       "      <td>TRACI v2.1 - climate change - global warming p...</td>\n",
       "      <td>-1.186648e+00</td>\n",
       "    </tr>\n",
       "    <tr>\n",
       "      <th>0</th>\n",
       "      <td>CA-QC</td>\n",
       "      <td>2050</td>\n",
       "      <td>NZ50</td>\n",
       "      <td>TRACI v2.1 - climate change - global warming p...</td>\n",
       "      <td>-8.540487e-01</td>\n",
       "    </tr>\n",
       "    <tr>\n",
       "      <th>0</th>\n",
       "      <td>CA-QC</td>\n",
       "      <td>2020</td>\n",
       "      <td>NZ50</td>\n",
       "      <td>TRACI v2.1 - ecotoxicity: freshwater - ecotoxi...</td>\n",
       "      <td>-1.454284e+00</td>\n",
       "    </tr>\n",
       "    <tr>\n",
       "      <th>0</th>\n",
       "      <td>CA-QC</td>\n",
       "      <td>2050</td>\n",
       "      <td>NZ50</td>\n",
       "      <td>TRACI v2.1 - ecotoxicity: freshwater - ecotoxi...</td>\n",
       "      <td>-1.690945e+00</td>\n",
       "    </tr>\n",
       "    <tr>\n",
       "      <th>0</th>\n",
       "      <td>CA-QC</td>\n",
       "      <td>2020</td>\n",
       "      <td>NZ50</td>\n",
       "      <td>TRACI v2.1 - eutrophication - eutrophication p...</td>\n",
       "      <td>-1.539005e-04</td>\n",
       "    </tr>\n",
       "    <tr>\n",
       "      <th>0</th>\n",
       "      <td>CA-QC</td>\n",
       "      <td>2050</td>\n",
       "      <td>NZ50</td>\n",
       "      <td>TRACI v2.1 - eutrophication - eutrophication p...</td>\n",
       "      <td>-1.266658e-04</td>\n",
       "    </tr>\n",
       "    <tr>\n",
       "      <th>0</th>\n",
       "      <td>CA-QC</td>\n",
       "      <td>2020</td>\n",
       "      <td>NZ50</td>\n",
       "      <td>TRACI v2.1 - human toxicity: carcinogenic - hu...</td>\n",
       "      <td>-9.765758e-09</td>\n",
       "    </tr>\n",
       "    <tr>\n",
       "      <th>0</th>\n",
       "      <td>CA-QC</td>\n",
       "      <td>2050</td>\n",
       "      <td>NZ50</td>\n",
       "      <td>TRACI v2.1 - human toxicity: carcinogenic - hu...</td>\n",
       "      <td>-1.031909e-08</td>\n",
       "    </tr>\n",
       "    <tr>\n",
       "      <th>0</th>\n",
       "      <td>CA-QC</td>\n",
       "      <td>2020</td>\n",
       "      <td>NZ50</td>\n",
       "      <td>TRACI v2.1 - human toxicity: non-carcinogenic ...</td>\n",
       "      <td>-2.694932e-07</td>\n",
       "    </tr>\n",
       "    <tr>\n",
       "      <th>0</th>\n",
       "      <td>CA-QC</td>\n",
       "      <td>2050</td>\n",
       "      <td>NZ50</td>\n",
       "      <td>TRACI v2.1 - human toxicity: non-carcinogenic ...</td>\n",
       "      <td>-1.957340e-07</td>\n",
       "    </tr>\n",
       "    <tr>\n",
       "      <th>0</th>\n",
       "      <td>CA-QC</td>\n",
       "      <td>2020</td>\n",
       "      <td>NZ50</td>\n",
       "      <td>TRACI v2.1 - ozone depletion - ozone depletion...</td>\n",
       "      <td>-8.003820e-09</td>\n",
       "    </tr>\n",
       "    <tr>\n",
       "      <th>0</th>\n",
       "      <td>CA-QC</td>\n",
       "      <td>2050</td>\n",
       "      <td>NZ50</td>\n",
       "      <td>TRACI v2.1 - ozone depletion - ozone depletion...</td>\n",
       "      <td>-5.832808e-09</td>\n",
       "    </tr>\n",
       "    <tr>\n",
       "      <th>0</th>\n",
       "      <td>CA-QC</td>\n",
       "      <td>2020</td>\n",
       "      <td>NZ50</td>\n",
       "      <td>TRACI v2.1 - particulate matter formation - pa...</td>\n",
       "      <td>-1.282451e-04</td>\n",
       "    </tr>\n",
       "    <tr>\n",
       "      <th>0</th>\n",
       "      <td>CA-QC</td>\n",
       "      <td>2050</td>\n",
       "      <td>NZ50</td>\n",
       "      <td>TRACI v2.1 - particulate matter formation - pa...</td>\n",
       "      <td>-9.648357e-05</td>\n",
       "    </tr>\n",
       "    <tr>\n",
       "      <th>0</th>\n",
       "      <td>CA-QC</td>\n",
       "      <td>2020</td>\n",
       "      <td>NZ50</td>\n",
       "      <td>TRACI v2.1 - photochemical oxidant formation -...</td>\n",
       "      <td>-3.055482e-02</td>\n",
       "    </tr>\n",
       "    <tr>\n",
       "      <th>0</th>\n",
       "      <td>CA-QC</td>\n",
       "      <td>2050</td>\n",
       "      <td>NZ50</td>\n",
       "      <td>TRACI v2.1 - photochemical oxidant formation -...</td>\n",
       "      <td>-2.212008e-02</td>\n",
       "    </tr>\n",
       "  </tbody>\n",
       "</table>\n",
       "</div>"
      ],
      "text/plain": [
       "  location  period scenario  \\\n",
       "0    CA-QC    2020     NZ50   \n",
       "0    CA-QC    2050     NZ50   \n",
       "0    CA-QC    2020     NZ50   \n",
       "0    CA-QC    2050     NZ50   \n",
       "0    CA-QC    2020     NZ50   \n",
       "0    CA-QC    2050     NZ50   \n",
       "0    CA-QC    2020     NZ50   \n",
       "0    CA-QC    2050     NZ50   \n",
       "0    CA-QC    2020     NZ50   \n",
       "0    CA-QC    2050     NZ50   \n",
       "0    CA-QC    2020     NZ50   \n",
       "0    CA-QC    2050     NZ50   \n",
       "0    CA-QC    2020     NZ50   \n",
       "0    CA-QC    2050     NZ50   \n",
       "0    CA-QC    2020     NZ50   \n",
       "0    CA-QC    2050     NZ50   \n",
       "0    CA-QC    2020     NZ50   \n",
       "0    CA-QC    2050     NZ50   \n",
       "\n",
       "                                       impact_method         value  \n",
       "0  TRACI v2.1 - acidification - acidification pot... -1.330511e-03  \n",
       "0  TRACI v2.1 - acidification - acidification pot... -9.671774e-04  \n",
       "0  TRACI v2.1 - climate change - global warming p... -1.186648e+00  \n",
       "0  TRACI v2.1 - climate change - global warming p... -8.540487e-01  \n",
       "0  TRACI v2.1 - ecotoxicity: freshwater - ecotoxi... -1.454284e+00  \n",
       "0  TRACI v2.1 - ecotoxicity: freshwater - ecotoxi... -1.690945e+00  \n",
       "0  TRACI v2.1 - eutrophication - eutrophication p... -1.539005e-04  \n",
       "0  TRACI v2.1 - eutrophication - eutrophication p... -1.266658e-04  \n",
       "0  TRACI v2.1 - human toxicity: carcinogenic - hu... -9.765758e-09  \n",
       "0  TRACI v2.1 - human toxicity: carcinogenic - hu... -1.031909e-08  \n",
       "0  TRACI v2.1 - human toxicity: non-carcinogenic ... -2.694932e-07  \n",
       "0  TRACI v2.1 - human toxicity: non-carcinogenic ... -1.957340e-07  \n",
       "0  TRACI v2.1 - ozone depletion - ozone depletion... -8.003820e-09  \n",
       "0  TRACI v2.1 - ozone depletion - ozone depletion... -5.832808e-09  \n",
       "0  TRACI v2.1 - particulate matter formation - pa... -1.282451e-04  \n",
       "0  TRACI v2.1 - particulate matter formation - pa... -9.648357e-05  \n",
       "0  TRACI v2.1 - photochemical oxidant formation -... -3.055482e-02  \n",
       "0  TRACI v2.1 - photochemical oxidant formation -... -2.212008e-02  "
      ]
     },
     "execution_count": 9,
     "metadata": {},
     "output_type": "execute_result"
    }
   ],
   "source": [
    "elec_obj.df_results"
   ]
  },
  {
   "cell_type": "code",
   "execution_count": 10,
   "id": "2838db72-b6ec-403c-b454-c606c92843d1",
   "metadata": {},
   "outputs": [
    {
     "data": {
      "text/plain": [
       "array([[6.11933750e-05, 5.02966605e-05],\n",
       "       [5.07774814e-05, 6.22061912e-03],\n",
       "       [9.19202611e-04, 0.00000000e+00],\n",
       "       [1.20824366e-03, 0.00000000e+00],\n",
       "       [6.58805271e-04, 0.00000000e+00],\n",
       "       [5.36418521e-04, 3.70039716e-04],\n",
       "       [3.61952303e-02, 2.33520209e-01],\n",
       "       [2.26545686e-01, 1.56278909e-01],\n",
       "       [0.00000000e+00, 5.17337079e-02],\n",
       "       [7.25206593e-01, 5.22726007e-01],\n",
       "       [8.61784998e-03, 2.91002107e-02]])"
      ]
     },
     "execution_count": 10,
     "metadata": {},
     "output_type": "execute_result"
    }
   ],
   "source": [
    "elec_obj.data_array_to_modify[\"CA-QC\"]"
   ]
  },
  {
   "cell_type": "code",
   "execution_count": 11,
   "id": "ed6fa2c2-d168-4e33-a06f-58d04567987c",
   "metadata": {},
   "outputs": [
    {
     "data": {
      "text/plain": [
       "{0: ('NZ50', 2020), 1: ('NZ50', 2050)}"
      ]
     },
     "execution_count": 11,
     "metadata": {},
     "output_type": "execute_result"
    }
   ],
   "source": [
    "elec_obj.scenario_mapping"
   ]
  },
  {
   "cell_type": "code",
   "execution_count": 12,
   "id": "fbb59e4d-48a8-4279-a992-3199e52aa97a",
   "metadata": {},
   "outputs": [
    {
     "name": "stdout",
     "output_type": "stream",
     "text": [
      "No input were provided for target scenario, period, location\n"
     ]
    }
   ],
   "source": [
    "elec_obj.get_specific_results(\"NZ50\", 2050, \"CA-QC\")"
   ]
  },
  {
   "cell_type": "code",
   "execution_count": null,
   "id": "f719f527-5f55-4d93-8389-051a14cc98be",
   "metadata": {},
   "outputs": [],
   "source": []
  }
 ],
 "metadata": {
  "kernelspec": {
   "display_name": "Python 3 (ipykernel)",
   "language": "python",
   "name": "python3"
  },
  "language_info": {
   "codemirror_mode": {
    "name": "ipython",
    "version": 3
   },
   "file_extension": ".py",
   "mimetype": "text/x-python",
   "name": "python",
   "nbconvert_exporter": "python",
   "pygments_lexer": "ipython3",
   "version": "3.10.14"
  }
 },
 "nbformat": 4,
 "nbformat_minor": 5
}
