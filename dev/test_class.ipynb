{
 "cells": [
  {
   "cell_type": "code",
   "execution_count": 1,
   "id": "89bd19f2-952c-4090-b5a7-f96e44cc99b0",
   "metadata": {},
   "outputs": [],
   "source": [
    "import elec_lca\n",
    "import pandas as pd\n",
    "import wurst\n",
    "import bw2data as bd"
   ]
  },
  {
   "cell_type": "code",
   "execution_count": null,
   "id": "aa2d5247-26a8-4e21-807d-4d9bc74cd48a",
   "metadata": {},
   "outputs": [],
   "source": [
    "bd.projects.set_current(\"bw2_spring_school\")\n",
    "database = wurst.extract_brightway2_databases(\"ecoinvent3.8 cut-off\")"
   ]
  },
  {
   "cell_type": "code",
   "execution_count": 2,
   "id": "04619c2d-cbdf-4307-b46b-2c7c2430e9c0",
   "metadata": {},
   "outputs": [],
   "source": [
    "import pickle\n",
    "# r\"C:\\Users\\RobertsonA\\Desktop\\ei391.pickle\"\n",
    "# r\"C:\\myprojects\\SpringSchool\\ei391.pickle\"\n",
    "\n",
    "def load_db():\n",
    "    with open(r\"C:\\Users\\RobertsonA\\Desktop\\ei391.pickle\", \"rb\") as input_file:\n",
    "        db = pickle.load(input_file)\n",
    "\n",
    "    for ds in db:\n",
    "        if \"categories\" in ds:\n",
    "            del ds[\"categories\"]\n",
    "            \n",
    "    return db"
   ]
  },
  {
   "cell_type": "code",
   "execution_count": 3,
   "id": "187e8e4d-5557-492b-9ad7-c09f8df39ac2",
   "metadata": {},
   "outputs": [],
   "source": [
    "database = load_db()"
   ]
  },
  {
   "cell_type": "code",
   "execution_count": 4,
   "id": "cd6a2bf2-9fb6-400e-bb9d-db7839163754",
   "metadata": {},
   "outputs": [],
   "source": [
    "elec_obj = elec_lca.Elec_LCA(database)"
   ]
  },
  {
   "cell_type": "code",
   "execution_count": 5,
   "id": "2b6bfdcd-943a-4fc1-b0e3-4a1e0f263b1a",
   "metadata": {},
   "outputs": [
    {
     "name": "stdout",
     "output_type": "stream",
     "text": [
      "This command was canceled since the file already exist, if you want to overwrite it you can use the function with the following argument:\n",
      "\t\tforce_overwrite=True\n"
     ]
    }
   ],
   "source": [
    "dirpath = 'C:\\modelling\\spring_school\\elec_lca\\elec_lca\\dev'\n",
    "\n",
    "elec_obj.create_input_file(dirpath)"
   ]
  },
  {
   "cell_type": "code",
   "execution_count": 6,
   "id": "a999d070-e456-4211-b34e-8f669e69bd25",
   "metadata": {},
   "outputs": [],
   "source": [
    "elec_obj.load_user_input_file()"
   ]
  },
  {
   "cell_type": "code",
   "execution_count": 7,
   "id": "cc2a840a-7a40-4ee9-93e0-60a7dc4bf5ce",
   "metadata": {},
   "outputs": [
    {
     "data": {
      "text/html": [
       "<div>\n",
       "<style scoped>\n",
       "    .dataframe tbody tr th:only-of-type {\n",
       "        vertical-align: middle;\n",
       "    }\n",
       "\n",
       "    .dataframe tbody tr th {\n",
       "        vertical-align: top;\n",
       "    }\n",
       "\n",
       "    .dataframe thead th {\n",
       "        text-align: right;\n",
       "    }\n",
       "</style>\n",
       "<table border=\"1\" class=\"dataframe\">\n",
       "  <thead>\n",
       "    <tr style=\"text-align: right;\">\n",
       "      <th></th>\n",
       "      <th>technology</th>\n",
       "      <th>period</th>\n",
       "      <th>value</th>\n",
       "      <th>scenario</th>\n",
       "      <th>location</th>\n",
       "    </tr>\n",
       "  </thead>\n",
       "  <tbody>\n",
       "    <tr>\n",
       "      <th>0</th>\n",
       "      <td>Centralized photovoltaic panels</td>\n",
       "      <td>2020</td>\n",
       "      <td>0.000072</td>\n",
       "      <td>BAU</td>\n",
       "      <td>CA-QC</td>\n",
       "    </tr>\n",
       "    <tr>\n",
       "      <th>1</th>\n",
       "      <td>Decentralized photovoltaic panels</td>\n",
       "      <td>2020</td>\n",
       "      <td>0.000050</td>\n",
       "      <td>BAU</td>\n",
       "      <td>CA-QC</td>\n",
       "    </tr>\n",
       "    <tr>\n",
       "      <th>2</th>\n",
       "      <td>Heavy fuel oil</td>\n",
       "      <td>2020</td>\n",
       "      <td>0.000910</td>\n",
       "      <td>BAU</td>\n",
       "      <td>CA-QC</td>\n",
       "    </tr>\n",
       "    <tr>\n",
       "      <th>3</th>\n",
       "      <td>Hydrogen</td>\n",
       "      <td>2020</td>\n",
       "      <td>0.000000</td>\n",
       "      <td>BAU</td>\n",
       "      <td>CA-QC</td>\n",
       "    </tr>\n",
       "    <tr>\n",
       "      <th>4</th>\n",
       "      <td>Landfill gases</td>\n",
       "      <td>2020</td>\n",
       "      <td>0.001196</td>\n",
       "      <td>BAU</td>\n",
       "      <td>CA-QC</td>\n",
       "    </tr>\n",
       "    <tr>\n",
       "      <th>...</th>\n",
       "      <td>...</td>\n",
       "      <td>...</td>\n",
       "      <td>...</td>\n",
       "      <td>...</td>\n",
       "      <td>...</td>\n",
       "    </tr>\n",
       "    <tr>\n",
       "      <th>367</th>\n",
       "      <td>Onshore turbines</td>\n",
       "      <td>2050</td>\n",
       "      <td>0.121226</td>\n",
       "      <td>BAU</td>\n",
       "      <td>CA-QC</td>\n",
       "    </tr>\n",
       "    <tr>\n",
       "      <th>368</th>\n",
       "      <td>Small modular reactor</td>\n",
       "      <td>2050</td>\n",
       "      <td>0.088248</td>\n",
       "      <td>BAU</td>\n",
       "      <td>CA-QC</td>\n",
       "    </tr>\n",
       "    <tr>\n",
       "      <th>369</th>\n",
       "      <td>Storage dam</td>\n",
       "      <td>2050</td>\n",
       "      <td>0.597910</td>\n",
       "      <td>BAU</td>\n",
       "      <td>CA-QC</td>\n",
       "    </tr>\n",
       "    <tr>\n",
       "      <th>370</th>\n",
       "      <td>Wood</td>\n",
       "      <td>2050</td>\n",
       "      <td>0.006264</td>\n",
       "      <td>BAU</td>\n",
       "      <td>CA-QC</td>\n",
       "    </tr>\n",
       "    <tr>\n",
       "      <th>371</th>\n",
       "      <td>Run-of-river</td>\n",
       "      <td>2050</td>\n",
       "      <td>0.178757</td>\n",
       "      <td>BAU</td>\n",
       "      <td>CA-QC</td>\n",
       "    </tr>\n",
       "  </tbody>\n",
       "</table>\n",
       "<p>372 rows × 5 columns</p>\n",
       "</div>"
      ],
      "text/plain": [
       "                            technology period     value scenario location\n",
       "0      Centralized photovoltaic panels   2020  0.000072      BAU    CA-QC\n",
       "1    Decentralized photovoltaic panels   2020  0.000050      BAU    CA-QC\n",
       "2                       Heavy fuel oil   2020  0.000910      BAU    CA-QC\n",
       "3                             Hydrogen   2020  0.000000      BAU    CA-QC\n",
       "4                       Landfill gases   2020  0.001196      BAU    CA-QC\n",
       "..                                 ...    ...       ...      ...      ...\n",
       "367                   Onshore turbines   2050  0.121226      BAU    CA-QC\n",
       "368              Small modular reactor   2050  0.088248      BAU    CA-QC\n",
       "369                        Storage dam   2050  0.597910      BAU    CA-QC\n",
       "370                               Wood   2050  0.006264      BAU    CA-QC\n",
       "371                       Run-of-river   2050  0.178757      BAU    CA-QC\n",
       "\n",
       "[372 rows x 5 columns]"
      ]
     },
     "execution_count": 7,
     "metadata": {},
     "output_type": "execute_result"
    }
   ],
   "source": [
    "elec_obj.df_scenario"
   ]
  },
  {
   "cell_type": "code",
   "execution_count": 8,
   "id": "e4d5be9f-4029-45cc-91a3-e114f5417807",
   "metadata": {},
   "outputs": [
    {
     "ename": "IndexError",
     "evalue": "list index out of range",
     "output_type": "error",
     "traceback": [
      "\u001b[1;31m---------------------------------------------------------------------------\u001b[0m",
      "\u001b[1;31mIndexError\u001b[0m                                Traceback (most recent call last)",
      "Cell \u001b[1;32mIn[8], line 1\u001b[0m\n\u001b[1;32m----> 1\u001b[0m \u001b[43melec_obj\u001b[49m\u001b[38;5;241;43m.\u001b[39;49m\u001b[43mcreate_new_location_dataset\u001b[49m\u001b[43m(\u001b[49m\u001b[43m)\u001b[49m\n",
      "File \u001b[1;32mC:\\modelling\\spring_school\\elec_lca\\elec_lca\\elec_lca\\elec_lca.py:72\u001b[0m, in \u001b[0;36mElec_LCA.create_new_location_dataset\u001b[1;34m(self, overwrite_data_set)\u001b[0m\n\u001b[0;32m     68\u001b[0m \u001b[38;5;28;01mif\u001b[39;00m loc \u001b[38;5;129;01min\u001b[39;00m \u001b[38;5;28mself\u001b[39m\u001b[38;5;241m.\u001b[39mmodified_database\u001b[38;5;241m.\u001b[39mkeys() \u001b[38;5;129;01mand\u001b[39;00m \u001b[38;5;129;01mnot\u001b[39;00m overwrite_data_set:\n\u001b[0;32m     69\u001b[0m     \u001b[38;5;28mprint\u001b[39m(\u001b[38;5;124mf\u001b[39m\u001b[38;5;124m\"\u001b[39m\u001b[38;5;124mSkipping location \u001b[39m\u001b[38;5;132;01m{\u001b[39;00mloc\u001b[38;5;132;01m}\u001b[39;00m\u001b[38;5;124m, since there is already a dataset with this location.\u001b[39m\u001b[38;5;130;01m\\n\u001b[39;00m\u001b[38;5;124m \u001b[39m\u001b[38;5;124m\"\u001b[39m\n\u001b[0;32m     70\u001b[0m           \u001b[38;5;124m\"\u001b[39m\u001b[38;5;124mTo overwrite the dataset, set the argument \u001b[39m\u001b[38;5;124m'\u001b[39m\u001b[38;5;124moverwrite_data_set\u001b[39m\u001b[38;5;124m'\u001b[39m\u001b[38;5;124m to true\u001b[39m\u001b[38;5;124m\"\u001b[39m)\n\u001b[1;32m---> 72\u001b[0m modified_dataset \u001b[38;5;241m=\u001b[39m \u001b[43mnew_electricity_market\u001b[49m\u001b[43m(\u001b[49m\n\u001b[0;32m     73\u001b[0m \u001b[43m    \u001b[49m\u001b[38;5;28;43mself\u001b[39;49m\u001b[38;5;241;43m.\u001b[39;49m\u001b[43moriginal_database\u001b[49m\u001b[43m,\u001b[49m\n\u001b[0;32m     74\u001b[0m \u001b[43m    \u001b[49m\u001b[43mloc\u001b[49m\u001b[43m,\u001b[49m\n\u001b[0;32m     75\u001b[0m \u001b[43m    \u001b[49m\u001b[43mscn_df\u001b[49m\u001b[43m[\u001b[49m\u001b[43mscn_df\u001b[49m\u001b[43m[\u001b[49m\u001b[38;5;124;43m\"\u001b[39;49m\u001b[38;5;124;43mlocation\u001b[39;49m\u001b[38;5;124;43m\"\u001b[39;49m\u001b[43m]\u001b[49m\u001b[43m \u001b[49m\u001b[38;5;241;43m==\u001b[39;49m\u001b[43m \u001b[49m\u001b[43mloc\u001b[49m\u001b[43m]\u001b[49m\u001b[38;5;241;43m.\u001b[39;49m\u001b[43mcopy\u001b[49m\u001b[43m(\u001b[49m\u001b[43m)\u001b[49m\u001b[43m,\u001b[49m\n\u001b[0;32m     76\u001b[0m \u001b[43m    \u001b[49m\u001b[43mmapping_filepath\u001b[49m\u001b[38;5;241;43m=\u001b[39;49m\u001b[38;5;28;43mself\u001b[39;49m\u001b[38;5;241;43m.\u001b[39;49m\u001b[43mmapping_filepath\u001b[49m\n\u001b[0;32m     77\u001b[0m \u001b[43m\u001b[49m\u001b[43m)\u001b[49m\n\u001b[0;32m     79\u001b[0m \u001b[38;5;28mself\u001b[39m\u001b[38;5;241m.\u001b[39mmodified_database[loc] \u001b[38;5;241m=\u001b[39m modified_dataset\u001b[38;5;241m.\u001b[39mcopy()\n",
      "File \u001b[1;32mC:\\modelling\\spring_school\\elec_lca\\elec_lca\\elec_lca\\create_datasets.py:88\u001b[0m, in \u001b[0;36mnew_electricity_market\u001b[1;34m(database, location, df_scenario, mapping_filepath)\u001b[0m\n\u001b[0;32m     85\u001b[0m tech_list \u001b[38;5;241m=\u001b[39m \u001b[38;5;28mlist\u001b[39m(df_scenario\u001b[38;5;241m.\u001b[39mtechnology\u001b[38;5;241m.\u001b[39munique()) \u001b[38;5;66;03m# list of technologies involved in the scenario\u001b[39;00m\n\u001b[0;32m     87\u001b[0m \u001b[38;5;28;01mfor\u001b[39;00m tech \u001b[38;5;129;01min\u001b[39;00m tech_list: \u001b[38;5;66;03m# create the list of exchanges (i.e., shares of the electricity mix)\u001b[39;00m\n\u001b[1;32m---> 88\u001b[0m     ds \u001b[38;5;241m=\u001b[39m \u001b[43msearching_dataset\u001b[49m\u001b[43m(\u001b[49m\u001b[43mdatabase\u001b[49m\u001b[38;5;241;43m=\u001b[39;49m\u001b[43mdatabase\u001b[49m\u001b[43m,\u001b[49m\u001b[43m \u001b[49m\u001b[43mact_dict\u001b[49m\u001b[38;5;241;43m=\u001b[39;49m\u001b[43mmapping\u001b[49m\u001b[43m(\u001b[49m\u001b[43mtech\u001b[49m\u001b[38;5;241;43m=\u001b[39;49m\u001b[43mtech\u001b[49m\u001b[43m,\u001b[49m\u001b[43m \u001b[49m\u001b[43mlocation\u001b[49m\u001b[38;5;241;43m=\u001b[39;49m\u001b[43mlocation\u001b[49m\u001b[43m,\u001b[49m\n\u001b[0;32m     89\u001b[0m \u001b[43m                                                               \u001b[49m\u001b[43mmapping_filepath\u001b[49m\u001b[38;5;241;43m=\u001b[39;49m\u001b[43mmapping_filepath\u001b[49m\u001b[43m)\u001b[49m\u001b[43m)\u001b[49m\n\u001b[0;32m     90\u001b[0m     exc \u001b[38;5;241m=\u001b[39m {\n\u001b[0;32m     91\u001b[0m         \u001b[38;5;124m'\u001b[39m\u001b[38;5;124mamount\u001b[39m\u001b[38;5;124m'\u001b[39m: \u001b[38;5;28mfloat\u001b[39m(df_scenario[df_scenario\u001b[38;5;241m.\u001b[39mtechnology \u001b[38;5;241m==\u001b[39m tech]\u001b[38;5;241m.\u001b[39mvalue\u001b[38;5;241m.\u001b[39miloc[\u001b[38;5;241m0\u001b[39m]),\n\u001b[0;32m     92\u001b[0m         \u001b[38;5;124m'\u001b[39m\u001b[38;5;124mtype\u001b[39m\u001b[38;5;124m'\u001b[39m: \u001b[38;5;124m'\u001b[39m\u001b[38;5;124mtechnosphere\u001b[39m\u001b[38;5;124m'\u001b[39m,\n\u001b[1;32m   (...)\u001b[0m\n\u001b[0;32m     97\u001b[0m         \u001b[38;5;124m'\u001b[39m\u001b[38;5;124mlocation\u001b[39m\u001b[38;5;124m'\u001b[39m: ds[\u001b[38;5;124m'\u001b[39m\u001b[38;5;124mlocation\u001b[39m\u001b[38;5;124m'\u001b[39m]\n\u001b[0;32m     98\u001b[0m     }\n\u001b[0;32m     99\u001b[0m     exchanges\u001b[38;5;241m.\u001b[39mappend(exc)\n",
      "File \u001b[1;32mC:\\modelling\\spring_school\\elec_lca\\elec_lca\\elec_lca\\create_datasets.py:56\u001b[0m, in \u001b[0;36msearching_dataset\u001b[1;34m(database, act_dict)\u001b[0m\n\u001b[0;32m     54\u001b[0m act_filter \u001b[38;5;241m=\u001b[39m act_filter[:\u001b[38;5;241m-\u001b[39m\u001b[38;5;241m1\u001b[39m] \u001b[38;5;66;03m# remove condition on location\u001b[39;00m\n\u001b[0;32m     55\u001b[0m act_filter\u001b[38;5;241m.\u001b[39mappend(wurst\u001b[38;5;241m.\u001b[39meither(\u001b[38;5;241m*\u001b[39m[wurst\u001b[38;5;241m.\u001b[39msearching\u001b[38;5;241m.\u001b[39mequals(\u001b[38;5;124m\"\u001b[39m\u001b[38;5;124mlocation\u001b[39m\u001b[38;5;124m\"\u001b[39m, loc) \u001b[38;5;28;01mfor\u001b[39;00m loc \u001b[38;5;129;01min\u001b[39;00m [\u001b[38;5;124m\"\u001b[39m\u001b[38;5;124mGLO\u001b[39m\u001b[38;5;124m\"\u001b[39m, \u001b[38;5;124m\"\u001b[39m\u001b[38;5;124mRoW\u001b[39m\u001b[38;5;124m\"\u001b[39m]])) \u001b[38;5;66;03m# putting RoW or GLO instead\u001b[39;00m\n\u001b[1;32m---> 56\u001b[0m ds \u001b[38;5;241m=\u001b[39m \u001b[43m[\u001b[49m\u001b[43ma\u001b[49m\u001b[43m \u001b[49m\u001b[38;5;28;43;01mfor\u001b[39;49;00m\u001b[43m \u001b[49m\u001b[43ma\u001b[49m\u001b[43m \u001b[49m\u001b[38;5;129;43;01min\u001b[39;49;00m\u001b[43m \u001b[49m\u001b[43mwurst\u001b[49m\u001b[38;5;241;43m.\u001b[39;49m\u001b[43msearching\u001b[49m\u001b[38;5;241;43m.\u001b[39;49m\u001b[43mget_many\u001b[49m\u001b[43m(\u001b[49m\u001b[43mdatabase\u001b[49m\u001b[43m,\u001b[49m\u001b[43m \u001b[49m\u001b[38;5;241;43m*\u001b[39;49m\u001b[43mact_filter\u001b[49m\u001b[43m)\u001b[49m\u001b[43m]\u001b[49m\u001b[43m[\u001b[49m\u001b[38;5;241;43m0\u001b[39;49m\u001b[43m]\u001b[49m \u001b[38;5;66;03m# search the GLO or RoW activity\u001b[39;00m\n\u001b[0;32m     57\u001b[0m ds \u001b[38;5;241m=\u001b[39m wurst\u001b[38;5;241m.\u001b[39mtransformations\u001b[38;5;241m.\u001b[39mcopy_to_new_location(ds, act_dict[\u001b[38;5;124m'\u001b[39m\u001b[38;5;124mlocation\u001b[39m\u001b[38;5;124m'\u001b[39m]) \u001b[38;5;66;03m# change the activity main location\u001b[39;00m\n\u001b[0;32m     58\u001b[0m ds \u001b[38;5;241m=\u001b[39m wurst\u001b[38;5;241m.\u001b[39mtransformations\u001b[38;5;241m.\u001b[39mrelink_technosphere_exchanges(ds, database) \u001b[38;5;66;03m# adapt the activity foreground\u001b[39;00m\n",
      "\u001b[1;31mIndexError\u001b[0m: list index out of range"
     ]
    }
   ],
   "source": [
    "elec_obj.create_new_location_dataset()"
   ]
  },
  {
   "cell_type": "code",
   "execution_count": null,
   "id": "3a7fd2e8-2fff-45b4-8590-3cee7de4c7c5",
   "metadata": {},
   "outputs": [],
   "source": []
  }
 ],
 "metadata": {
  "kernelspec": {
   "display_name": "Python 3 (ipykernel)",
   "language": "python",
   "name": "python3"
  },
  "language_info": {
   "codemirror_mode": {
    "name": "ipython",
    "version": 3
   },
   "file_extension": ".py",
   "mimetype": "text/x-python",
   "name": "python",
   "nbconvert_exporter": "python",
   "pygments_lexer": "ipython3",
   "version": "3.10.14"
  }
 },
 "nbformat": 4,
 "nbformat_minor": 5
}
