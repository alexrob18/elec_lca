{
 "cells": [
  {
   "cell_type": "code",
   "execution_count": 1,
   "id": "89bd19f2-952c-4090-b5a7-f96e44cc99b0",
   "metadata": {
    "scrolled": true
   },
   "outputs": [],
   "source": [
    "import elec_lca\n",
    "import pandas as pd\n",
    "import wurst\n",
    "import bw2data as bd"
   ]
  },
  {
   "cell_type": "code",
   "execution_count": null,
   "id": "aa2d5247-26a8-4e21-807d-4d9bc74cd48a",
   "metadata": {},
   "outputs": [],
   "source": [
    "bd.projects.set_current(\"bw2_spring_school\")\n",
    "database = wurst.extract_brightway2_databases(\"ecoinvent3.8 cut-off\")"
   ]
  },
  {
   "cell_type": "code",
   "execution_count": 2,
   "id": "04619c2d-cbdf-4307-b46b-2c7c2430e9c0",
   "metadata": {},
   "outputs": [],
   "source": [
    "import pickle\n",
    "# r\"C:\\Users\\RobertsonA\\Desktop\\ei391.pickle\"\n",
    "# r\"C:\\myprojects\\SpringSchool\\ei391.pickle\"\n",
    "\n",
    "def load_db():\n",
    "    with open(r\"C:\\Users\\RobertsonA\\Desktop\\ei391.pickle\", \"rb\") as input_file:\n",
    "        db = pickle.load(input_file)\n",
    "\n",
    "    for ds in db:\n",
    "        if \"categories\" in ds:\n",
    "            del ds[\"categories\"]\n",
    "            \n",
    "    return db"
   ]
  },
  {
   "cell_type": "code",
   "execution_count": 3,
   "id": "187e8e4d-5557-492b-9ad7-c09f8df39ac2",
   "metadata": {},
   "outputs": [],
   "source": [
    "database = load_db()"
   ]
  },
  {
   "cell_type": "code",
   "execution_count": 4,
   "id": "cd6a2bf2-9fb6-400e-bb9d-db7839163754",
   "metadata": {},
   "outputs": [],
   "source": [
    "elec_obj = elec_lca.Elec_LCA(database, \"TRACI v2.1\")"
   ]
  },
  {
   "cell_type": "code",
   "execution_count": 5,
   "id": "2b6bfdcd-943a-4fc1-b0e3-4a1e0f263b1a",
   "metadata": {},
   "outputs": [
    {
     "name": "stdout",
     "output_type": "stream",
     "text": [
      "This command was canceled since the file already exist, if you want to overwrite it you can use the function with the following argument:\n",
      "\t\tforce_overwrite=True\n"
     ]
    }
   ],
   "source": [
    "dirpath = 'C:\\modelling\\spring_school\\elec_lca\\elec_lca\\dev'\n",
    "\n",
    "elec_obj.create_input_file(dirpath)"
   ]
  },
  {
   "cell_type": "code",
   "execution_count": 6,
   "id": "a999d070-e456-4211-b34e-8f669e69bd25",
   "metadata": {},
   "outputs": [],
   "source": [
    "elec_obj.load_user_input_file()"
   ]
  },
  {
   "cell_type": "code",
   "execution_count": 7,
   "id": "e4d5be9f-4029-45cc-91a3-e114f5417807",
   "metadata": {},
   "outputs": [
    {
     "name": "stdout",
     "output_type": "stream",
     "text": [
      "Centralized photovoltaic panels\n",
      "Coal\n",
      "Decentralized photovoltaic panels\n",
      "Geothermal energy\n",
      "Heavy fuel oil\n",
      "Landfill gases\n",
      "Light fuel oil\n",
      "Natural gas\n",
      "Onshore turbines\n",
      "Small modular reactor\n",
      "Storage dam\n",
      "Wood\n",
      "Centralized photovoltaic panels\n",
      "Decentralized photovoltaic panels\n",
      "Heavy fuel oil\n"
     ]
    },
    {
     "name": "stderr",
     "output_type": "stream",
     "text": [
      "RoE not found in ISO3\n"
     ]
    },
    {
     "name": "stdout",
     "output_type": "stream",
     "text": [
      "Hydrogen\n",
      "Landfill gases\n",
      "Light fuel oil\n",
      "Natural gas\n",
      "Onshore turbines\n",
      "Small modular reactor\n",
      "Storage dam\n",
      "Wood\n",
      "Run-of-river\n"
     ]
    }
   ],
   "source": [
    "elec_obj.create_new_location_dataset()"
   ]
  },
  {
   "cell_type": "code",
   "execution_count": null,
   "id": "a2206c6e-aa84-4a2a-a8d6-d8bfe4694e1e",
   "metadata": {},
   "outputs": [
    {
     "name": "stdout",
     "output_type": "stream",
     "text": [
      "lca 1 out of 36\n",
      "lca 2 out of 36\n",
      "lca 3 out of 36\n",
      "lca 4 out of 36\n",
      "lca 5 out of 36\n",
      "lca 6 out of 36\n"
     ]
    }
   ],
   "source": [
    "elec_obj.compute_lca_score_for_all_scenario()"
   ]
  },
  {
   "cell_type": "code",
   "execution_count": null,
   "id": "f719f527-5f55-4d93-8389-051a14cc98be",
   "metadata": {
    "scrolled": true
   },
   "outputs": [],
   "source": [
    "elec_obj.get_all_results()"
   ]
  },
  {
   "cell_type": "code",
   "execution_count": null,
   "id": "3f419acb-f106-45bc-82ff-fb38438c9999",
   "metadata": {},
   "outputs": [],
   "source": [
    "elec_obj.get_all_results().to_csv(r\"C:\\Users\\RobertsonA\\Documents\\temp\\results.csv\")"
   ]
  },
  {
   "cell_type": "code",
   "execution_count": 3,
   "id": "cca2c766-48c2-40d1-8c7e-10c2cb38c9bd",
   "metadata": {},
   "outputs": [
    {
     "ename": "NameError",
     "evalue": "name 'elec_obj' is not defined",
     "output_type": "error",
     "traceback": [
      "\u001b[1;31m---------------------------------------------------------------------------\u001b[0m",
      "\u001b[1;31mNameError\u001b[0m                                 Traceback (most recent call last)",
      "Cell \u001b[1;32mIn[3], line 1\u001b[0m\n\u001b[1;32m----> 1\u001b[0m fig \u001b[38;5;241m=\u001b[39m \u001b[43melec_obj\u001b[49m\u001b[38;5;241m.\u001b[39mcreate_plot_for_1_loc(\u001b[38;5;124m\"\u001b[39m\u001b[38;5;124mCA-AB\u001b[39m\u001b[38;5;124m\"\u001b[39m)\n\u001b[0;32m      2\u001b[0m fig\n",
      "\u001b[1;31mNameError\u001b[0m: name 'elec_obj' is not defined"
     ]
    }
   ],
   "source": [
    "fig = elec_obj.create_plot_for_1_loc(\"CA-AB\")\n",
    "fig"
   ]
  },
  {
   "cell_type": "code",
   "execution_count": null,
   "id": "5ebb0bbc-ae89-4bab-a1d9-986991036da7",
   "metadata": {},
   "outputs": [],
   "source": []
  }
 ],
 "metadata": {
  "kernelspec": {
   "display_name": "Python 3 (ipykernel)",
   "language": "python",
   "name": "python3"
  },
  "language_info": {
   "codemirror_mode": {
    "name": "ipython",
    "version": 3
   },
   "file_extension": ".py",
   "mimetype": "text/x-python",
   "name": "python",
   "nbconvert_exporter": "python",
   "pygments_lexer": "ipython3",
   "version": "3.10.14"
  }
 },
 "nbformat": 4,
 "nbformat_minor": 5
}
