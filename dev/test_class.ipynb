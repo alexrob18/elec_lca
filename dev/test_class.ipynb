{
 "cells": [
  {
   "cell_type": "code",
   "execution_count": 1,
   "id": "89bd19f2-952c-4090-b5a7-f96e44cc99b0",
   "metadata": {},
   "outputs": [],
   "source": [
    "import elec_lca\n",
    "import pandas as pd\n",
    "import wurst\n",
    "import bw2data as bd"
   ]
  },
  {
   "cell_type": "code",
   "execution_count": null,
   "id": "aa2d5247-26a8-4e21-807d-4d9bc74cd48a",
   "metadata": {},
   "outputs": [],
   "source": [
    "bd.projects.set_current(\"bw2_spring_school\")\n",
    "database = wurst.extract_brightway2_databases(\"ecoinvent3.8 cut-off\")"
   ]
  },
  {
   "cell_type": "code",
   "execution_count": 2,
   "id": "04619c2d-cbdf-4307-b46b-2c7c2430e9c0",
   "metadata": {},
   "outputs": [],
   "source": [
    "import pickle\n",
    "# r\"C:\\Users\\RobertsonA\\Desktop\\ei391.pickle\"\n",
    "# r\"C:\\myprojects\\SpringSchool\\ei391.pickle\"\n",
    "\n",
    "def load_db():\n",
    "    with open(r\"C:\\myprojects\\SpringSchool\\ei391.pickle\", \"rb\") as input_file:\n",
    "        db = pickle.load(input_file)\n",
    "\n",
    "    for ds in db:\n",
    "        if \"categories\" in ds:\n",
    "            del ds[\"categories\"]\n",
    "            \n",
    "    return db"
   ]
  },
  {
   "cell_type": "code",
   "execution_count": 3,
   "id": "187e8e4d-5557-492b-9ad7-c09f8df39ac2",
   "metadata": {},
   "outputs": [],
   "source": [
    "database = load_db()"
   ]
  },
  {
   "cell_type": "code",
   "execution_count": 4,
   "id": "cd6a2bf2-9fb6-400e-bb9d-db7839163754",
   "metadata": {},
   "outputs": [],
   "source": [
    "elec_obj = elec_lca.Elec_LCA(database, \"TRACI v2.1\")"
   ]
  },
  {
   "cell_type": "code",
   "execution_count": 5,
   "id": "2b6bfdcd-943a-4fc1-b0e3-4a1e0f263b1a",
   "metadata": {},
   "outputs": [
    {
     "name": "stdout",
     "output_type": "stream",
     "text": [
      "This command was canceled since the file already exist, if you want to overwrite it you can use the function with the following argument:\n",
      "\t\tforce_overwrite=True\n"
     ]
    }
   ],
   "source": [
    "dirpath = 'C:\\myprojects\\SpringSchool\\elec_lca\\dev'\n",
    "\n",
    "elec_obj.create_input_file(dirpath)"
   ]
  },
  {
   "cell_type": "code",
   "execution_count": 6,
   "id": "a999d070-e456-4211-b34e-8f669e69bd25",
   "metadata": {},
   "outputs": [],
   "source": [
    "elec_obj.load_user_input_file()"
   ]
  },
  {
   "cell_type": "code",
   "execution_count": 7,
   "id": "e4d5be9f-4029-45cc-91a3-e114f5417807",
   "metadata": {},
   "outputs": [
    {
     "name": "stdout",
     "output_type": "stream",
     "text": [
      "market_type = electricity, low voltage\n",
      "tech = Centralized photovoltaic panels\n",
      "Geomatcher: Used 'CA' for 'Canada, Alberta'\n",
      "Geomatcher: Used 'CA' for 'Canada, Alberta'\n",
      "Geomatcher: Used 'CA' for 'Canada, Alberta'\n",
      "Geomatcher: Used 'CA' for 'Canada, Alberta'\n",
      "Geomatcher: Used 'CA' for 'Canada, Alberta'\n",
      "Geomatcher: Used 'CA' for 'Canada, Alberta'\n",
      "Geomatcher: Used 'CA' for 'Canada, Alberta'\n",
      "Geomatcher: Used 'CA' for 'Canada, Alberta'\n",
      "Geomatcher: Used 'CA' for 'Canada, Alberta'\n",
      "Geomatcher: Used 'CA' for 'Canada, Alberta'\n",
      "Geomatcher: Used 'CA' for 'Canada, Alberta'\n",
      "Geomatcher: Used 'CA' for 'Canada, Alberta'\n",
      "Geomatcher: Used 'CA' for 'Canada, Alberta'\n",
      "Geomatcher: Used 'CA' for 'Canada, Alberta'\n",
      "Geomatcher: Used 'CA' for 'Canada, Alberta'\n",
      "Geomatcher: Used 'CA' for 'Canada, Alberta'\n",
      "Geomatcher: Used 'CA' for 'Canada, Alberta'\n",
      "Geomatcher: Used 'CA' for 'Canada, Alberta'\n",
      "Geomatcher: Used 'CA' for 'Canada, Alberta'\n",
      "Geomatcher: Used 'CA' for 'Canada, Alberta'\n",
      "Geomatcher: Used 'CA' for 'Canada, Alberta'\n",
      "Geomatcher: Used 'CA' for 'Canada, Alberta'\n",
      "Geomatcher: Used 'CA' for 'Canada, Alberta'\n",
      "Geomatcher: Used 'CA' for 'Canada, Alberta'\n",
      "Geomatcher: Used 'CA' for 'Canada, Alberta'\n",
      "Geomatcher: Used 'CA' for 'Canada, Alberta'\n",
      "tech = Decentralized photovoltaic panels\n",
      "Geomatcher: Used 'CA' for 'Canada, Alberta'\n",
      "Geomatcher: Used 'CA' for 'Canada, Alberta'\n",
      "Geomatcher: Used 'CA' for 'Canada, Alberta'\n",
      "Geomatcher: Used 'CA' for 'Canada, Alberta'\n",
      "Geomatcher: Used 'CA' for 'Canada, Alberta'\n",
      "Geomatcher: Used 'CA' for 'Canada, Alberta'\n",
      "Geomatcher: Used 'CA' for 'Canada, Alberta'\n",
      "Geomatcher: Used 'CA' for 'Canada, Alberta'\n",
      "Geomatcher: Used 'CA' for 'Canada, Alberta'\n",
      "Geomatcher: Used 'CA' for 'Canada, Alberta'\n",
      "Geomatcher: Used 'CA' for 'Canada, Alberta'\n",
      "Geomatcher: Used 'CA' for 'Canada, Alberta'\n",
      "Geomatcher: Used 'CA' for 'Canada, Alberta'\n",
      "Geomatcher: Used 'CA' for 'Canada, Alberta'\n",
      "{'name': 'market for electricity, low voltage', 'reference product': 'electricity, low voltage', 'location': 'Canada, Alberta'}\n"
     ]
    },
    {
<<<<<<< HEAD
     "ename": "IndexError",
     "evalue": "list index out of range",
     "output_type": "error",
     "traceback": [
      "\u001b[1;31m---------------------------------------------------------------------------\u001b[0m",
      "\u001b[1;31mIndexError\u001b[0m                                Traceback (most recent call last)",
      "Cell \u001b[1;32mIn[7], line 1\u001b[0m\n\u001b[1;32m----> 1\u001b[0m \u001b[43melec_obj\u001b[49m\u001b[38;5;241;43m.\u001b[39;49m\u001b[43mcreate_new_location_dataset\u001b[49m\u001b[43m(\u001b[49m\u001b[43m)\u001b[49m\n",
      "File \u001b[1;32mC:\\myprojects\\SpringSchool\\elec_lca\\elec_lca\\elec_lca.py:149\u001b[0m, in \u001b[0;36mElec_LCA.create_new_location_dataset\u001b[1;34m(self, overwrite_data_set)\u001b[0m\n\u001b[0;32m    144\u001b[0m     \u001b[38;5;28mprint\u001b[39m(\u001b[38;5;124mf\u001b[39m\u001b[38;5;124m\"\u001b[39m\u001b[38;5;124mSkipping location \u001b[39m\u001b[38;5;132;01m{\u001b[39;00mloc\u001b[38;5;132;01m}\u001b[39;00m\u001b[38;5;124m, since there is already a dataset with this location.\u001b[39m\u001b[38;5;130;01m\\n\u001b[39;00m\u001b[38;5;124m \u001b[39m\u001b[38;5;124m\"\u001b[39m\n\u001b[0;32m    145\u001b[0m           \u001b[38;5;124m\"\u001b[39m\u001b[38;5;124mTo overwrite the dataset, set the argument \u001b[39m\u001b[38;5;124m'\u001b[39m\u001b[38;5;124moverwrite_data_set\u001b[39m\u001b[38;5;124m'\u001b[39m\u001b[38;5;124m to true\u001b[39m\u001b[38;5;124m\"\u001b[39m)\n\u001b[0;32m    147\u001b[0m \u001b[38;5;28mself\u001b[39m\u001b[38;5;241m.\u001b[39mprepare_method_list(\u001b[38;5;28mself\u001b[39m\u001b[38;5;241m.\u001b[39mmethode_family)\n\u001b[1;32m--> 149\u001b[0m modified_dataset, tech_dict, bio_dict, tech_map \u001b[38;5;241m=\u001b[39m \u001b[43mnew_electricity_market\u001b[49m\u001b[43m(\u001b[49m\n\u001b[0;32m    150\u001b[0m \u001b[43m    \u001b[49m\u001b[38;5;28;43mself\u001b[39;49m\u001b[38;5;241;43m.\u001b[39;49m\u001b[43moriginal_database\u001b[49m\u001b[43m,\u001b[49m\n\u001b[0;32m    151\u001b[0m \u001b[43m    \u001b[49m\u001b[43mloc\u001b[49m\u001b[43m,\u001b[49m\n\u001b[0;32m    152\u001b[0m \u001b[43m    \u001b[49m\u001b[43mscn_df\u001b[49m\u001b[43m[\u001b[49m\u001b[43mscn_df\u001b[49m\u001b[43m[\u001b[49m\u001b[38;5;124;43m\"\u001b[39;49m\u001b[38;5;124;43mlocation\u001b[39;49m\u001b[38;5;124;43m\"\u001b[39;49m\u001b[43m]\u001b[49m\u001b[43m \u001b[49m\u001b[38;5;241;43m==\u001b[39;49m\u001b[43m \u001b[49m\u001b[43mloc\u001b[49m\u001b[43m]\u001b[49m\u001b[38;5;241;43m.\u001b[39;49m\u001b[43mcopy\u001b[49m\u001b[43m(\u001b[49m\u001b[43m)\u001b[49m\u001b[43m,\u001b[49m\n\u001b[0;32m    153\u001b[0m \u001b[43m    \u001b[49m\u001b[43mmethods\u001b[49m\u001b[38;5;241;43m=\u001b[39;49m\u001b[38;5;28;43mself\u001b[39;49m\u001b[38;5;241;43m.\u001b[39;49m\u001b[43mmethod_list\u001b[49m\u001b[43m,\u001b[49m\n\u001b[0;32m    154\u001b[0m \u001b[43m    \u001b[49m\u001b[43mmapping_filepath\u001b[49m\u001b[38;5;241;43m=\u001b[39;49m\u001b[38;5;28;43mself\u001b[39;49m\u001b[38;5;241;43m.\u001b[39;49m\u001b[43mmapping_filepath\u001b[49m\n\u001b[0;32m    155\u001b[0m \u001b[43m\u001b[49m\u001b[43m)\u001b[49m\n\u001b[0;32m    156\u001b[0m \u001b[38;5;28mself\u001b[39m\u001b[38;5;241m.\u001b[39mmodified_datapack[loc] \u001b[38;5;241m=\u001b[39m modified_dataset\u001b[38;5;241m.\u001b[39mcopy()\n\u001b[0;32m    157\u001b[0m \u001b[38;5;28mself\u001b[39m\u001b[38;5;241m.\u001b[39mtech_dict[loc] \u001b[38;5;241m=\u001b[39m tech_dict\u001b[38;5;241m.\u001b[39mcopy()\n",
      "File \u001b[1;32mC:\\myprojects\\SpringSchool\\elec_lca\\elec_lca\\create_datasets.py:125\u001b[0m, in \u001b[0;36mnew_electricity_market\u001b[1;34m(database, location, df_scenario, methods, mapping_filepath)\u001b[0m\n\u001b[0;32m    119\u001b[0m \u001b[38;5;66;03m# Add everything that is in high voltage but is not a technology\u001b[39;00m\n\u001b[0;32m    120\u001b[0m \u001b[38;5;28mprint\u001b[39m({\n\u001b[0;32m    121\u001b[0m         \u001b[38;5;124m\"\u001b[39m\u001b[38;5;124mname\u001b[39m\u001b[38;5;124m\"\u001b[39m: \u001b[38;5;124m\"\u001b[39m\u001b[38;5;124mmarket for \u001b[39m\u001b[38;5;132;01m{}\u001b[39;00m\u001b[38;5;124m\"\u001b[39m\u001b[38;5;241m.\u001b[39mformat(market_type),\n\u001b[0;32m    122\u001b[0m         \u001b[38;5;124m\"\u001b[39m\u001b[38;5;124mreference product\u001b[39m\u001b[38;5;124m\"\u001b[39m: market_type,\n\u001b[0;32m    123\u001b[0m         \u001b[38;5;124m\"\u001b[39m\u001b[38;5;124mlocation\u001b[39m\u001b[38;5;124m\"\u001b[39m: location,\n\u001b[0;32m    124\u001b[0m     })\n\u001b[1;32m--> 125\u001b[0m ds \u001b[38;5;241m=\u001b[39m \u001b[43msearching_dataset\u001b[49m\u001b[43m(\u001b[49m\n\u001b[0;32m    126\u001b[0m \u001b[43m    \u001b[49m\u001b[43mdatabase\u001b[49m\u001b[38;5;241;43m=\u001b[39;49m\u001b[43mdatabase\u001b[49m\u001b[43m,\u001b[49m\n\u001b[0;32m    127\u001b[0m \u001b[43m    \u001b[49m\u001b[43mact_dict\u001b[49m\u001b[38;5;241;43m=\u001b[39;49m\u001b[43m{\u001b[49m\n\u001b[0;32m    128\u001b[0m \u001b[43m        \u001b[49m\u001b[38;5;124;43m\"\u001b[39;49m\u001b[38;5;124;43mname\u001b[39;49m\u001b[38;5;124;43m\"\u001b[39;49m\u001b[43m:\u001b[49m\u001b[43m \u001b[49m\u001b[38;5;124;43m\"\u001b[39;49m\u001b[38;5;124;43mmarket for \u001b[39;49m\u001b[38;5;132;43;01m{}\u001b[39;49;00m\u001b[38;5;124;43m\"\u001b[39;49m\u001b[38;5;241;43m.\u001b[39;49m\u001b[43mformat\u001b[49m\u001b[43m(\u001b[49m\u001b[43mmarket_type\u001b[49m\u001b[43m)\u001b[49m\u001b[43m,\u001b[49m\n\u001b[0;32m    129\u001b[0m \u001b[43m        \u001b[49m\u001b[38;5;124;43m\"\u001b[39;49m\u001b[38;5;124;43mreference product\u001b[39;49m\u001b[38;5;124;43m\"\u001b[39;49m\u001b[43m:\u001b[49m\u001b[43m \u001b[49m\u001b[43mmarket_type\u001b[49m\u001b[43m,\u001b[49m\n\u001b[0;32m    130\u001b[0m \u001b[43m        \u001b[49m\u001b[38;5;124;43m\"\u001b[39;49m\u001b[38;5;124;43mlocation\u001b[39;49m\u001b[38;5;124;43m\"\u001b[39;49m\u001b[43m:\u001b[49m\u001b[43m \u001b[49m\u001b[43mlocation\u001b[49m\u001b[43m,\u001b[49m\n\u001b[0;32m    131\u001b[0m \u001b[43m    \u001b[49m\u001b[43m}\u001b[49m\n\u001b[0;32m    132\u001b[0m \u001b[43m\u001b[49m\u001b[43m)\u001b[49m\n\u001b[0;32m    133\u001b[0m \u001b[38;5;28;01mfor\u001b[39;00m x \u001b[38;5;129;01min\u001b[39;00m ds[\u001b[38;5;124m\"\u001b[39m\u001b[38;5;124mexchanges\u001b[39m\u001b[38;5;124m\"\u001b[39m]:\n\u001b[0;32m    134\u001b[0m     \u001b[38;5;28;01mif\u001b[39;00m x[\u001b[38;5;124m\"\u001b[39m\u001b[38;5;124mtype\u001b[39m\u001b[38;5;124m\"\u001b[39m] \u001b[38;5;241m==\u001b[39m \u001b[38;5;124m\"\u001b[39m\u001b[38;5;124mtechnosphere\u001b[39m\u001b[38;5;124m\"\u001b[39m \u001b[38;5;129;01mand\u001b[39;00m x[\u001b[38;5;124m\"\u001b[39m\u001b[38;5;124munit\u001b[39m\u001b[38;5;124m\"\u001b[39m] \u001b[38;5;241m!=\u001b[39m \u001b[38;5;124m\"\u001b[39m\u001b[38;5;124mkilowatt hour\u001b[39m\u001b[38;5;124m\"\u001b[39m:\n",
      "File \u001b[1;32mC:\\myprojects\\SpringSchool\\elec_lca\\elec_lca\\create_datasets.py:58\u001b[0m, in \u001b[0;36msearching_dataset\u001b[1;34m(database, act_dict)\u001b[0m\n\u001b[0;32m     56\u001b[0m act_filter \u001b[38;5;241m=\u001b[39m act_filter[:\u001b[38;5;241m-\u001b[39m\u001b[38;5;241m1\u001b[39m] \u001b[38;5;66;03m# remove condition on location\u001b[39;00m\n\u001b[0;32m     57\u001b[0m act_filter\u001b[38;5;241m.\u001b[39mappend(wurst\u001b[38;5;241m.\u001b[39meither(\u001b[38;5;241m*\u001b[39m[wurst\u001b[38;5;241m.\u001b[39msearching\u001b[38;5;241m.\u001b[39mequals(\u001b[38;5;124m\"\u001b[39m\u001b[38;5;124mlocation\u001b[39m\u001b[38;5;124m\"\u001b[39m, loc) \u001b[38;5;28;01mfor\u001b[39;00m loc \u001b[38;5;129;01min\u001b[39;00m [\u001b[38;5;124m\"\u001b[39m\u001b[38;5;124mGLO\u001b[39m\u001b[38;5;124m\"\u001b[39m, \u001b[38;5;124m\"\u001b[39m\u001b[38;5;124mRoW\u001b[39m\u001b[38;5;124m\"\u001b[39m]])) \u001b[38;5;66;03m# putting RoW or GLO instead\u001b[39;00m\n\u001b[1;32m---> 58\u001b[0m ds \u001b[38;5;241m=\u001b[39m \u001b[43m[\u001b[49m\u001b[43ma\u001b[49m\u001b[43m \u001b[49m\u001b[38;5;28;43;01mfor\u001b[39;49;00m\u001b[43m \u001b[49m\u001b[43ma\u001b[49m\u001b[43m \u001b[49m\u001b[38;5;129;43;01min\u001b[39;49;00m\u001b[43m \u001b[49m\u001b[43mwurst\u001b[49m\u001b[38;5;241;43m.\u001b[39;49m\u001b[43msearching\u001b[49m\u001b[38;5;241;43m.\u001b[39;49m\u001b[43mget_many\u001b[49m\u001b[43m(\u001b[49m\u001b[43mdatabase\u001b[49m\u001b[43m,\u001b[49m\u001b[43m \u001b[49m\u001b[38;5;241;43m*\u001b[39;49m\u001b[43mact_filter\u001b[49m\u001b[43m)\u001b[49m\u001b[43m]\u001b[49m\u001b[43m[\u001b[49m\u001b[38;5;241;43m0\u001b[39;49m\u001b[43m]\u001b[49m \u001b[38;5;66;03m# search the GLO or RoW activity\u001b[39;00m\n\u001b[0;32m     59\u001b[0m ds \u001b[38;5;241m=\u001b[39m wurst\u001b[38;5;241m.\u001b[39mtransformations\u001b[38;5;241m.\u001b[39mcopy_to_new_location(ds, act_dict[\u001b[38;5;124m'\u001b[39m\u001b[38;5;124mlocation\u001b[39m\u001b[38;5;124m'\u001b[39m]) \u001b[38;5;66;03m# change the activity main location\u001b[39;00m\n\u001b[0;32m     60\u001b[0m \u001b[38;5;28;01mtry\u001b[39;00m:\n",
      "\u001b[1;31mIndexError\u001b[0m: list index out of range"
=======
     "name": "stderr",
     "output_type": "stream",
     "text": [
      "RoE not found in ISO3\n"
     ]
    },
    {
     "name": "stdout",
     "output_type": "stream",
     "text": [
      "Hydrogen\n",
      "Landfill gases\n",
      "Light fuel oil\n",
      "Natural gas\n",
      "Onshore turbines\n",
      "Small modular reactor\n",
      "Storage dam\n",
      "Wood\n",
      "Run-of-river\n"
>>>>>>> clean_version
     ]
    }
   ],
   "source": [
    "elec_obj.create_new_location_dataset()"
   ]
  },
  {
   "cell_type": "code",
   "execution_count": null,
   "id": "a2206c6e-aa84-4a2a-a8d6-d8bfe4694e1e",
<<<<<<< HEAD
   "metadata": {
    "scrolled": true
   },
   "outputs": [],
=======
   "metadata": {},
   "outputs": [
    {
     "name": "stdout",
     "output_type": "stream",
     "text": [
      "lca 1 out of 63\n",
      "lca 2 out of 63\n",
      "lca 3 out of 63\n",
      "lca 4 out of 63\n",
      "lca 5 out of 63\n",
      "lca 6 out of 63\n",
      "lca 7 out of 63\n",
      "lca 8 out of 63\n",
      "lca 9 out of 63\n",
      "lca 10 out of 63\n",
      "lca 11 out of 63\n",
      "lca 12 out of 63\n",
      "lca 13 out of 63\n",
      "lca 14 out of 63\n",
      "lca 15 out of 63\n",
      "lca 16 out of 63\n",
      "lca 17 out of 63\n",
      "lca 18 out of 63\n",
      "lca 19 out of 63\n",
      "lca 20 out of 63\n",
      "lca 21 out of 63\n",
      "lca 22 out of 63\n",
      "lca 23 out of 63\n",
      "lca 24 out of 63\n",
      "lca 25 out of 63\n",
      "lca 26 out of 63\n",
      "lca 27 out of 63\n",
      "lca 28 out of 63\n",
      "lca 29 out of 63\n",
      "lca 30 out of 63\n",
      "lca 31 out of 63\n",
      "lca 32 out of 63\n",
      "lca 33 out of 63\n",
      "lca 34 out of 63\n",
      "lca 35 out of 63\n",
      "lca 36 out of 63\n",
      "lca 37 out of 63\n",
      "lca 38 out of 63\n",
      "lca 39 out of 63\n",
      "lca 40 out of 63\n",
      "lca 41 out of 63\n",
      "lca 42 out of 63\n",
      "lca 43 out of 63\n",
      "lca 44 out of 63\n",
      "lca 45 out of 63\n",
      "lca 46 out of 63\n",
      "lca 47 out of 63\n",
      "lca 48 out of 63\n",
      "lca 49 out of 63\n",
      "lca 50 out of 63\n",
      "lca 51 out of 63\n",
      "lca 52 out of 63\n",
      "lca 53 out of 63\n",
      "lca 54 out of 63\n",
      "lca 55 out of 63\n",
      "lca 56 out of 63\n",
      "lca 57 out of 63\n",
      "lca 58 out of 63\n",
      "lca 59 out of 63\n",
      "lca 60 out of 63\n",
      "lca 61 out of 63\n",
      "lca 62 out of 63\n",
      "lca 63 out of 63\n"
     ]
    }
   ],
>>>>>>> clean_version
   "source": [
    "elec_obj.compute_lca_score_for_all_scenario()"
   ]
  },
  {
   "cell_type": "code",
<<<<<<< HEAD
   "execution_count": null,
   "id": "7c3900bf-cab4-4ba1-991e-102ecd9b76b9",
   "metadata": {},
   "outputs": [],
   "source": [
    "elec_obj.df_results"
   ]
  },
  {
   "cell_type": "code",
   "execution_count": null,
   "id": "2838db72-b6ec-403c-b454-c606c92843d1",
   "metadata": {},
   "outputs": [],
   "source": [
    "elec_obj.data_array_to_modify[\"CA-QC\"]"
   ]
  },
  {
   "cell_type": "code",
   "execution_count": null,
   "id": "ed6fa2c2-d168-4e33-a06f-58d04567987c",
   "metadata": {},
   "outputs": [],
   "source": [
    "elec_obj.scenario_mapping"
=======
   "execution_count": 10,
   "id": "f719f527-5f55-4d93-8389-051a14cc98be",
   "metadata": {
    "scrolled": true
   },
   "outputs": [
    {
     "data": {
      "text/html": [
       "<div>\n",
       "<style scoped>\n",
       "    .dataframe tbody tr th:only-of-type {\n",
       "        vertical-align: middle;\n",
       "    }\n",
       "\n",
       "    .dataframe tbody tr th {\n",
       "        vertical-align: top;\n",
       "    }\n",
       "\n",
       "    .dataframe thead th {\n",
       "        text-align: right;\n",
       "    }\n",
       "</style>\n",
       "<table border=\"1\" class=\"dataframe\">\n",
       "  <thead>\n",
       "    <tr style=\"text-align: right;\">\n",
       "      <th></th>\n",
       "      <th></th>\n",
       "      <th></th>\n",
       "      <th></th>\n",
       "      <th>value</th>\n",
       "    </tr>\n",
       "    <tr>\n",
       "      <th>location</th>\n",
       "      <th>period</th>\n",
       "      <th>scenario</th>\n",
       "      <th>impact_method</th>\n",
       "      <th></th>\n",
       "    </tr>\n",
       "  </thead>\n",
       "  <tbody>\n",
       "    <tr>\n",
       "      <th rowspan=\"11\" valign=\"top\">CA-QC</th>\n",
       "      <th>2022</th>\n",
       "      <th>NZ50</th>\n",
       "      <th>TRACI v2.1 - acidification - acidification potential (AP)</th>\n",
       "      <td>0.064251</td>\n",
       "    </tr>\n",
       "    <tr>\n",
       "      <th>2025</th>\n",
       "      <th>NZ50</th>\n",
       "      <th>TRACI v2.1 - acidification - acidification potential (AP)</th>\n",
       "      <td>0.064145</td>\n",
       "    </tr>\n",
       "    <tr>\n",
       "      <th>2030</th>\n",
       "      <th>NZ50</th>\n",
       "      <th>TRACI v2.1 - acidification - acidification potential (AP)</th>\n",
       "      <td>0.063968</td>\n",
       "    </tr>\n",
       "    <tr>\n",
       "      <th>2035</th>\n",
       "      <th>NZ50</th>\n",
       "      <th>TRACI v2.1 - acidification - acidification potential (AP)</th>\n",
       "      <td>0.064155</td>\n",
       "    </tr>\n",
       "    <tr>\n",
       "      <th>2040</th>\n",
       "      <th>NZ50</th>\n",
       "      <th>TRACI v2.1 - acidification - acidification potential (AP)</th>\n",
       "      <td>0.064336</td>\n",
       "    </tr>\n",
       "    <tr>\n",
       "      <th>...</th>\n",
       "      <th>...</th>\n",
       "      <th>...</th>\n",
       "      <td>...</td>\n",
       "    </tr>\n",
       "    <tr>\n",
       "      <th>2030</th>\n",
       "      <th>NZ50</th>\n",
       "      <th>TRACI v2.1 - photochemical oxidant formation - maximum incremental reactivity (MIR)</th>\n",
       "      <td>1.472627</td>\n",
       "    </tr>\n",
       "    <tr>\n",
       "      <th>2035</th>\n",
       "      <th>NZ50</th>\n",
       "      <th>TRACI v2.1 - photochemical oxidant formation - maximum incremental reactivity (MIR)</th>\n",
       "      <td>1.475484</td>\n",
       "    </tr>\n",
       "    <tr>\n",
       "      <th>2040</th>\n",
       "      <th>NZ50</th>\n",
       "      <th>TRACI v2.1 - photochemical oxidant formation - maximum incremental reactivity (MIR)</th>\n",
       "      <td>1.478239</td>\n",
       "    </tr>\n",
       "    <tr>\n",
       "      <th>2045</th>\n",
       "      <th>NZ50</th>\n",
       "      <th>TRACI v2.1 - photochemical oxidant formation - maximum incremental reactivity (MIR)</th>\n",
       "      <td>1.482195</td>\n",
       "    </tr>\n",
       "    <tr>\n",
       "      <th>2050</th>\n",
       "      <th>NZ50</th>\n",
       "      <th>TRACI v2.1 - photochemical oxidant formation - maximum incremental reactivity (MIR)</th>\n",
       "      <td>1.486139</td>\n",
       "    </tr>\n",
       "  </tbody>\n",
       "</table>\n",
       "<p>63 rows × 1 columns</p>\n",
       "</div>"
      ],
      "text/plain": [
       "                                                                                value\n",
       "location period scenario impact_method                                               \n",
       "CA-QC    2022   NZ50     TRACI v2.1 - acidification - acidification pote...  0.064251\n",
       "         2025   NZ50     TRACI v2.1 - acidification - acidification pote...  0.064145\n",
       "         2030   NZ50     TRACI v2.1 - acidification - acidification pote...  0.063968\n",
       "         2035   NZ50     TRACI v2.1 - acidification - acidification pote...  0.064155\n",
       "         2040   NZ50     TRACI v2.1 - acidification - acidification pote...  0.064336\n",
       "...                                                                               ...\n",
       "         2030   NZ50     TRACI v2.1 - photochemical oxidant formation - ...  1.472627\n",
       "         2035   NZ50     TRACI v2.1 - photochemical oxidant formation - ...  1.475484\n",
       "         2040   NZ50     TRACI v2.1 - photochemical oxidant formation - ...  1.478239\n",
       "         2045   NZ50     TRACI v2.1 - photochemical oxidant formation - ...  1.482195\n",
       "         2050   NZ50     TRACI v2.1 - photochemical oxidant formation - ...  1.486139\n",
       "\n",
       "[63 rows x 1 columns]"
      ]
     },
     "execution_count": 10,
     "metadata": {},
     "output_type": "execute_result"
    }
   ],
   "source": [
    "elec_obj.get_all_results()"
>>>>>>> clean_version
   ]
  },
  {
   "cell_type": "code",
<<<<<<< HEAD
   "execution_count": null,
   "id": "fbb59e4d-48a8-4279-a992-3199e52aa97a",
   "metadata": {},
   "outputs": [],
=======
   "execution_count": 12,
   "id": "3f419acb-f106-45bc-82ff-fb38438c9999",
   "metadata": {},
   "outputs": [],
   "source": [
    "elec_obj.get_all_results().to_csv(r\"C:\\Users\\RobertsonA\\Documents\\temp\\results.csv\")"
   ]
  },
  {
   "cell_type": "code",
   "execution_count": 16,
   "id": "ac1f0337-66c4-4ea3-b196-d569f577e4a3",
   "metadata": {},
   "outputs": [
    {
     "data": {
      "text/plain": [
       "<Axes: xlabel='period'>"
      ]
     },
     "execution_count": 16,
     "metadata": {},
     "output_type": "execute_result"
    },
    {
     "data": {
      "image/png": "iVBORw0KGgoAAAANSUhEUgAAAigAAAGwCAYAAACD0J42AAAAOXRFWHRTb2Z0d2FyZQBNYXRwbG90bGliIHZlcnNpb24zLjguNCwgaHR0cHM6Ly9tYXRwbG90bGliLm9yZy8fJSN1AAAACXBIWXMAAA9hAAAPYQGoP6dpAAB0nUlEQVR4nO3dd3hUZd4+8HtKZtInvRdCCiVASAKiiNIUFAsqQSWsq1tcd5UmFmRffRULiAULxdXXXfW3C6iA2F1EaSIWSCMGCISEkN6TSZ36/P6YZFKBhEwyk8n9uS4uyZkzZ75znJA75/s8z5EIIQSIiIiIbIjU2gUQERERdcWAQkRERDaHAYWIiIhsDgMKERER2RwGFCIiIrI5DChERERkcxhQiIiIyObIrV3A5TAajSguLoabmxskEom1yyEiIqJeEEKgvr4eQUFBkEovfo1kSAaU4uJihIaGWrsMIiIiugwFBQUICQm56D5DMqC4ubkBML1Bd3d3K1dDREREvaFWqxEaGmr+OX4xQzKgtLV13N3dGVCIiIiGmN4Mz+AgWSIiIrI5DChERERkcxhQiIiIyOYMyTEovWUwGKDT6axdhl1RKBSXnBpGRETUX3YZUIQQKC0tRW1trbVLsTtSqRQRERFQKBTWLoWIiOyYXQaUtnDi5+cHZ2dnLuZmIW0L5JWUlCAsLIznlYiIBozdBRSDwWAOJ97e3tYux+74+vqiuLgYer0eDg4O1i6HiIjslN0NJmgbc+Ls7GzlSuxTW2vHYDBYuRIiIrJndhdQ2rD9MDB4XomIaDDYbUAhIiKioYsBhYiIiGwOA4odGTFiBF5//XVrl0FERNRvDChERETUSYvOAINRWLUGBhQiIiICAORXNWLVzuMY9/QePLYjw6q1DIuAIoRAk1ZvlT9C9C6Bvv322wgODobRaOy0/dZbb8W9996Ls2fPYv78+fD394erqysmT56M77777oLHO3fuHCQSCdLT083bamtrIZFIcODAAfO2EydOYN68eXB1dYW/vz/uueceVFZW9un8EhHR0JZTXo+HP0rHzFcO4KNjBdAbBVTO1l3ryu4WautJs86Asf+7xyqvfeLZuXBWXPo0L1y4EMuWLcP+/fsxe/ZsAEBNTQ327NmDL774Ag0NDZg3bx6ef/55ODo64oMPPsAtt9yC7OxshIWFXVZtJSUlmD59Ou6//35s2LABzc3NWLVqFe68807s27fvso5JRERDx4liNTbtP4NvfitF2+/TcqkET9w4Gn+aFmHV2oZFQBkKvLy8cMMNN2Dbtm3mgLJjxw54eXlh9uzZkMlkiIuLM+///PPPY/fu3fj888+xZMmSy3rNt956CwkJCVi7dq1527/+9S+Ehobi9OnTiImJ6d+bIiIim5ReUItN+87gu5PlnbYHezhhU3I84sM8rVRZu2ERUJwcZDjx7FyrvXZvLV68GH/5y1+wZcsWKJVKbN26FXfffTdkMhkaGxuxZs0afPnll+al5pubm3H+/PnLri0lJQX79++Hq6trt8fOnj3LgEJEZGd+zavGxn1n8MOZ7q38OWP98XJSnNVbO22GRUCRSCS9arNY2y233AKj0YivvvoKkydPxg8//IANGzYAAB577DHs2bMHr7zyCqKiouDk5ISkpCRotdoejyWVmoYXdRwD03YbgDZGoxG33HIL1q9f3+35gYGBlnpbRERkRUIIHM6pxMZ9Ofg1r7rb4wqZFH+fNxr3Th1hU6uF2/5P7WHEyckJd9xxB7Zu3YqcnBzExMQgMTERAPDDDz/gvvvuw+233w4AaGhowLlz5y54LF9fXwCmcSbx8fEA0GnALAAkJCRg165dGDFiBORyfhSIiOyJEAL7TpVj474cpBfUAgAcZBIYjAJtM4jDvJyxOTkB40NU1iv0AobFLJ6hZPHixfjqq6/wr3/9C7/73e/M26OiovDJJ58gPT0dGRkZSE5O7jbjpyMnJydceeWVePHFF3HixAkcOnQITz75ZKd9HnroIVRXV2PRokX49ddfkZubi2+//RZ//OMfeTNAIqIhymgU+DqzBPPePIw/fXAM6QW1UMqluD0+GNF+buZwctOEQHy5bJpNhhOAAcXmzJo1C15eXsjOzkZycrJ5+2uvvQZPT09MnToVt9xyC+bOnYuEhISLHutf//oXdDodJk2ahOXLl+P555/v9HhQUBB+/PFHGAwGzJ07F+PGjcPy5cuhUqnMLSIiIhoa9AYjdqcVYs7rh/Dg1lScLFHDRSHDX6dH4o27J+Ln3CqcKFFDIZfi+dvGYdOieLg72sZ4k55IRG8X6rAharUaKpUKdXV1cHd37/RYS0sL8vLyEBERAUdHRytVaL94fomIbItWbwomWw6cRX5VEwDAzVGOP1wdgfumjsCHR8/j1W9Pw2AUiPBxwabkeMQGWeeqycV+fnfFgQdERERDUIvOgI+PFeAfB86iuK4FAODlosCfpkXgnqvCodUbseKjdBw6XQEAmD8xCC/cPh6uyqHxo39oVElEREQAgCatHtt+OY+3D+Wiol4DAPB1U+KBa0cieUoYnBVy/JxbhWXb01Ber4FSLsWz82Nx56RQm5qlcykMKERERENAfYsO/++nfPzzcB6qG01LTASpHPG3GZFYOCkUjg4yGIwCb35/Bq9/dxpGAUT5uWJzcgJGBbhZufq+s9uAMgSH1gwJPK9ERIOrtkmLf/14Du//mAd1ix4AEO7tjAdnROL2+BAo5KZJDeX1LXj4o3T8mFMFAEhKDMGz82OHxDpgPRmaVV+Eg4NpRHJTUxOcnJysXI39aVsYTibr/Qq5RETUd5UNGrz7Qx7+/dM5NGpNSz9E+bliycwo3DwhEHJZ+2zLH3MqsfzDdFQ2aODkIMPzt43DgsQQa5VuEXYXUGQyGTw8PFBebrq/gLOz85Dqudkyo9GIiooKODs7c2E3IqIBUlrXgrcPncX2X8+jRWda72pMoDuWzorCDbEBkErbf6bpDUa8+f0ZbNyfAyGAUf5u2Lw4HlF+Q6+l05Vd/pQJCAgAAHNIIcuRSqUICwtj6CMisrCC6ib84+BZ7DhWCK3BFEziQj2wbFYUZo326/bvbpm6BUu3p5mXr190RSieviUWjn24B5wts8uAIpFIEBgYCD8/v273n6H+USgUXMSNiMiCcisasOXAWexOK4KhdZnXKyK8sHRWFKZF+fT4C+GB7HKs/DgD1Y1auChkWHvHeMyfGDzYpQ8ouwwobWQyGcdKEBGRTcourcfm/Tn48nixefn5a6J9sGRmFKaM9O7xOXqDEa/uPY23DpwFYGr9bE6Ox0jf7nelH+rsOqAQERHZmszCOmzafwZ7ssrM264b44eHZkYhPszzgs8rrm3Gsu1pOJZfAwC458pw/M9NY+ympdMVAwoREdEgSMmvwaZ9Z7A/27Syq0QCzBsXiAdnRl5y6fnvT5bhkR0ZqG3SwU0px4sLJuCmCYGDUbbVMKAQERENECEEfsqtwqZ9OThy1rQ+iUwqwfy4IDw4M/KSs220eiNe+u8pvHs4DwAwPliFTcnxCPd2GfDarY0BhYiIyMKEEDh4ugKb9uWYWzIOMgkWJITgbzMiexUwCqqbsHR7GtILagEAf7h6BJ64cTSUcvts6XTFgEJERGQhRqPA3pNl2LQvB5lFdQAAhVyKRZND8ZfpkQj26N0ConuySvHYjgyoW/Rwd5Tj5YVxmBsbMJCl2xwGFCIion4yGAW+zizB5v05OFVaDwBwcpDhd1eG4f5rRsLP3bFXx9HoDVj39Sm8f+QcAGBiqAc2LopHqJfzQJVusxhQiIiILpPOYMRn6cXYsj8HuZWNAAA3pRz3Th2BP06LgJeLotfHyq9qxJJtaeYrL/dfE4HH5o4232tnuGFAISIi6iON3oBdKUV462AOCqqbAQAezg7449URuHfqCKicHPp0vK+Ol+CJXcdRr9HDw9kBry6Mw+wx/gNR+pDBgEJERNRLzVoDPjx6Hm8fzEWpugUA4OOqwP3XjMTiK8Phquzbj9UWnQHPf3UC//n5PABgUrgn3lwUj6BejlWxZwwoREREl9Cg0WPrz/n4vx9yUdlguqt7gLsjHpg+EndPDoOTou8za3IrGvDQtjScLFEDAB6cEYmV18d0ukvxcMaAQkREdAF1zTp8cOQc/vVjHmqbTPd2C/F0woMzorAgMfiyp/x+ll6Ev3+SiUatAd4uCmy4ayKmx/hasvQhjwGFiIioi+pGLf51OA8fHDmHeo0eADDSxwUPzozC/IlBcLjMqxzNWgPWfJGFD48WAACmRHjhzUXx8O/lLJ/hhAGFiIioVbm6Bf/3Qy7+8/N5NOsMAIBR/m5YMisK88YHQibtfmfh3sopr8dDW9OQXVYPiQRYOisay2ZFsaVzAQwoREQ07BXVNuOdg2ex/WgBtHojANOy8ktmReH6Mf6Q9iOYAMDOlEI89elvaNYZ4OOqxBt3T8TVUT6WKN1uMaAQEdGwlV/ViLcOnMWu1ELoDAIAkBjuiaWzojA9xhcSSf+CSZNWj6c+zcKu1EIAwNVR3njtronwc2NL51IYUIiIaNjJKa/Hlv1n8VlGMQxGUzCZGumNJbOicNVI734HEwA4VarGQ1tTcbaiEVIJ8PB1MXhwZlS/2kTDCQMKERENGyeK1di8Pwdf/1YCYcolmDnKF0tmRSEx3MsiryGEwEdHC/D051nQ6I3wd1fijbvjceVIb4scf7hgQCEiIruXXlCLTfvO4LuT5eZtc2P9sWRmNMaHqCz2Og0aPf5ndyY+Sy8GAEyP8cWGO+Pg7aq02GsMFwwoRERkt37Nq8bGfWfww5lKAIBUAtw8IQgPzYzCqAA3i75WVnEdlmxLQ15lI2RSCR6dMwoPXDuy3wNsh6s+z206dOgQbrnlFgQFBUEikeDTTz/t9LgQAs888wyCgoLg5OSEGTNmICsrq9M+Go0GS5cuhY+PD1xcXHDrrbeisLCwX2+EiIgIMP0cOnymEne+/RPufPsn/HCmEjKpBEmJIfhu5XS8uSjeouFECIF//5yP27ccQV5lIwJVjvjoL1fibzMiGU76oc8BpbGxEXFxcdi0aVOPj7/00kvYsGEDNm3ahKNHjyIgIADXX3896uvrzfusWLECu3fvxocffojDhw+joaEBN998MwwGw+W/EyIiGtaEEPj+ZBlu33IEv/vnL/g1rxoKmRSLp4ThwKMz8MrCOIz0dbXoa6pbdFiyLQ1PffobtHojZo/2w9fLrsGkEZYZzzKcSYRoGyZ0GU+WSLB7927cdtttAEwfjqCgIKxYsQKrVq0CYLpa4u/vj/Xr1+OBBx5AXV0dfH198e9//xt33XUXAKC4uBihoaH4+uuvMXfu3G6vo9FooNFozF+r1WqEhoairq4O7u7ul1s+ERHZAaNRYE9WKTbuy8GJ1vvaKOVSJE8Jw1+uHYlA1cDceO94YS2WbEvD+eomyKUSPHHjaPxpWoRFZgDZK7VaDZVK1auf3xYdg5KXl4fS0lLMmTPHvE2pVGL69Ok4cuQIHnjgAaSkpECn03XaJygoCOPGjcORI0d6DCjr1q3DmjVrLFkqERENcQajwJfHi7F5fw5OlzUAAJwVMtxzVTj+PG0kfN0GZmCqEALvHzmHtV+fhM4gEOzhhE3J8YgP8xyQ1xuuLBpQSktLAQD+/v6dtvv7+yM/P9+8j0KhgKenZ7d92p7f1erVq7Fy5Urz121XUIiIaPjRGYz4NK0IWw6cRV5lIwDAzVGOP0wdgT9cHQFPF8WAvXZdkw6P7czAtyfKAABzxvrj5aQ4qJwdBuw1h6sBmcXT9fKWEOKSl7wuto9SqYRSySlaRETDmUZvwM6UQrx14CwKa5oBAB7ODvjztAjcc9UIqJwGNiSkna/Bkm1pKKpthkImxd/njca9U0ewpTNALBpQAgICAJiukgQGBpq3l5eXm6+qBAQEQKvVoqamptNVlPLyckydOtWS5RARkR1o0Rmw/dfzePtgLkrVLQAAH1cF7r9mJH53ZThclAO7YoYQAu/+kIf1/z0FvVEgzMsZm5MTLLp+CnVn0f+rERERCAgIwN69exEfHw8A0Gq1OHjwINavXw8ASExMhIODA/bu3Ys777wTAFBSUoLffvsNL730kiXLISKiIaxRo8fWX/LxzqE8VDaYJkoEuDvigekjseiKMDg6yAa8hppGLR7dkYHvT5kWeLtpfCDWLRgPd0e2dAZanwNKQ0MDcnJyzF/n5eUhPT0dXl5eCAsLw4oVK7B27VpER0cjOjoaa9euhbOzM5KTkwEAKpUKf/rTn/DII4/A29sbXl5eePTRRzF+/Hhcd911lntnREQ0JKlbdPh/R87hn4fzUNOkAwCEeDrhbzMikZQYAqV84IMJABw7V42l29NQUtcChVyK/715LBZPCWNLZ5D0OaAcO3YMM2fONH/dNnj13nvvxfvvv4/HH38czc3NePDBB1FTU4MpU6bg22+/hZtb+6I4r732GuRyOe688040Nzdj9uzZeP/99yGTDc6HjoiIbE9tkxb/OpyH946cQ32LHgAQ4eOCB2dE4rb4YDjI+rx012UxGgX+cegsXv32NAxGgQgfF2xKjkdsEFs6g6lf66BYS1/mURMRkW2rbNDg/37IxX9+ykej1rRgZ7SfK5bMisLNE4IG9e6/lQ0arPw4A4dOVwAA5k8Mwgu3j4frAI9zGS6stg4KERFRb5XWteCdQ7nY9ms+WnRGAMDYQHcsnRWFubEBg75M/M+5VVi2PQ3l9Roo5VI8Oz8Wd04KZUvHShhQiIhoUBXWNOEfB8/i46OF0BpMwSQu1APLZkVh1mi/QQ8EBqPA5v05eP270zAKIMrPFZuTEyx+M0HqGwYUIiIaFOcqG7HlQA4+SS2C3mgaXXDFCC8snR2FaVE+VrlSUV7fgoc/SsePOVUAgAUJIXjutlg4K/jj0dr4f4CIiAZUTnk9Nu3LwecZxWjNJZgW5YOls6IwZaS31er6MacSyz9MR2WDBk4OMjx32zgkJYZYrR7qjAGFiIgGxIliNTbtP4NvfitF23SMWaP9sGRWFBKseN8ag1Hgje9OY+P+HAgBjPJ3w+bF8YjyY0vHljCgEBGRRWUU1GLjvhx8d7LMvO2G2AAsmRWFccHWnapbpm7Bsu1p+CWvGgBw9+RQPH1LLJwUXObC1jCgEBGRRRw9V42N+3LMU3SlEuDmCUF4aGaUTQw4PZBdjpUfZ6C6UQsXhQxr7xiP+RODrV0WXQADChERXTYhBH46W4U3953Bz7mmqxIyqQS3xwfjwRmRGOnrauUKAb3BiFf3nsZbB84CAMYEumNzcrxN1EYXxoBCRER9JoTAgdMV2Pj9GaSerwUAOMgkSEoMxYMzIhHq5WzdAlsV1zZj2fY0HMuvAQDcc2U4/uemMYNyHx/qHwYUIiLqNaNRYO/JMmzal4PMojoAgFIuxaIrwvDA9JEIVDlZucJ2358swyM7MlDbpIObUo4XF0zATRMCrV0W9RIDChERXZLBKPB1Zgk278/BqdJ6AICzQobfXRmOP18TAT83RytX2E6rN+LlPafwfz/kAQDGB6uwKTke4d4uVq6M+oIBhYiILkhvMOKz9GJsPpCD3IpGAICbUo57p47AH6dFwMtFYeUKOyuobsLS7WlIL6gFANw3dQRWzxs9aHdAJsthQCEiom60eiN2pRbirQNncb66CQCgcnLAn6ZF4N6pI6BycrByhd3tySrFYzsyoG7Rw91RjpcXxmFubIC1y6LLxIBCRERmLToDPj5WgH8cOIviuhYAgLeLAn++ZiTuuSrcJu/qq9EbsO7rU3j/yDkAwMRQD2xcFG8zA3Xp8tjeJ42IiAZdk1aPbb+cx9uHclFRrwEA+Lkp8cD0SCy6ItRm702TX9WIJdvSzAN2778mAo/NHQ2FXGrlyqi/bPMTR0REg6K+RYf/91M+/nk4D9WNWgBAsIcT/jojEgsTQ2x6Ou5Xx0vwxK7jqNfo4eHsgFcXxmH2GH9rl0UWwoBCRDQM1TXp8K8f8/Dej3lQt+gBAOHeznhwRiRujw+x6SsQLToDnv/qBP7z83kAwKRwT7y5KB5BHrYzxZn6jwGFiGgYqWrQ4N3Defj3T/lo0JiCSaSvC5bMisItE4Igl9luMAGA3IoGPLQtDSdL1ACAB2dE4uHrY+Bg43VT3zGgEBENA+XqFrxzKBdbfzmPZp0BADA6wA1LZ0XjhnEBkEklVq7w0j5LL8LfP8lEo9YALxcFXrtrIqbH+Fq7LBogDChERHasqLYZbx88iw+PFkCrNwIAJoSosHRWNGaP9oN0CASTZq0Ba77IwodHCwAAUyK88OaiePi7287icGR5DChERHbofFUTthzIwa7UQugMAoBprMbS2dG4NtoHEontBxMAyCmvx0Nb05BdVg+JBFg6KxrLZkXZfCuK+o8BhYjIjuSUN2DL/hx8llEMg9EUTKZGemPJrChcNdJ7yAQTANiZUoinPv0NzToDfFyVeOPuibg6ysfaZdEgYUAhIrIDp0rV2LgvB19nlkCYcglmjPLF0llRSAz3sm5xfdSk1eOpT7OwK7UQAHB1lDdeu2uiTd3vhwYeAwoR0RCWWViHN/edwd4TZeZtc8b6Y8msKEwI8bBeYZcpu7QeD25NwdmKRkglwIrrYvDQzKghMYiXLIsBhYhoCErJr8bGfTk4kF0BAJBIgHnjA7FkZhTGBLpbubq+E0Lgo6MFePrzLGj0Rvi7K/HG3fG4cqS3tUsjK2FAISIaIoQQ+Cm3Cpv25eDI2SoAgEwqwfy4IDw4MwpRfq5WrvDyNGj0+J/dmfgsvRgAcG2ML167Mw7erkorV0bWxIBCRGTjhBA4dKYSG78/g2P5NQAAB5kECxJC8LcZkQj3drFyhZcvq7gOS7elIbeyETKpBI/MicFfr40cEtOfaWAxoBAR2SghBL47WY5N+84go9B0MzyFXIq7J4figemRCB7CS7sLIfCfX87juS9PQKs3IlDliI2L4jFpxNAa0EsDhwGFiMjGGI0C3/xWio37zuBUaT0AwMlBhsVTwnD/tSOH/AJl6hYdVu/KxFeZJQCA2aP98MrCOHi6KKxcGdkSBhQiIisTQiC3shGp+TVIPV+DI2erkF/VBABwUcjw+6kj8OdpEXYxJuN4YS2WbEvD+eomyKUSPHHjaPxpWsSQWp+FBgcDChHRIGvQ6JFRUGsOJGkFtaht0nXax91Rjj9cHYE/XD0CHs5D/8qCEALvHzmHtV+fhM4gEOzhhE3J8YgP87R2aWSjGFCIiAaQEALnqprMYST1fC2yS9VoXeTVTCmXYkKICglhnogP88TVUd5wc3SwTtEWVtekw+O7MrAny7RWy5yx/ng5KQ4qZ/t4fzQwGFCIiCyoSatHRkGdKYzkm66OVDdqu+0X7OGE+DAPJIZ7IiHME2MC3aGQ29/9ZdLO12DJtjQU1TbDQSbB3+eNwX1TR7ClQ5fEgEJEdJmEEDhf3dQaRmqRer4Gp0rrzffAaaOQSzE+WIWEMA8khHkiIdxzyA90vRQhBN79IQ/r/3sKeqNAmJczNiXHD8nVbck6GFCIiHqpWWvA8cJapJ43hZG08zWobOh+dSRQ5djaqvFAQrgnYoPcoZTLrFCxddQ0avHojgx8f6ocAHDT+ECsWzAe7nbSsqLBwYBCRNQDIQQKa5rNrZrU87U4WaKGvsvVEQeZBLFBprEjieGeSAj3QKBq6K5P0l/HzlVj6fY0lNS1QCGX4n9vHovFU8LY0qE+Y0AhIgLQojMgs6iu02DWinpNt/383ZWmNk2YKYzEBqng6DB8ro5ciNEo8I9DZ/Hqt6dhMApE+LhgU3I8YoNU1i6NhigGFCIadoQQKK5r6RRGThTXQWfofHVELpUgNsgd8a3jRhLCPBDs4cSrAV1UNWiw8uMMHDxtunHh/IlBeOH28XBV8kcMXT5+eojI7mn0BvxWpO4QSGpQpu5+dcTHVYnE8PaBrOODeXXkUn7OrcLyD9NQptZAKZfi2fmxuHNSKEMc9RsDChHZnZK6ZvOsmtTzNcgqUkNrMHbaRyaVYGygu2lmTetU3xBPXh3pLYNRYPP+HLz+3WkYBRDp64ItixMxKsDN2qWRnWBAIaIhTas3Iqu4zjyzJjW/BiV1Ld3283ZRtLZqPJAY5okJIR5wUvDqyOUor2/Bwx+l48ecKgDAgoQQPHdbLJwV/JFClsNPExENKeXqFqSer0FK68yazKI6aPWdr45IJcDoAHfzrJqEME+EeTnz6ogF/JhTieUfpqOyQQMnBxmeu20ckhJDrF0W2SEGFCKyWTqDESeK1eaBrKn5NSiqbe62n6ezg3ncSHyYB+JCPODCAZoWZTAKvPHdaWzcnwMhgFH+bti8OB5Rfmzp0MDgdzAR2YyKeo153Ehafi0yCmuh6eHqSIy/m3ncSGK4J0Z48+rIQCpTt2DZ9jT8klcNALh7ciieviWWLTIaUAwoRGQVeoMRp0rrW1s1pj8F1d2vjqicHDotER8X6sHpq4Po4OkKPPxROqobtXBRyLD2jvGYPzHY2mXRMMDvciIaFFUNmk4DWY8X1qFZZ+i0j0QCxPi5ISHcwzSgNcwTI31cIJXy6shg0xuMeHXvabx14CwAYEygOzYnx2Okr6uVK6PhggGFiCxObzAiu6weqedrkdZ6heRcVVO3/dwc5YgP80Ri6+yauFAP3q/FBhTXNmPZ9jQcy68BAPzuyjA8edNYrglDg4oBhYj6rb5Fh7TztTiWX4Nj56qRUVCLRq2h237Rfq7mJeITwjwR6evKqyM2Zt+pMqz8OAO1TTq4KeVYt2A8bp4QZO2yaBiyeEDR6/V45plnsHXrVpSWliIwMBD33XcfnnzySUilUgCmZabXrFmDd955BzU1NZgyZQo2b96M2NhYS5dDRAOgqLYZx85V49i5GhzLr0F2qRpd7qEHN6UcE8PaWjUeiA/1hMqZV0dslVZvxMt7TuH/fsgDAIwPVmFTcjzCvV2sXBkNVxYPKOvXr8c//vEPfPDBB4iNjcWxY8fwhz/8ASqVCsuXLwcAvPTSS9iwYQPef/99xMTE4Pnnn8f111+P7OxsuLlxyhqRLTEYBU6WqJGSX4Oj56qRcoGF0EK9nDAp3AuTRphm1kT7uUHGqyNDQkF1E5ZuT0N6QS0A4L6pI7B63mgo5WzpkPVIhBDi0rv13s033wx/f3/885//NG9bsGABnJ2d8e9//xtCCAQFBWHFihVYtWoVAECj0cDf3x/r16/HAw880O2YGo0GGk37fTPUajVCQ0NRV1cHd3d3S5ZPNOw1aPRIP1+LY/mmKyRp52u6tWtkrTfRSwz3xOQRXpgU7gk/d0crVUz9sSerFI/tyIC6RQ93RzleXhiHubEB1i6L7JRarYZKperVz2+LX0GZNm0a/vGPf+D06dOIiYlBRkYGDh8+jNdffx0AkJeXh9LSUsyZM8f8HKVSienTp+PIkSM9BpR169ZhzZo1li6ViGC6b82xc6aVWY/lV+NEcc/tmvhwT0wK98SkEZ6YGOrBZc2HOI3egHVfn8L7R84BACaGemDjoniEejlbtzCiVhb/F2bVqlWoq6vD6NGjIZPJYDAY8MILL2DRokUAgNLSUgCAv79/p+f5+/sjPz+/x2OuXr0aK1euNH/ddgWFiPrGYBTILq1HSn5164DWnldmDfZwwqQRbYHECzH+bNfYk/yqRizZlobMojoAwP3XROCxuaOhkEutXBlRO4sHlI8++gj/+c9/sG3bNsTGxiI9PR0rVqxAUFAQ7r33XvN+XVd9FEJccCVIpVIJpVJp6VKJ7F6Ttq1dYxrMmpZfg3qNvtM+UgkwNsjdPH5kUrgXAlRs19irr46X4Ildx1Gv0cPD2QGvLozD7DH+l34i0SCzeEB57LHH8MQTT+Duu+8GAIwfPx75+flYt24d7r33XgQEmHqbbTN82pSXl3e7qkJEfVOmbmmdWWMazJpVrIahS7/GRSFDQrinefzIxFDet2Y4aNEZ8PxXJ/Cfn88DACaFe+LNRfEI8nCycmVEPbP4v0pNTU3m6cRtZDIZjEbT/TQiIiIQEBCAvXv3Ij4+HgCg1Wpx8OBBrF+/3tLlENkto1HgdHl9p/EjPS0VH6RyRGLrQNZJIzwxOsCd7ZphJreiAQ9tS8PJEjUA4MEZkXj4+hg4yNjSIdtl8YByyy234IUXXkBYWBhiY2ORlpaGDRs24I9//CMAU2tnxYoVWLt2LaKjoxEdHY21a9fC2dkZycnJli6HyG40aw1IL6g1jx9Jza+BuqV7u2Z0gLt5qu+kEV4I5m/Iw9pn6UX4+yeZaNQa4OWiwGt3TcT0GF9rl0V0SRYPKBs3bsRTTz2FBx98EOXl5QgKCsIDDzyA//3f/zXv8/jjj6O5uRkPPvigeaG2b7/9lmugEHVQXt+ClNaF0I7l1yCrqA76Lu0aZ4UM8WEeSAw3XSGJD/OAG5eKJ5gC7ZovsvDh0QIAwJQIL7y5KB7+nA5OQ4TF10EZDH2ZR000FBiNAjkVDZ3Gj+T3cO8af3clJrW1a8K9MCbQDXJepqcucsrr8dDWNGSX1UMiAZbOjMKy2dH8rJDVWXUdFCK6tBadARkFptk1Ka1/6pp1nfaRSIBR/m7mmTWJ4Z4I8XS64Gw3IgDYmVKIpz79Dc06A3xclXj9romYFu1j7bKI+owBhWgQVDZoWgezmsaP/FZUB52h88VLRwcp4kM9zeNH4sM8oXJiu4Z6p0mrx1OfZmFXaiEA4Ooob7x210T4ubGlQ0MTAwqRhQkhcLai0XQzvdarI3mVjd3283NTtoYRU8tmbJA7Z1XQZckurcdD21KRU94AqQRYcV0MHpoZxdlaNKQxoBD1U4vOgN+K6nC09QpJSn4Napp03fYb5e+GxLbVWcO9EOrFdg31jxACHx0twNOfZ0GjN8LfXYk37o7HlSO9rV0aUb8xoBD1UXWj1rTuSOsVkszCOmgNxk77KOVSTAz1MI8fSQjzhMqZ7RqynAaNHv+zOxOfpRcDAK6N8cVrd8bB25WrbpN9YEAhugghBPIqG82za47l1yC3onu7xsdVYV4qPjHcE7FBKt7XhAZMVnEdlm5LQ25lI2RSCR6ZE4O/XhsJKVs6ZEcYUIhgmuarbtGhqlGLinoNjhfW4ug502JoVY3abvtH+blicofxI+HezmzX0IATQuA/v5zHc1+egFZvRKDKERsXxWPSCC9rl0ZkcQwoZJf0BiNqmnSobtSiqlGD6kat6e8NWvPfzdsatahp0na7Z00bhVyKuBCVef2RhDBPeLooBvkd0XCnbtFh9SeZ+Op4CQBg9mg/vLIwjp9FslsMKDQktOgMnQJFdaMG1Y261v92Dh5Vjdpua4r0lptSDi9XBWL83cxXSMYFu0Mpl1n4HRH1XmZhHR7alorz1U2QSyV44sbR+NO0CF61I7vGgEKDTgiBBo2+21WMzlc5NKhuag0gDVo0ag19fh2JBPBwcoCXiwLeLkp4uSjg5aqAt4vC9PcOf7xdlPB0cWAQIZsihMAHR85h7denoDUYEezhhE3J8YgP87R2aUQDjgGF+s1oFKhr1nUIGRrT3xu0qG7qGjxM27R646UP3IVcKmkPFK4KeDq3hQ1lp+DR9l8PZwXXgaAhq65Jh8d3ZWBPVhkAYM5Yf7ycFMfZYDRsMKBQNzqDETVtYzM6XN1ob620h42aJi1qmnQXHL9xMY4O0vYrGx2ChZerAl7O7UHEq3Ufd0c5L2nTsJB2vgZLtqWhqLYZDjIJ/j5vDO6bOoKffxpWGFCGgRadwXxFo9OA0R6vcmigbtFf1uu4Ocp7aJ8oOwWPjo87K/jxI+pICIF3f8jD+v+egt4oEObljE3J8ZgQ4mHt0ogGHX9CDDEdx2+YA0aHqxvdx3Jo0ay7vPEbns6Kblc32v7r2WFcR1u7het+EF2+mkYtHt2Rge9PlQMAbhofiHULxsPdkS0dGp4YUKys4/obnWej9Bw2qhu13VYt7Q0HmcR8RcPLxaHzlY2OAaS1paJycuD4DaJBcuxcNZZtT0NxXQsUcimeunksfjcljC0dGtYYUCzMYBSoabpw2Oh61eNi629czMXGb5gHjrZtd1XATcnxG0S2xmgU+Mehs3j129MwGAUifFywKTkesUEqa5dGZHUMKJeg1RtR09QeNnocw9Fhe22zDqLvecO8/kansHGB8RveLko4KTgdlmgoq2rQYOXHGTh4ugIAMH9iEF64fTxclfxnmQhgQOlECIEXvzmFo+eqzQGk/jIHjHo4O1wwbHi7cv0NouHs59wqLP8wDWVqDZRyKZ6dH4s7J4XyKidRBwwoHdRr9Pi/H3LR146LT+vKozH+bhgV4IZoP1f4uzvC100JRwcGDyIyMRgFNu/PwevfnYZRAJG+LtiyOBGjAtysXRqRzZEIcTkNCetSq9VQqVSoq6uDu7u7RY+ddr4G6QW1qGzQoKJeg8oGLSobNKis16CiQQOdoW+ny1Uph6+bEj6uCvi4Ks1/zNvclPBt3ca2DZH9Kq9vwcMfpePHnCoAwIKEEDx3Wyyn29Ow0pef3/zO6CI+zPOCy0gLIaBu1qOiQWMKLeYQo0FlvbbLNtNsmwaNHg0aPfIqGy/52q5KeacgYwoxSvi4tW/zc2OYIRpqfsypxPIP01HZoIGTgwzP3TYOSYkh1i6LyKYxoPSBRCKBytkBKmcHRPm5XnRfIQTULfouIab9iox5W4MWFQ0aaPXtYeZcVdMla3FRyDpdfekYYtqCjW/rdv6GRmQdBqPAG9+fwcZ9ZyAEMMrfDZuS4xHtz5YO0aXwJ9cAkUgkUDk5QOXkgEjfS4eZeo3eFFp6DDEaVDRozW0mrd6IRq0BjVVNyO9FmHFWyNqvxrReoWn/Wglft/ZtDDNEllGmbsGy7Wn4Ja8aAHD35FA8fUssr34S9RJ/GtkAiUQCd0cHuDv2Psy0BZmOIcYUakxXZCpbt2v0RjRpDcjvQ5jpMci4KeHrqugUbFw4HZKoRwdPV2DlR+moatTCRSHD2jvGY/7EYGuXRTSk8CfMENMxzIz0vfi+bcvidwsyrVdiKjqMm6ls0KBFZwoz56ubcL760mHGyUEGHzdFhzZTW2upc5DxcVPCRSHjFEqye3qDEa/uPY23DpwFAIwJdMfm5HiMvMQvHkTUHQOKHZNIJHBzdICbowMifFwuum/HMFPZ4QpMRX1re6nLoOAWnRHNOgMKqptRUN18yVrawkzXmUy+bYOC3dq3MczQUFRc24xl29NwLL8GAPC7K8Pw5E1judQA0WViQCEAfQ8zjVpDpxBjHifT4QpN2+ymZp2hT2HG0UHaw4BfRacQ09aGcuUS/mQD9p0qw8qPM1DbpIObUo51C8bj5glB1i6LaEhjQKE+k0gkcFXK4aqUY8QlwgwANLYNAO5hwG9lx9lM9Ro06wxo0RlRWNOMwppLhxmlXNo5yLh1HwTctt4M70dElqYzGPHSf0/h/37IAwCMD1ZhU3I8wr0v/X1BRBfHgEIDzkUph0sfwsyFBvx2DDKVDRo0aQ3Q6I0oqm1GUW3vw4xPh9ZS1yDj66ZkmKFeKahuwtLtaUgvqAUA3Dd1BFbPG83bVhBZCAMK2ZS2MNOb30CbtHpUtoaY7rOZOq8C3NjHMKOQS1sH/yp6vBrj22HcjLsjw8xwsyerFI/tyIC6RQ93RzleXhiHubEB1i6LyK4woNCQ5ayQI8xbjjBv50vu2zHMVHYYH1PR0NJtFeBGrQHaywwz7TOXFJ1CTNvVGoaZoU2jN+DFb07hvR/PAQAmhnpg46J4hHpd+jNIRH3DgELDQl/CTLPW0DpWpsOA3y5Tstuu0DRo9H0LMzKp+SpMx9V+u89uUsLdiWHGluRXNWLJtjRkFtUBAO6/JgKPzR0NhVxq5cqI7BMDClEXTgoZQr2ce/VbcYvO0DoVu/MqwF1vZ1BZr0G9Rg+twYjiuhYU17Vc8tgKmRTenVpMPdzOoDXcqJwcGGYG0FfHS/DEruOo1+jh4eyAVxfGYfYYf2uXRWTXGFCI+sHRoe9hxhxauo6dqW/f1hZmSupaUNKLMOMgk3QeJ9NlFWAfV1PLydeNYaYvWnQGPP/VCfzn5/MAgEnhnnhzUTyCPJysXBmR/WNAIRokfQ0zXWctdZ2S3daGqm/RQ2cQfQoz3i7traXOY2UU5haTj6sSHs7DN8zkVTbioa2pOFGiBgD8bUYkVl4fAwcZWzpEg4EBhcgGOTrIEOLpjBDP3oWZqkZth5tNdh4n075ongbq1jBTqm5BqfrSYUYulXRpM/UQZFof83BygFRqH2Hms/Qi/P2TTDRqDfByUWDDnXGYMcrP2mURDSsMKERDnKODDMEeTgjuRduhLcxcMMh0GE+jbtFDbxQoU2tQptZc8thtYabrgN+uU7V93Ww3zLToDHjm8yx8eLQAADAlwgtvLoqHv7ujlSsjGn4YUIiGkb6EGY3egKpuY2U6tJc6bKtr1vUpzMikEni7dB0r037jyY4Dgz2dFYMSZnLK6/HQ1jRkl9VDIgGWzozCstnRkLOlQ2QVDChE1COlXIYgD6deDQjV6o2oauwQWnpcQM8UdmqbdDAYBcrrNSiv1wAlFz+2TCqBl0vHdWXaB/x2XHfGx1UJr8sMMztTCvHUp7+hWWeAj6sSr981EdOiffp8HCKyHAYUIuo3hVyKQJUTAlW9DzPmWUs9TMluGzfTFmYq6k379DbM9DTg16fLfZo8nRXQ6A146tMs7EotBABcHeWN1+6aCD83tnSIrI0BhYgGVV/DTHVje5upoocp2W1XaGq6hpnLMCbAHZ+mFXUbFOzlooDMBsfMENkzBhQislkKuRQBKkcEqC59RUNnMLaPmemwcF5P92mqadL1eIx3D+f1uF0qAbxcug747T67ydeNYYbIUhhQiMguOMguHWYaNHo8uTsTn6YXAwB8XBVYfeMYGIXotApwx9lNNU1aGAXM20+V1l+0DlOY6brqb8f7NLXf4sDbRckwQ3QBDChENCycKFZjybZU5FY2QiaV4JE5MfjrtZGXHFSrN5jaTBUN3e+S3bXlVG0OM1pUNmgBXDzMSCSAl3MPtzPotMaMaVCwl4uCM4poWGFAISK7JoTA1l/O49kvT0CrNyJQ5YiNi+IxaYRXr54vl0nh5+4Iv16shdIxzHQa8NvDLQ6qm7QQAqhq1KKqsfdhptOA3y6rAPu4KuHnxjBD9oEBhYjslrpFh9WfZOKr46bpP7NH++GVhXHwdFEMyOv1Ocw0aXsc8Nt17ExVY+cwk1128WNLJICns6L7fZm6jJ1pGzPD5fvJFjGgEJFdyiysw0PbUnG+uglyqQSrbhiNP18TYTP3FpLLpPBzc+zVlGaDUZiuzHQZ8Nt94Twtqhs1MAqgulGL6kYtTpc1XPL4ns4O3W9n4Na+9kzbVG1vV4YZGjwMKERkV4QQ+ODIOaz9+hS0BiOCPZywMTkeCWGe1i7tssmkEtOaLm7KS+7bFmZ6GvDbPm7GFGzawkxNkw41Tbpeh5meBvy2tZzagg7DDPXXgASUoqIirFq1Ct988w2am5sRExODf/7zn0hMTARg+gdkzZo1eOedd1BTU4MpU6Zg8+bNiI2NHYhyiGiYqGvS4fFdGdiTZeqBzBnrj5eT4qBydrByZYOnr2GmpqlLi6nbAnqmr6saOoeZM+WXDjMerWGm44DfrkGmbTaTQs4wQ51ZPKDU1NTg6quvxsyZM/HNN9/Az88PZ8+ehYeHh3mfl156CRs2bMD777+PmJgYPP/887j++uuRnZ0NNzc3S5dERMNA2vkaLN2ehsKaZjjIJPj7vDG4b+oIm2np2CKZVGK+GjI64OL7GlvDTEWHENN5Ab32m1BWNWphMArUNulQ26RDTh/CTMcp2b5drtC0/WGYGR4kQghhyQM+8cQT+PHHH/HDDz/0+LgQAkFBQVixYgVWrVoFANBoNPD398f69evxwAMPdHuORqOBRtO+MqRarUZoaCjq6urg7u5uyfKJaIgRQuCfh/Pw4jenoDcKhHk5Y1NyPCaEeFi7tGHLaL4y00OQ6TIouC3M9IXKyaHbAOCO6810bDMp5bIBepd0OdRqNVQqVa9+fls8oIwdOxZz585FYWEhDh48iODgYDz44IO4//77AQC5ubmIjIxEamoq4uPjzc+bP38+PDw88MEHH3Q75jPPPIM1a9Z0286AQjS81TRq8eiODHx/qhwAcNP4QKxbMB7ujsOnpTPUGY0Ctc26TqGlY2up02ymBi30fQwz7o7yTuvK+Pa0CnBruGGYGXhWDSiOjqYR6StXrsTChQvx66+/YsWKFXj77bfx+9//HkeOHMHVV1+NoqIiBAUFmZ/3l7/8Bfn5+dizZ0+3Y/IKChF1dexcNZZtT0NxXQsUcimeunksfjcljC0dO9YxzHQd8Nt1UHB/wox53EwPQcaXYaZf+hJQLD4GxWg0YtKkSVi7di0AID4+HllZWXjrrbfw+9//3rxf139EhBAX/IdFqVRCqbz0gC8isn9Go8A/Dp3Fq9+ehsEoEOHjgk3J8YgNUlm7NBpg0ta7VXu5KBDjf/HxikajQF3blZkeVgFuv2eTFlWNGugMAuoWPdQteuRWNF6yFjdHuXn6dafbGfTQcnJ0YJi5HBYPKIGBgRg7dmynbWPGjMGuXbsAAAEBppFYpaWlCAwMNO9TXl4Of39/S5dDRHakqkGDlR9n4ODpCgDA/IlBeOH28XBVcsUE6kwqlcDTRQFPFwWiLxFmhDCFmZ4G/FZ0WQW4ssEUZupb9Khv0SO3shdhRinvNGup832aOo+dYZhpZ/Hv6quvvhrZ2dmdtp0+fRrh4eEAgIiICAQEBGDv3r3mMSharRYHDx7E+vXrLV0OEdmJX3KrsOzDNJSpNVDKpVhzayzumhzKlg71m0QigYezAh7OvQ8zpvDS8yrAHbfpDAL1Gj3qNb0PMz49DPg1Bxm39mna9h5mLB5QHn74YUydOhVr167FnXfeiV9//RXvvPMO3nnnHQCmD8KKFSuwdu1aREdHIzo6GmvXroWzszOSk5MtXQ4RDXEGo8CW/Tl47bvTMAog0tcFmxcnYHQAx5/R4OsYZqL8Lr6vEALqZr35ppKdgky9tsPNJk3BRmswmsNMXi/CjKtS3n2czAVWAXZSDL0wY/FBsgDw5ZdfYvXq1Thz5gwiIiKwcuVK8yweoH2htrfffrvTQm3jxo3r1fH7MsiGiIauinoNVnyUhh9zqgAACxJC8NxtsXBWsKVD9kUI0xiYziGmp0HApq+1BmOfju+ikHUZ8KuAr6tj55ZT6/aB/P6y6iyewTCQAeWVPdk4XlQHAGi7cNx2Bbn9a0kPj0susG/b110el7RvQ6+Ob/q662O40PE7PLen1+64V+fjX+p47ZfTL71v3+q91PHQ4Vi9ee3Lqrf91SDQ/q3R9l0iun0tOn3dUdu31qWe29M+bRv68pxu+3Q95mXW1O25l1ETetrnEs8/klOJ4rqWTjXckRDc7X11/Cese20Xrh8Xe/0+vbf2rd336VttXV+rK4ELPHCx5/TxWBfe/yIG+DUu9mPqws+54FMu8V76/lq9e82+/7+70GMCQH2Lqc3UoutbUOmNtjBz/7UjsXhKuEWPbdVZPENZk1aPd37IhVZv+f/hRNR/n6QWWbsEIrvXqDWgsaoJe0+UWTyg9AUDSgfOCjm23z8F//rxHPZmlXW6hCaXSjBztB9mjvKDXCbp9tuXEJf+7bqn347bf2O70G+nnR/vzfE7Pn7B34J7eE6f6u3Fa1/oN93evHa3entRZ9ff1oW4/Hq7XvEx/bVvV8k6//3iz7348TsPAu3dczo/t9MRenn16WL7oMtx+1LTxd5TuVqD94+c6/TYiuui4eQgu+hrdD7WxWrrsk/X93WZ763ztp6vjF6ytot8jvriQoOGL3a4i72W5CLPvNDzLve1LvTMi9d3sdey8Lm4nPNkK7X38f+jRAJMDPW4yKsNPAaULhLDvZAY7oXaJi2+yCjGzpRCZBTWQW8U2HuiDKn5NZg/MRhJiSEYG8TxL0SWcvB0Bf75QzoA0yXmtXeMx/yJwdYtioishmNQeuF0WT12pRTik7QiVNS3r2g7NtAdSYkhmD8xCN6uXEiO6HLoDUa8uvc03jpwFgAwJtAdm5PjMdLX1cqVEZGlcZDsANEbjDh0pgI7Uwrx3YlycwvIQSbBrNF+SEoMxYxRvnCQ8U6bRL1RXNuMZdvTcCy/BgDwuyvD8ORNY+1+fQei4YoBZRDUNGrxxXFTC+h4YZ15u7eLArfFm1pAYwLZAiK6kH2nyrDy4wzUNungppRj3YLxuHlC0KWfSERDFgPKIMsurcfOlALsTitGZUN7C2hcsDuSEkJw68RgeLkorFghke3QGYx4eU823jmUCwAYH6zCpuR4hHu7WLkyIhpoDChWojMYceh0awvoZBl0BtOpdZBJMHu0P5ISQzCdLSAaxgqqm7B0exrSC2oBAPdNHYHV80bzzrBEwwQDig2oadTis/Qi7EwtxG9FavN2H1clbo8PQlJiKEYFXPyeD0T2ZE9WKR7bkQF1ix7ujnK8lBSHG8YFWLssIhpEDCg25mSJGrtSCvFpehEqG7Tm7eODVUhKDMGtcUHwZAuI7JRGb8CL35zCez+eAwDEhXpg06J4hHo5W7cwIhp0DCg2Smcw4mB2BXakFOD7k+XQG02nXiGT4rqxfkhKDMG10b6QswVEduJ8VRMe2paKzNbbR9x/TQQemzsaCjk/40TDEQPKEFDVoMHnrQvBZRV3bgHdkWCaBRRzidt+E9myrzNLsGrncdRr9PBwdsArSXG4bqy/tcsiIitiQBliThSrsbO1BVTd2N4CigsxtYBuiQuChzNbQDQ0tOgMeOGrk/j3z/kAgEnhnnhzUTyCPJysXBkRWRsDyhCl1RtxILscO1MKse9U5xbQ9WNNs4CuifZhC4hsVl5lIx7amooTJaargn+bEYmV18dw5hoRAWBAsQtVDRp8ll6MHSmFOFnS3gLyc1Pi9oRgJCWEIJotILIhn6UX4e+fZKJRa4CXiwIb7ozDjFF+1i6LiGwIA4qdySquw86UQnyWXty5BRTqYZoFNCEIKmcHK1ZIw1mLzoBnPs/Ch0cLAABXRHjhzbvjEaBytHJlRGRrGFDslFZvxP7scuw4Voj92eUwtLWA5KYW0MLEEFwT7QuZ9DLv007URznl9Xhoaxqyy+ohkQBLZ0Zh2exotiGJqEcMKMNARb3GtBBcSiFOldabt/u7K3F7fAiSEoMR5ccWEA2cXSmFePLT39CsM8DHVYnX75qIadE+1i6LiGwYA8owIoRAVussoM/Si1DTpDM/NrG1BXRLXBBUTmwBkWU0afX438+ysDOlEAAwNdIbr989EX5ubOkQ0cUxoAxTGr0B+0+ZZgHtz67o1AKaGxuApMQQTIvyYQuILlt2aT0e2paKnPIGSCXAiuti8NDMKH6miKhXGFDI3ALacawQ2WXtLaAAd0fTLKDEEET6ulqxQhpKhBD4+FgBnv48Cy06I/zclHhzUTyuHOlt7dKIaAhhQCEzIQR+K1JjZ0oBPssoRm2HFlBCmAeSEkNxc1wg3B3ZAqKeNWj0eHJ3Jj5NLwYAXBvjiw13xsHHVWnlyohoqGFAoR5p9AbsO2lqAR043d4CUnZoAV3NFhB1cKJYjSXbUpFb2QiZVIJH5sTgr9dGQsrPCBFdBgYUuqRydQs+bW0BnSlvMG8PVDnijoRgLEgIwUi2gIYtIQS2/nIez355Alq9EYEqR7y5KB6TR3hZuzQiGsIYUKjXhBDILGpfCK6uub0FlBjuiaTEENw0gS2g4UTdosPqTzLx1fESAMCs0X54dWEcPF14Pygi6h8GFLosGr0B350ox86UAhw8XYHWDhAcHaS4ITYASYmhuCrSmy0gO5ZZWIcl21ORX9UEuVSCVTeMxp+mRbClQ0QWwYBC/VaubsHutCLsSClETocWUJDKEXckhGBBYggifFysWCFZkhACHxw5h7Vfn4LWYESwhxM2JscjIczT2qURkR1hQCGLEUIgo7AOO1MK8Hl6MdQtevNjk0eYWkDzxgfCjS2gIauuSYfHd2VgT1YZAGDOWH+8nBTH+zsRkcUxoNCAaNEZ8N3JMuxMKcShLi2gG8cFIikxBFeN9GY7YAhJO1+DpdvTUFjTDAeZBH+fNwb3TR0BiYT/D4nI8hhQaMCV1plaQDtTCnC2otG8PdjDCQsSgrEgMQTh3mwB2SohBP55OA8vfnMKeqNAmJczNiXHY0KIh7VLIyI7xoBCg0YIgfSCWuxMKcTnGcWo79ACumKEl6kFNCEQrkq5FaukjmoatXh0Rwa+P1UOAJg3PgAvLpjAmVpENOAYUMgqWnQGfHvC1AL64UwF2j5ZTg4y3DguAEmTQnBlBFtA1pSSX42l29JQXNcChVyKp24ei99NCWNLh4gGBQMKWV1JXXNrC6gQuV1bQIkhSEoIQZi3sxUrHF6MRoG3D+XilW+zYTAKRPi4YFNyPGKDVNYujYiGEQYUshlCCKQV1GLHsUJ8mVGMek17C2hKhJd5FpALW0ADpqpBg5UfZ+Dg6QoAwPyJQXjh9vFsuxHRoGNAIZvUojNgT1YpdqYU4nBOpbkF5KyQmWcBTYnwYgvIgn7JrcKyD9NQptZAKZdiza2xuGtyKFs6RGQVDChk84pr21tAeZXtLaBQLycsSAjBgoQQhHqxBXS5DEaBLftz8Np3p2EUQKSvCzYvTsDoAH6/EJH1MKDQkCGEQOr5GuxMKcQXGSVo6NACunKkF5ISQ3HjuAC2gPqgol6DFR+l4cecKgDAgoQQPHdbLJwVPIdEZF0MKDQkNWsN+PZEzy2geeMDsTAxBFdEeLE9cRE/5lRi+YfpqGzQwMlBhuduG4ekxBBrl0VEBIABhexAUW0zdqcWYmdKIc5VNZm3h3k5Y0FCCO5ICGYLqAODUeCN789g474zEAKI8XfF5uQERPu7Wbs0IiIzBhSyG0IIpOTXYMexQnyV2bkFdNVIbyycFIIbxgUM6/ZFmboFyz9Mw8+51QCAuyeH4ulbYuGkkFm5MiKizhhQyC41afXmWUBHzlaZW0AuChlumhCIpMRQTB7hOaxaQAdPV2DlR+moatTCRSHD2jvGY/7EYGuXRUTUIwYUsnuFNU3YnVqEnamFyO/QAgr3NrWAFiSGINjDyYoVDiy9wYgNe09jy4GzAIAxge7YnByPkb6uVq6MiOjCGFBo2BBC4Oi5GuxMKcBXx0vQqDUAACQSYGqkN5ISQ3BDbKBdtTuKa5uxbHsajuXXAAB+d2UYnrxpLBwd7Oc9EpF9YkChYalJq8d/f2tvAbVxVcpx0/hALJwUgsTwod0C2neqDCs/zkBtkw6uSjleXDAeN08IsnZZRES9woBCw15BdRM+SS3CztQCFFQ3m7eP8HZGUmIIbk8YWi0gncGIl/dk451DuQCA8cEqbEqOR7i3i5UrIyLqPQYUolZGo8DRc9XYmWKaBdTUoQV0daQPFk4KwZyxATbdAiqsacKSbWlIL6gFANw3dQRWzxsNpdx2ayYi6gkDClEPGjV6fPNbKXamFJin5AKAm1KOm+NM9wJKCLOtFtCerFI8tiMD6hY93B3leCkpDjeMC7B2WUREl4UBhegSCqqbsKt1IbjCmvYWUISPC5ISTQvBBaqs1wLS6A148ZtTeO/HcwCAuFAPbFoUz8XpiGhI68vPb+lAF7Nu3TpIJBKsWLHCvE0IgWeeeQZBQUFwcnLCjBkzkJWVNdClEJmFejljxXUxOPTYTGy//0osSAiBk4MMeZWNeHlPNqa+uA/3/PMXfJZehBadYVBrO1/VhKS3fjKHk/uvicCOB65iOCGiYWVAl988evQo3nnnHUyYMKHT9pdeegkbNmzA+++/j5iYGDz//PO4/vrrkZ2dDTc3Ls1Ng0cqleCqSG9cFemNNfNj8U1mCXamFOKXvGr8cKYSP5ypbG0BBbW2gDwGtAX0dWYJVu08jnqNHh7ODnglKQ7XjfUfsNcjIrJVA9biaWhoQEJCArZs2YLnn38eEydOxOuvvw4hBIKCgrBixQqsWrUKAKDRaODv74/169fjgQceuOSx2eKhgZZf1YhdqUXYlVKIotr2FtBI39YWUHwIAlSOFnu9Fp0BL3x1Ev/+OR8AkBjuiY2L4hE0hGYaERFdik2MQbn33nvh5eWF1157DTNmzDAHlNzcXERGRiI1NRXx8fHm/efPnw8PDw988MEH3Y6l0Wig0WjMX6vVaoSGhjKg0IAzGgV+zqvCzpRCfJNZiubWdo9UAkyL9kVSYgjmjPXv1yJpeZWNeGhrKk6UqAEAf5sRiZXXx8BBNuAdWCKiQdWXgDIgLZ4PP/wQqampOHr0aLfHSktLAQD+/p0vW/v7+yM/P7/H461btw5r1qyxfKFElyCVSjA10gdTI33w7Hw9vj5uagH9eq4ah05X4NDpCrg5ynFrawtoYmjfWkCfpRfh759kolFrgJeLAhvujMOMUX4D+I6IiIYGiweUgoICLF++HN9++y0cHS98CbzrP+JCiAv+w7569WqsXLnS/HXbFRSiweSqlOPOyaG4c3IozlU24pPUQuxKLUJRbTO2/nIeW385j0hfFyQlhuKOhGD4u1/489+iM2DNF1nY/msBAOCKCC+8eXe8RdtGRERDmcVbPJ9++iluv/12yGTtl7wNBgMkEgmkUimys7MRFRXVpxZPVxyDQrbCaBT4Kbe1BfRbCVp0RgCmFtA10b5YOCkE143p3ALKKa/HQ1vTkF1WD4kEWDozCstmR0POlg4R2Tmrtnhmz56NzMzMTtv+8Ic/YPTo0Vi1ahVGjhyJgIAA7N271xxQtFotDh48iPXr11u6HKIBJZVKcHWUD66O8sGz82PxdessoKPnanDwdAUOnq6Au6Mct04MQlJiKM6WN+DJT39Ds84AH1clXr9rIqZF+1j7bRAR2RyLBxQ3NzeMGzeu0zYXFxd4e3ubt69YsQJr165FdHQ0oqOjsXbtWjg7OyM5OdnS5RANGjdHB9w1OQx3TQ5DXmUjdqUUYldqIUrqWvCfn8/jPz+fN+8b7eeKrfdPgZ8bWzpERD0Z0HVQLuTxxx9Hc3MzHnzwQdTU1GDKlCn49ttvuQYK2Y0IHxc8OncUHr4+Bu8fOYfnvjzR6fEz5Q1YtfM4khJDcd1YP95Xh4ioCy51TzRAhBD4+FgBnv48Cy06I5wVMswZ64+Cmmak5NeY91M5OWD+RNMsoPHBKpu6FxARkSXZxDooA4kBhWxdg0aPJ3dn4tP0YgDANdE+eO2uifBxVQIAcisasCu1EJ+kFqGkrsX8vBh/VyQlhuC2+GC2f4jI7jCgEFnRiWI1lmxLRW5lI2RSCR6ZE4O/XhsJqbT7lRGDUeDI2UrsTCnEf38rhUZvmgUkk0owPcYXCxNDMGsMW0BEZB8YUIisQAiBrb+cx7NfnoBWb0SgyhFvLorH5BFevXp+XbMOXx0vwc6UAqSerzVv93B2wPw40yygccHubAER0ZDFgEI0yNQtOqz+JBNfHS8BAMwa7YdXF8bB00VxWcc7W9GAnSmF+CS1EGXq9ts8jPJ3M7eAfN2UFqmdiGiwMKAQDaLMwjos2Z6K/KomyKUSrLphNP40LaLHlk5fGYwCh3NMLaA9WaXQdmgBzRxluhfQrNH+UMi5yBsR2T4GFKJBIITAB0fOYe3Xp6A1GBHs4YSNyfFICPMckNera9bhy+PF2HGsEOkFtebtns4OmD8xGEmJIYgNYguIiGwXAwrRAKtr0uHxXRnYk1UGAJgz1h8vJ8VB5ewwKK+fU16PnSlF+CS1EOX17S2g0QHtLaC2GUNERLaCAYVoAKUX1GLJtlQU1jTDQSbB3+eNwX1TR1jlyoXeYDS3gL49UWZuAcmlEswY5YeFk0Iwc5QfW0BEZBMYUIgGgBAC/zychxe/OQW9USDMyxmbkuMxIcTD2qUBMF3V+fx4MXamFCKjQwvIy0VhXgguNkhlvQKJaNhjQCGysJpGLR7dkYHvT5UDAOaND8CLCybA3XFwWjp9daasHjtbF4Kr6NACGhPobmoBTQyCN1tARDTIGFCILCglvxpLt6WhuK4FCrkUT908Fr+bEjYkBqPqDUb8cMbUAtp7ogxaQ3sLaNZoPyQlhmDmaD84yNgCIqKBx4BCZAFGo8Dbh3LxyrfZMBgFInxcsCk5fsi2SWqbtPgioxg7UgpxvLDOvN3bRYH5E4OxcFIIxgTy+4mIBg4DClE/VTVosPLjDBw8XQEAuDUuCGvvGA9XpVVuAG5x2aX15nsBVTa0t4Big0wtoPkTg+F1mYvMERFdCAMKUT/8kluFZR+moUytgVIuxZpbY3HX5NAh0dLpK73BiENnKswtIJ3B9M+Bg6ytBRSKGaN82QIiIotgQCG6DAajwJb9OXjtu9MwCiDS1wWbFydgdMDw+IzVNGrxeYZpFlBmUXsLyMdVgdsmBiNpUsiwORdENDAYUIj6qKJeg4c/SsfhnEoAwB0JwXhu/ji42ElLp69OlaqxK6UQu9OKUNmgNW8fF+yOpIQQ3MoWEBFdBgYUoj74MacSyz9MR2WDBk4OMjx32zgkJYZYuyyboDMYcTDb1AL6/lTnFtB1Y/yRlBiC6TG+kLMFRES9wIBC1AsGo8Ab35/Bxn1nIAQQ4++KzckJiPZ3s3ZpNqm6UYvP04uwM7UQvxWpzdt9XJW4PT4ISYmhGBXAc0dEF8aAQnQJZeoWLP8wDT/nVgMA7p4ciqdviYWTQmblyoaGkyVq7EwpxKdpRahqbG8BTQhRISkxBLfGBcHDmS0gIuqMAYXoIg6ersDKj9JR1aiFi0KGtXeMx/yJwdYua0jSGYw4kF2BnSkF+P5kOfRG0z8nCpkU1401LQR3bTRbQERkwoBC1AO9wYgNe09jy4GzAEzLvm9OjsdIX1crV2Yfqho0+CzdNAvoREl7C8jXTYk74oOxIDEEMWyfEQ1rDChEXZTUNWPZ9jQcPVcDAFg8JQxP3TwWjg5s6QyErOI67EopwqfpRaju0AKKa20B3cIWENGwxIBC1MG+U2V45OMM1DTp4KqU48UF43HzhCBrlzUsaPVG7M8ux86UQuw/1bkFdH2saRbQNVE+bAERDRMMKEQwjY94eU823jmUCwAYH6zCpuR4hHu7WLmy4amytQW041gBTpXWm7f7uSlxe0IwFiaGIMqPLSAie8aAQsNeYU0TlmxLQ3pBLQDgvqkjsHreaCjlbOnYgqziOuw4VojP0otQ06Qzb48L9cDCxBDcMiEIKmcHK1ZIRAOBAYWGtT1ZpXhsRwbULXq4O8rxUlIcbhgXYO2yqAdavRH7TrW2gLLLYWhrAcmlmDO2tQUU7QuZ1P7ug0Q0HDGg0LCk1Rux7puTeO/HcwBMv41vWhSPUC9n6xZGvVJRr8Fn6UXYcawQ2WXtLSB/dyVujw9BUmIIovw444poKGNAoWHnfFUTlmxPxfFC003u7r8mAo/NHQ2FnIMvhxohBLKKWxeCSy9CbYcWUHyYB5ISQ3DzhCConNgCIhpqGFBoWPk6swSrdh5HvUYPD2cHvJIUh+vG+lu7LLIAjd6A/afKseNYIQ6crjC3gJRyKebGBiApMQRXR/mwBUQ0RDCg0LDQojPgha9O4t8/5wMAEsM98eaieAR7OFm5MhoI5fUt+CytGDtSCnC6rMG8PcDdEXckmBaCi+Sie0Q2jQGF7F5eZSMe2ppqXrH0bzMisfL6GDhwPQ27J4TAb0Vq7EwpwGcZxZ1aQAlhHkhKDMXNcYFwd2QLiMjWMKCQXfssvQh//yQTjVoDvFwU2HBnHGaM8rN2WWQFGr0B3580zQI6kF2O1g4QlHIpbhhnagFNjWQLiMhWMKCQXWrRGbDmiyxs/7UAAHBFhBfevDseASpHK1dGtqBc3YJPW2cBnSlvbwEFqkwtoKTEUET4cJE+ImtiQCG7k1PegIe2piK7rB4SCbBkZhSWz47mEunUjRACxwvrsDPFtBCcukVvfmxSuCeSEkNw04RAuLEFRDToGFDIruxKKcSTn/6GZp0BPq5KvH7XREyL9rF2WTQEtOhMLaAdKQU4dLrC3AJydJDihtgAJCWGYmqkN6RsARENCgYUsgtNWj3+97Ms7EwpBABMjfTG63dPhJ8bWzrUd2XqFuxOK8LOlELkdGgBBakcsSAxBAsSQjCCLSCiAcWAQkPe6bJ6PLQ1FWfKGyCVAMtnx2DJrCgOdqR+E0Igo7AOO1MK8Hl6cacW0OQRbS2gILgq5Vasksg+MaDQkCWEwMfHCvD051lo0Rnh56bEG3fH46pIb2uXRnaoRWfA3hNl2JlSiB/OtLeAnBxkuLF1FtCVI9kCIrIUBhQakho0ejy5OxOfphcDAK6J9sFrd02Ej6vSypXRcFBaZ2oB7UgpQG5Fo3l7sIcTFrQuBBfuzRYQUX8woNCQc6JYjSXbUpFb2QiZVIJH5sTgr9dG8jdXGnRCCKQV1GJnSiG+yChGfYcW0BURXkhKDMG88YFsARFdBgYUGjKEENj6y3k8++UJaPVGBKoc8eaieEwe4WXt0ojQojPg2w4tINGxBTS+tQUUwRYQUW8xoNCQUN+iwxOfZOKr4yUAgFmj/fDKwjh4uSisXBlRdyV1zfgktQi7UgqRW9neAgrxdMKCBNMsoDBvZytWSGT7GFDI5mUW1mHJ9lTkVzVBLpXg8RtG4c/TRvI3UbJ5Qgiknje1gL7MKEa9pr0FNKVDC8iFLSCibhhQyGYJIfDBkXNY+/UpaA1GBHs4YWNyPBLCPK1dGlGfNWsN+PZEKXamFOJwTqW5BeSskGHe+EAkJYbgihFeDN5ErRhQyCbVNenw+K4M7MkqAwDMGeuPl5PioHLmkuM09BXXNpsXgsvr0AIK9WpvAYV6sQVEwxsDCtmc9IJaLNmWisKaZjjIJPj7vDG4b+oISCT8zZLsi6kFVIMdxwrx5fESNHRoAV010htJiSG4cXwAnBVsAdHww4BCNkMIgX8ezsOL35yC3igQ5uWMTcnxmBDiYe3SiAZcs9aAPVmmFtCPZ9tbQC4dW0ARXgzqNGwwoJBNqG3S4tEdGfjuZDkAYN74ALy4YALceRdZGoaKapvxSUohdqYWIr+qybw9zMsZSYkhuCMhGCGebAGRfevLz2+L36t+3bp1mDx5Mtzc3ODn54fbbrsN2dnZnfYRQuCZZ55BUFAQnJycMGPGDGRlZVm6FLKilPxqzHvjB3x3shwKuRTP3TYOm5MTGE5o2Ar2cMLS2dE48OgM7PjrVbhrUihcFDKcr27Chr2nMW39fiT/38/4JLUQTVr9pQ9IZOcsfgXlhhtuwN13343JkydDr9fjf/7nf5CZmYkTJ07AxcW0TPT69evxwgsv4P3330dMTAyef/55HDp0CNnZ2XBzc7vka/AKiu0yGgXePpSLV77NhsEoEOHjgk3J8YgNUlm7NCKb06TVY09WKXYcK8SRs1Xm7S4KGW6aEIiFk0IxKdyTLSCyGzbV4qmoqICfnx8OHjyIa6+9FkIIBAUFYcWKFVi1ahUAQKPRwN/fH+vXr8cDDzxwyWMyoNimqgYNHtmRgQPZFQCAW+OCsPaO8VwSnKgXCmua8EmqaRbQ+er2FlC4tzOSEkJwR2IIgj2crFghUf/ZVEDJyclBdHQ0MjMzMW7cOOTm5iIyMhKpqamIj4837zd//nx4eHjggw8+6HYMjUYDjUZj/lqtViM0NJQBxYb8kluFZR+moUytgVIuxZpbY3HX5FD+5kfUR0IIHD1Xgx3HCvBVZgmatAYAgEQCXB3pg6TEEMyNDYCTQmblSon6ri8BZUB/tRVCYOXKlZg2bRrGjRsHACgtLQUA+Pv7d9rX398f+fn5PR5n3bp1WLNmzUCWSpfJYBTYsj8Hr313GkYBRPq6YPPiBIwOYHAkuhwSiQRXRHjhiggvPHNrLP77m2kW0E+5VTicU4nDOZVwVcpx8wTTLKBEtoDITg1oQFmyZAmOHz+Ow4cPd3us6zeUEOKC32SrV6/GypUrzV+3XUEh66qo1+Dhj9JxOKcSAHBHQjCemz+OS3wTWYiLUo4FiSFYkBiCgurWFlBqAQqqm/Hh0QJ8eLQAET4uSEoMwe3xwQhiC4jsyID9JFm6dCk+//xzHDp0CCEhIebtAQEBAExXUgIDA83by8vLu11VaaNUKqFUKgeqVLoMR3IqsezDdFQ2aODkIMOz82OxcBJDI9FACfVyxvLrorF0VhR+PVeNnSmF+DqzBHmVjXh5TzZe+TYb06JMLaA5Y9kCoqHP4gFFCIGlS5di9+7dOHDgACIiIjo9HhERgYCAAOzdu9c8BkWr1eLgwYNYv369pcshCzMYBd74/gw27jsDIYAYf1dsTk5AtP+lZ18RUf9JpRJcOdIbV470xppbY/HNb6XYcawAv+RV44czlfjhTCXclHLcHBeIpMRQJIR5sAVEQ5LFB8k++OCD2LZtGz777DOMGjXKvF2lUsHJyXT5cf369Vi3bh3ee+89REdHY+3atThw4ACnGdu4MnULln+Yhp9zqwEAd00KxTO3xvI3NSIbcL6qCbtSC7ErtRCFNc3m7SN9XLCgdSG4QBVbQGRdVp3Fc6Gk/t577+G+++4DYLrKsmbNGrz99tuoqanBlClTsHnzZvNA2kthQBl8h05X4OGP0lHVqIWzQoa1t4/HbfHB1i6LiLowGgV+yavGjpQCfJNZimZd+yygthbQ3NgAODrwFwsafDY1zXggMKAMHr3BiA17T2PLgbMAgDGB7ticHI+Rvq5WroyILqVBo8fXmSXYmVKIX/OqzdvdHOW4JS4ISYkhiA9lC4gGDwMKWURJXTOWbU/D0XM1AIDFU8Lw1M1j+ZsX0RCUX9WIXalF2JVSiKLaDi0gX9MsoDviQxCgcrRihTQcMKBQv+07VYZHPs5ATZMOrko5XlwwHjdPCLJ2WUTUT0ajwM+5VaZZQL+VoEVnBABIJcA10b5ISgzB9WP9+YsIDQgGFLpsOoMRL+/JxjuHcgEA44LdsTk5AeHeLlaujIgsrb5Fh28yTQvB/XquvQXk3qEFNJEtILIgBhS6LIU1TVi6PQ1p52sBAPdNHYHV80ZDKedvUkT27lxlo2kWUEohiutazNuj/FzNC8H5u7MFRP3DgEJ99m1WKR7dkQF1ix5ujnK8nDQBN4wLvPQTiciuGI0CP7W2gL7p0gK6NsbUArpuDFtAdHkYUKjXtHoj1n1zEu/9eA4AEBfqgU2L4hHq5WzdwojI6upbdPjquGkW0LH8GvN2lZMDbm1tAU0IUbEFRL3GgEK9cr6qCUu2p+J4YR0A4P5rIvDY3NFQyKVWroyIbE1eZSN2pZgWgivp0AKK7tAC8mMLiC6BAYUu6evMEqzaeRz1Gj08nB3wSlIcrhvb872QiIjaGIwCR85WYmdKIf77Wyk0elMLSCaVYHprC2j2GD+OXaMeMaDQBbXoDHjhq5P498/5AIDEcE+8uSgewbwLKhH1kbpDCyilSwto/kRTC2h8MFtA1I4BhXqUV9mIh7am4kSJGgDw1+mReGRODBxkbOkQUf+crWjArpRCfJJahFJ1ewtolL8bkhJDMD8+CH5ubAENdwwo1M1n6UX4+yeZaNQa4OWiwIY74zBjlJ+1yyIiO2MwCvyYY2oB7cnq3AKa0doCmsUW0LDFgEJmLToD1nyRhe2/FgAArojwwpt3x3NJayIacHXNOnx5vBg7UwrN6ysBgIezA26bGIykxBDEBrmzBTSMMKAQACCnvAFLtqXiVGk9JBJgycwoLJ8dDTlbOkQ0yHLKG7ArtRCfpBaiTK0xbx8d0NoCmhgMXzelFSukwcCAQtiVUognP/0NzToDfFyVeP2uiZgW7WPtsohomDMYBQ7nVGLHsQJ8e6IM2tYWkFwqwYxRfqYW0Gg/LndgpxhQhrEmrR7/+1kWdqYUAgCmRnrj9bsncnAaEdmcuiYdvmhtAaUX1Jq3ezo7YH5rC2hcsMp6BZLFMaAMU6fL6vHQ1lScKW+AVAIsnx2DJbOiIJOyv0tEti2nvB47UgqxO7UI5fXtLaAxge6tLaAg+LiyBTTUMaAMM0IIfHysAE9/noUWnRF+bkq8cXc8ror0tnZpRER9ojcY8UPrLKC9WWXQGtpbQDNHm1pAM0exBTRUMaAMIw0aPZ7cnYlP04sBANdE++C1uybyNw0iGvJqm7T4onUhuIwOLSAvF4V5FtDYoOH9M2CoYUAZJk4Uq7FkWypyKxshk0rwyJwY/PXaSEjZ0iEiO3O6rN60EFxaESo6tIDGdmgBefMXM5vHgGLnhBDY9ut5rPniBLR6IwJVjnhzUTwmj/CydmlERANKbzDihzOV2JFSgO9OlHdqAc0a7YeFk0IxY5QvV8i2UQwodqy+RYcnPsnEV8dLAACzRvvhlYVx8HJRWLkyIqLBVdOoNc8CarsrOwB4uyhwW7ypBTQmcHj9jLB1DCh2KrOwDku2pyK/qglyqQSP3zAKf542ki0dIhr2skvrWxeCK0JlQ3sLKDbI3bwQHH+Rsz4GFDsjhMAHR85h7denoDUYEezhhI3J8UgI87R2aURENkVnMOLQ6QrsTCnEdyfLoDOYfsQ5yCSYPdofSYkhmM4WkNUwoNiRumYdVu08jv9mlQIArh/rj1eS4qBydrByZUREtq2mUYvPM0wtoMyi9haQj2vrLKBJIRgdYN8/Q2wNA4qdSC+oxZJtqSisaYaDTILVN47BH64ewRtrERH10ckSNXalFOLT9CJUNmjN28cHq5CUGIJb44LgyRbQgGNAGeKEEPjn4Ty8+M0p6I0CYV7O2JQcjwkhHtYujYhoSNMZjDiYbWoBfX+qcwvoujH+WDgpBNdG+/KmqgOEAWUIq23S4tEdGfjuZDkAYN74ALy4YALcHdnSISKypOpGLT5LL8LOlEJkFavN231clbgjwTQLKMbfzYoV2h8GlCEqJb8aS7elobiuBQq5FE/dPBa/mxLGlg4R0QA7UazGrtRCfJpWhKrG9hbQhJD2FpCHM1tA/cWAMsQYjQJvH8rFK99mw2AUiPBxwabkeMQG8S6eRESDSWcwYv+pcuxMKcS+U+XQG00/IhUyKa4fa5oFdE20D1tAl4kBZQipatDgkR0ZOJBdAQC4NS4Ia+8YD1el3MqVERENb1UNGnyWXowdKYU4WdLeAvJ1U+KO1oXgotkC6hMGlCHil9wqLPswDWVqDZRyKZ65NRZ3Tw5lS4eIyMZkFddhZ0ohPksvRnWHFlBcqIepBTQhiMs/9AIDio0zGAW27M/Ba9+dhlEAkb4u2Lw4gfPxiYhsnFZvxP5sUwtof8cWkLxDCyiKLaALYUCxYRX1Gjz8UToO51QCAO5ICMZz88fBhS0dIqIhpbJBg0/TTLOATpXWm7f7uytxe3wIkhKDEeXHFlBHDCg26khOJZZ/lI6Keg2cHGR4dn4sFk4KtXZZRETUD0IIZBWrW1tARahp0pkfm9jaArqFLSAADCg2x2AUeOP7M9i47wyEAGL8XbE5OYGDq4iI7IxWb8S+U2WmFlB2BQwdWkBzxvpj4aRQTIvygWyY3uSVAcWGlKlbsPzDNPycWw0AuGtSKJ65NRZOCpmVKyMiooFUUa/BZ+lF2HGsENllnVtAdySEICkxBJG+rlascPAxoNiIQ6cr8PBH6ahq1MJZIcPa28fjtvhga5dFRESDqK0FtONYAT7LKEZthxZQQpgHkhJDcdOEQKic7L8FxIBiZXqDERv2nsaWA2cBAGMC3bE5OR4jh1lSJiKizjR6A/adNM0COnC6vQWklEsxNzYASYkhuNqOW0AMKFZUUteMZdvTcPRcDQBg8ZQwPHXzWDg6sKVDRETtyutbzLOATpc1mLcHqhxxR0IwFiSE2N0vtgwoVrL/VDlWfpyOmiYdXJVyvLhgPG6eEGTtsoiIyIYJIZBZ1L4QXF1zewsoMdwTSYkhuGlCoF3cNJYBZZDpDEa8sicbbx/KBQCMC3bH5uQEhHu7WLkyIiIaSjR6A75vawFll6O1AwSlXIobxgVgYWIoror0HrItIAaUQVRY04Sl29OQdr4WAHDf1BFYPW80lHK2dIiI6PKVq1uwO60IO1IKkVPe3gIKUjnijoQQLEgMQYTP0PpFmAFlkHybVYpHd2RA3aKHm6McLydNwA3jAq1WDxER2R8hBI4X1mFHSgE+Ty+GukVvfmxSuCcWTgrBvPGBcBsCLSAGlAGm1Rux7puTeO/HcwBMN4vatCgeoV7Og14LERENHy06A747aVoI7tDpCnMLyNFBihvHBSIpMQRXjfSG1EZbQAwoA+h8VROWbE/F8cI6AMCfp0Xg8RtGQyHnjaGIiGjwlLW1gI4V4GxFo3l7sIcTFiQEY0FiiM2NhWRAGSBfZ5Zg1c7jqNfooXJywKsL43DdWP9Be30iIqKuhBBIL6jFzpRCfJ5RjPoOLaArRnghKTEE8yYEwtUGbkrLgNIPn6YVYdWu45BKJJBJJZBIAL1BoFln6LZviKcTZFIJpBIJpBJ0eI4EMilat5seM2+XSCDt5WNtry9r21fa9XVaH5N2Ppb5cQAS27zKR/0wFL5jbb1EWz+HYhDP4GCei0E97YP4xgbzfV3qbbW1gM5VNfX4eGK4J6ZEeEHaix8Oni4K/GlaxOWUeUF9+flt/ThlQ+pbdFjxUXqv9y+saR64YoiIiCwsJb8GKfk1vdp3pK+LxQNKX1g1oGzZsgUvv/wySkpKEBsbi9dffx3XXHON1epxc3TAY3NH4eU92VargWg46HblUALzlUBZhyuFHa8WXuyqYvux0G27VNL9MVnHY5mvQHY+lrWvPg7myw/me5UM4jsb3Pc1iK/VxzfW1gLKaB072ZWrUo4bxwXApUsLyNtFcdk1WoLVWjwfffQR7rnnHmzZsgVXX3013n77bbz77rs4ceIEwsLCLvrcgR6D0qIzYM0XWdj+awEA4IoIL7x5dzwCVI4Wf63+MBoFjELAIASEAAytXxuNMG/v9LXRtF/7cwQMXR5rf46AsfWYwnys9te82GMXO5ZR9O112upr/9P5sQu9vlG0P89czyVev8fX6HD+ur9+12N1PLfW/nRQf5lDkaSHgNRDqJF2aNG2PadTQOpDa/dyAlqPx249bs9B8AL1dHn93tR24dfvfiyZpIfHpD3UJ5FAcoHzKZX0/Yc0mbToDNiTVYqdKYU4nFNp/rfKWSEzzwKaEuE1YLOAhsQYlClTpiAhIQFvvfWWeduYMWNw2223Yd26dRd97kAFlEaNHqs/ycTnGcUWOyYREdFQdPR/roOvm9Kix+zLz2+rzI3VarVISUnBnDlzOm2fM2cOjhw50m1/jUYDtVrd6c9A+P5UOcMJERERgMkvfGfV17dKQKmsrITBYIC/f+cpuv7+/igtLe22/7p166BSqcx/QkNDB6SukUNsyWAiIiJ7ZdVBsl17iEKIHvuKq1evxsqVK81fq9XqAQkp44JVOPfiTRY/LhEREfWNVQKKj48PZDJZt6sl5eXl3a6qAIBSqYRSadk+GBEREdkuq7R4FAoFEhMTsXfv3k7b9+7di6lTp1qjJCIiIrIhVmvxrFy5Evfccw8mTZqEq666Cu+88w7Onz+Pv/71r9YqiYiIiGyE1QLKXXfdhaqqKjz77LMoKSnBuHHj8PXXXyM8PNxaJREREZGN4L14iIiIaFDY/DooRERERBfDgEJEREQ2hwGFiIiIbA4DChEREdkcBhQiIiKyOQwoREREZHMYUIiIiMjmMKAQERGRzWFAISIiIptjtaXu+6Nt8Vu1Wm3lSoiIiKi32n5u92YR+yEZUOrr6wEAoaGhVq6EiIiI+qq+vh4qleqi+wzJe/EYjUYUFxfDzc0NEonE2uXYFLVajdDQUBQUFPA+RZeJ57B/eP76j+ewf3j++m+gzqEQAvX19QgKCoJUevFRJkPyCopUKkVISIi1y7Bp7u7u/MbsJ57D/uH56z+ew/7h+eu/gTiHl7py0oaDZImIiMjmMKAQERGRzWFAsTNKpRJPP/00lEqltUsZsngO+4fnr/94DvuH56//bOEcDslBskRERGTfeAWFiIiIbA4DChEREdkcBhQiIiKyOQwoREREZHMYUGzMunXrMHnyZLi5ucHPzw+33XYbsrOzO+0jhMAzzzyDoKAgODk5YcaMGcjKyjI/Xl1djaVLl2LUqFFwdnZGWFgYli1bhrq6uk7HGTFiBCQSSac/TzzxxKC8z4FkiXMIAA888AAiIyPh5OQEX19fzJ8/H6dOneq0T01NDe655x6oVCqoVCrcc889qK2tHei3OKAG8/zxM3jxc9hx3xtvvBESiQSffvppp8fs8TMIDO45tMfPoaXO34wZM7qdm7vvvrvTPgP2GRRkU+bOnSvee+898dtvv4n09HRx0003ibCwMNHQ0GDe58UXXxRubm5i165dIjMzU9x1110iMDBQqNVqIYQQmZmZ4o477hCff/65yMnJEd9//72Ijo4WCxYs6PRa4eHh4tlnnxUlJSXmP/X19YP6fgeCJc6hEEK8/fbb4uDBgyIvL0+kpKSIW265RYSGhgq9Xm/e54YbbhDjxo0TR44cEUeOHBHjxo0TN99886C+X0sbzPPHz+DFz2GbDRs2iBtvvFEAELt37+70mD1+BoUY3HNoj59DS52/6dOni/vvv7/Tuamtre30WgP1GWRAsXHl5eUCgDh48KAQQgij0SgCAgLEiy++aN6npaVFqFQq8Y9//OOCx/n444+FQqEQOp3OvC08PFy89tprA1a7rbDUOczIyBAARE5OjhBCiBMnTggA4ueffzbv89NPPwkA4tSpUwP0bgbfQJ0/IfgZ7M05TE9PFyEhIaKkpKTbD9fh8hkUYuDOoRDD43N4uedv+vTpYvny5Rc87kB+BtnisXFtbRkvLy8AQF5eHkpLSzFnzhzzPkqlEtOnT8eRI0cuehx3d3fI5Z1vv7R+/Xp4e3tj4sSJeOGFF6DVagfgXViXJc5hY2Mj3nvvPURERJjvov3TTz9BpVJhypQp5v2uvPJKqFSqi/6/GGoG6vy14WfQpKdz2NTUhEWLFmHTpk0ICAjodtzh8hkEBu4ctrH3z2F/vo+3bt0KHx8fxMbG4tFHH0V9fb35sYH8DA7JmwUOF0IIrFy5EtOmTcO4ceMAAKWlpQAAf3//Tvv6+/sjPz+/x+NUVVXhueeewwMPPNBp+/Lly5GQkABPT0/8+uuvWL16NfLy8vDuu+8OwLuxjv6ewy1btuDxxx9HY2MjRo8ejb1790KhUJiP4+fn1+01/fz8zK8x1A3k+QP4GbzUOXz44YcxdepUzJ8/v8djD4fPIDCw5xCw/89hf87f4sWLERERgYCAAPz2229YvXo1MjIysHfvXvNxBuozyIBiw5YsWYLjx4/j8OHD3R6TSCSdvhZCdNsGmG6ZfdNNN2Hs2LF4+umnOz328MMPm/8+YcIEeHp6IikpyfybhD3o7zlcvHgxrr/+epSUlOCVV17BnXfeiR9//BGOjo49HuNCxxmqBvr88TN44XP4+eefY9++fUhLS7vo8e39MwgM/Dm0989hf76P77//fvPfx40bh+joaEyaNAmpqalISEjo8Rg9HedysMVjo5YuXYrPP/8c+/fvR0hIiHl72yXKrsm0vLy8WxKur6/HDTfcAFdXV+zevRsODg4Xfc0rr7wSAJCTk2OJt2B1ljiHKpUK0dHRuPbaa7Fz506cOnUKu3fvNh+nrKys2+tWVFR0O85QNNDnryf8DLafw3379uHs2bPw8PCAXC43t2cXLFiAGTNmmI9jz59BYODPYU/s6XNoie/jjhISEuDg4IAzZ86YjzNgn8F+jWAhizMajeKhhx4SQUFB4vTp0z0+HhAQINavX2/eptFoug1sqqurE1deeaWYPn26aGxs7NVrf/HFFwKAyM/P7/8bsSJLncOuNBqNcHJyEu+9954Qon1w2C+//GLe5+effx7yAxQH6/z1hJ/B9nNYUlIiMjMzO/0BIN544w2Rm5srhLDfz6AQg3cOe2IPn8OB+j5uO4dtg20H8jPIgGJj/va3vwmVSiUOHDjQaVpXU1OTeZ8XX3xRqFQq8cknn4jMzEyxaNGiTlPD1Gq1mDJlihg/frzIycnpdJy2KZ5HjhwRGzZsEGlpaSI3N1d89NFHIigoSNx6661Wed+WZIlzePbsWbF27Vpx7NgxkZ+fL44cOSLmz58vvLy8RFlZmfk4N9xwg5gwYYL46aefxE8//STGjx8/5Kd4Dtb542fw4uewJ7jANGN7+wwKMXjn0F4/h5Y4fzk5OWLNmjXi6NGjIi8vT3z11Vdi9OjRIj4+vttyCwPxGWRAsTEAevzT8bdOo9Eonn76aREQECCUSqW49tprRWZmpvnx/fv3X/A4eXl5QgghUlJSxJQpU4RKpRKOjo5i1KhR4umnn+711RZbZolzWFRUJG688Ubh5+cnHBwcREhIiEhOTu72G0FVVZVYvHixcHNzE25ubmLx4sWipqZmkN7pwBis88fP4MXP4YWO2zWg2ONnUIjBO4f2+jm0xPk7f/68uPbaa4WXl5dQKBQiMjJSLFu2TFRVVXV6rYH6DEpa3wgRERGRzeAgWSIiIrI5DChERERkcxhQiIiIyOYwoBAREZHNYUAhIiIim8OAQkRERDaHAYWIiIhsDgMKERER2RwGFCKySffddx9uu+22fh3jwIEDkEgkqK2ttUhNRDR45NYugIioJ2+88Qa40DXR8MWAQkQ2xWAwQCKRQKVSWbsUIrIitniIqF9mzJiBJUuWYMmSJfDw8IC3tzeefPJJ89UPrVaLxx9/HMHBwXBxccGUKVNw4MAB8/Pff/99eHh44Msvv8TYsWOhVCqRn5/frcWj0WiwbNky+Pn5wdHREdOmTcPRo0c71fL1118jJiYGTk5OmDlzJs6dOzcIZ4CIBgIDChH12wcffAC5XI5ffvkFb775Jl577TW8++67AIA//OEP+PHHH/Hhhx/i+PHjWLhwIW644QacOXPG/PympiasW7cO7777LrKysuDn59ftNR5//HHs2rULH3zwAVJTUxEVFYW5c+eiuroaAFBQUIA77rgD8+bNQ3p6Ov785z/jiSeeGJwTQESW1+/7IRPRsDZ9+nQxZswYYTQazdtWrVolxowZI3JycoREIhFFRUWdnjN79myxevVqIYQQ7733ngAg0tPTO+1z7733ivnz5wshhGhoaBAODg5i69at5se1Wq0ICgoSL730khBCiNWrV/dYBwCL3PqdiAYXx6AQUb9deeWVkEgk5q+vuuoqvPrqqzh27BiEEIiJiem0v0ajgbe3t/lrhUKBCRMmXPD4Z8+ehU6nw9VXX23e5uDggCuuuAInT54EAJw8ebLHOohoaGJAIaIBJZPJkJKSAplM1mm7q6ur+e9OTk6dgkVXonU8S9d9hBDmbYIzfojsCsegEFG//fzzz92+jo6ORnx8PAwGA8rLyxEVFdXpT0BAQK+PHxUVBYVCgcOHD5u36XQ6HDt2DGPGjAEAjB07tsc6iGhoYkAhon4rKCjAypUrkZ2dje3bt2Pjxo1Yvnw5YmJisHjxYvz+97/HJ598gry8PBw9ehTr16/H119/3evju7i44G9/+xsee+wx/Pe//8WJEydw//33o6mpCX/6058AAH/9619x9uxZcx3btm3D+++/P0DvmIgGGls8RNRvv//979Hc3IwrrrgCMpkMS5cuxV/+8hcAwHvvvYfnn38ejzzyCIqKiuDt7Y2rrroK8+bN69NrvPjiizAajbjnnntQX1+PSZMmYc+ePfD09AQAhIWFYdeuXXj44YexZcsWXHHFFVi7di3++Mc/Wvz9EtHAkwg2bomoH2bMmIGJEyfi9ddft3YpRGRH2OIhIiIim8OAQkRERDaHLR4iIiKyObyCQkRERDaHAYWIiIhsDgMKERER2RwGFCIiIrI5DChERERkcxhQiIiIyOYwoBAREZHNYUAhIiIim/P/AYeCpyYWYTFVAAAAAElFTkSuQmCC",
      "text/plain": [
       "<Figure size 640x480 with 1 Axes>"
      ]
     },
     "metadata": {},
     "output_type": "display_data"
    }
   ],
>>>>>>> clean_version
   "source": [
    "test = elec_obj.get_all_results().copy().reset_index()\n",
    "test = test[test[\"impact_method\"] = impact_method]\n",
    "\n",
    "fig = elec_obj.get_all_results().copy().reset_index().plot.line(x=\"period\", y=\"value\")\n",
    "fig"
   ]
  },
  {
   "cell_type": "code",
   "execution_count": null,
   "id": "cca2c766-48c2-40d1-8c7e-10c2cb38c9bd",
   "metadata": {},
   "outputs": [],
   "source": []
  }
 ],
 "metadata": {
  "kernelspec": {
   "display_name": "Python 3 (ipykernel)",
   "language": "python",
   "name": "python3"
  },
  "language_info": {
   "codemirror_mode": {
    "name": "ipython",
    "version": 3
   },
   "file_extension": ".py",
   "mimetype": "text/x-python",
   "name": "python",
   "nbconvert_exporter": "python",
   "pygments_lexer": "ipython3",
   "version": "3.10.14"
  }
 },
 "nbformat": 4,
 "nbformat_minor": 5
}
